{
 "cells": [
  {
   "cell_type": "code",
   "execution_count": null,
   "metadata": {},
   "outputs": [],
   "source": [
    "from datetime import datetime\n",
    "\n",
    "def time_stamp(dirname):\n",
    "    for filename in sorted(glob.glob(dirname + '/*.csv')):\n",
    "        df = pd.read_csv(filename)\n",
    "        path = Path(filename).stem\n",
    "        print(path)\n",
    "\n",
    "        preliminar_date = path\n",
    "        dts = datetime.strptime(preliminar_date, '%d%m%Y')\n",
    "        dts = dts.strftime('%Y-%m-%d')\n",
    "        df['Fecha'] = dts\n",
    "\n",
    "        df.to_csv(dirname  + path + \".csv\",encoding=\"utf-8\", index = False)"
   ]
  },
  {
   "cell_type": "code",
   "execution_count": 6,
   "metadata": {},
   "outputs": [],
   "source": [
    "import pandas as pd\n",
    "from datetime import datetime\n"
   ]
  },
  {
   "cell_type": "code",
   "execution_count": 10,
   "metadata": {},
   "outputs": [],
   "source": [
    "df = pd.read_csv(\"./data_raw/county/2019_2020/df_homicides_daily_fuentesabiertas.csv\")\n",
    "\n",
    "df['Fecha'] = pd.to_datetime(df['Fecha'], errors='coerce')\n"
   ]
  },
  {
   "cell_type": "code",
   "execution_count": 11,
   "metadata": {},
   "outputs": [
    {
     "name": "stdout",
     "output_type": "stream",
     "text": [
      "0        2019-01-01\n",
      "1        2019-01-01\n",
      "2        2019-01-01\n",
      "3        2019-01-01\n",
      "4        2019-01-01\n",
      "            ...    \n",
      "29041    2020-08-31\n",
      "29042    2020-08-31\n",
      "29043    2020-08-31\n",
      "29044    2020-08-31\n",
      "29045    2020-08-31\n",
      "Name: Fecha, Length: 29046, dtype: object\n"
     ]
    }
   ],
   "source": [
    "df['Fecha'] = df['Fecha'].dt.strftime('%Y-%m-%d')\n",
    "df\n",
    "print(df[\"Fecha\"])"
   ]
  },
  {
   "cell_type": "code",
   "execution_count": 13,
   "metadata": {},
   "outputs": [],
   "source": [
    "dirname = \"./data_raw/county/2019_2020/\"\n",
    "df.to_csv(dirname +\"fuentesAbiertas\"  + \".csv\",encoding=\"utf-8\", index = False)"
   ]
  }
 ],
 "metadata": {
  "kernelspec": {
   "display_name": "Python 3",
   "language": "python",
   "name": "python3"
  },
  "language_info": {
   "codemirror_mode": {
    "name": "ipython",
    "version": 3
   },
   "file_extension": ".py",
   "mimetype": "text/x-python",
   "name": "python",
   "nbconvert_exporter": "python",
   "pygments_lexer": "ipython3",
   "version": "3.7.4"
  }
 },
 "nbformat": 4,
 "nbformat_minor": 2
}

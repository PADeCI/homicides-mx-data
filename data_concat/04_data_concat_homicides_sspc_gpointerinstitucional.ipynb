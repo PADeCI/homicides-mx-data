{
 "cells": [
  {
   "cell_type": "markdown",
   "metadata": {},
   "source": [
    "# Concat all data frames "
   ]
  },
  {
   "cell_type": "code",
   "execution_count": 11,
   "metadata": {},
   "outputs": [],
   "source": [
    "#Libraries\n",
    "import glob\n",
    "import pandas as pd"
   ]
  },
  {
   "cell_type": "markdown",
   "metadata": {},
   "source": [
    "## Monthly"
   ]
  },
  {
   "cell_type": "code",
   "execution_count": 12,
   "metadata": {},
   "outputs": [
    {
     "name": "stdout",
     "output_type": "stream",
     "text": [
      "['../data_raw/gpo_interinstitucional/2019_2020/df_homicides_daily_2019_gpointerinstitucional.csv', '../data_raw/gpo_interinstitucional/2019_2020/df_homicides_daily_2020_sspc_fuentesabiertas.csv']\n"
     ]
    }
   ],
   "source": [
    "extension = 'csv'\n",
    "directory = \"../data_raw/gpo_interinstitucional/2019_2020/\"\n",
    "all_filenames = [i for i in sorted(glob.glob(directory + '*.{}'.format(extension)))]\n",
    "print(all_filenames)            "
   ]
  },
  {
   "cell_type": "code",
   "execution_count": 13,
   "metadata": {},
   "outputs": [],
   "source": [
    "combined_csv = pd.concat([pd.read_csv(f) for f in all_filenames ])\n",
    "combined_csv.to_csv( directory +\"df_homicides_daily_2019_2020_sspc_fuentesabiertas.csv\", index=False, encoding='utf-8')\n",
    "\n",
    "\n"
   ]
  },
  {
   "cell_type": "markdown",
   "metadata": {},
   "source": [
    "# Append new month"
   ]
  },
  {
   "cell_type": "code",
   "execution_count": 12,
   "metadata": {},
   "outputs": [],
   "source": [
    "df_anterior = pd.read_csv(\"../data_raw/gpo_interinstitucional/2020/monthly/df_homicides_daily_2019_gpointerinstitucional.csv\")\n",
    "df_nuevo = pd.read_csv(\"../data_raw/gpo_interinstitucional/2020/monthly/09_september_2020.csv\")\n",
    "\n",
    "DF_temp = df_anterior.append(df_nuevo, ignore_index = True)\n"
   ]
  },
  {
   "cell_type": "code",
   "execution_count": 14,
   "metadata": {},
   "outputs": [
    {
     "ename": "NameError",
     "evalue": "name 'DF_temp' is not defined",
     "output_type": "error",
     "traceback": [
      "\u001b[0;31m---------------------------------------------------------------------------\u001b[0m",
      "\u001b[0;31mNameError\u001b[0m                                 Traceback (most recent call last)",
      "\u001b[0;32m<ipython-input-14-4433811d5bad>\u001b[0m in \u001b[0;36m<module>\u001b[0;34m\u001b[0m\n\u001b[1;32m      1\u001b[0m \u001b[0mdirectory\u001b[0m \u001b[0;34m=\u001b[0m \u001b[0;34m\"../data_raw/gpo_interinstitucional/2020/monthly/\"\u001b[0m\u001b[0;34m\u001b[0m\u001b[0;34m\u001b[0m\u001b[0m\n\u001b[1;32m      2\u001b[0m \u001b[0;34m\u001b[0m\u001b[0m\n\u001b[0;32m----> 3\u001b[0;31m \u001b[0mDF_temp\u001b[0m\u001b[0;34m.\u001b[0m\u001b[0mto_csv\u001b[0m\u001b[0;34m(\u001b[0m \u001b[0mdirectory\u001b[0m \u001b[0;34m+\u001b[0m\u001b[0;34m\"df_homicides_daily_2020_gpointerinstitucional.csv\"\u001b[0m\u001b[0;34m,\u001b[0m \u001b[0mindex\u001b[0m\u001b[0;34m=\u001b[0m\u001b[0;32mFalse\u001b[0m\u001b[0;34m,\u001b[0m \u001b[0mencoding\u001b[0m\u001b[0;34m=\u001b[0m\u001b[0;34m'utf-8'\u001b[0m\u001b[0;34m)\u001b[0m\u001b[0;34m\u001b[0m\u001b[0;34m\u001b[0m\u001b[0m\n\u001b[0m",
      "\u001b[0;31mNameError\u001b[0m: name 'DF_temp' is not defined"
     ]
    }
   ],
   "source": [
    "directory = \"../data_raw/gpo_interinstitucional/2020/monthly/\"\n",
    "\n",
    "DF_temp.to_csv( directory +\"df_homicides_daily_2020_gpointerinstitucional.csv\", index=False, encoding='utf-8')\n"
   ]
  },
  {
   "cell_type": "code",
   "execution_count": 16,
   "metadata": {},
   "outputs": [
    {
     "name": "stdout",
     "output_type": "stream",
     "text": [
      "On branch master\r\n",
      "Your branch is up to date with 'origin/master'.\r\n",
      "\r\n",
      "Changes not staged for commit:\r\n",
      "  (use \"git add/rm <file>...\" to update what will be committed)\r\n",
      "  (use \"git restore <file>...\" to discard changes in working directory)\r\n",
      "\t\u001b[31mmodified:   ../data_cleaning/03_data_cleaning_homicides_sspc_gpointerinstitucional.ipynb\u001b[m\r\n",
      "\t\u001b[31mmodified:   ../data_cleaning/04_data_cleaning_homicides_sspc_fuentesabiertas.ipynb\u001b[m\r\n",
      "\t\u001b[31mmodified:   ../data_cleaning/05_data_names_homicides_sspc_fuentesabiertas.ipynb\u001b[m\r\n",
      "\t\u001b[31mmodified:   04_data_concat_homicides_sspc_gpointerinstitucional.ipynb\u001b[m\r\n",
      "\t\u001b[31mmodified:   06_data_concat_homicides_sspc_fuentesabiertas.ipynb\u001b[m\r\n",
      "\t\u001b[31mdeleted:    ../data_download/data_source/fuentes_abiertas/01112020.pdf\u001b[m\r\n",
      "\t\u001b[31mdeleted:    ../data_download/data_source/fuentes_abiertas/02112020.pdf\u001b[m\r\n",
      "\t\u001b[31mdeleted:    ../data_download/data_source/fuentes_abiertas/03112020.pdf\u001b[m\r\n",
      "\t\u001b[31mdeleted:    ../data_download/data_source/fuentes_abiertas/04112020.pdf\u001b[m\r\n",
      "\t\u001b[31mdeleted:    ../data_download/data_source/fuentes_abiertas/05112020.pdf\u001b[m\r\n",
      "\t\u001b[31mdeleted:    ../data_download/data_source/fuentes_abiertas/06112020.pdf\u001b[m\r\n",
      "\t\u001b[31mdeleted:    ../data_download/data_source/fuentes_abiertas/07112020.pdf\u001b[m\r\n",
      "\t\u001b[31mdeleted:    ../data_download/data_source/fuentes_abiertas/08112020.pdf\u001b[m\r\n",
      "\t\u001b[31mdeleted:    ../data_download/data_source/fuentes_abiertas/09112020.pdf\u001b[m\r\n",
      "\t\u001b[31mdeleted:    ../data_download/data_source/fuentes_abiertas/10112020.pdf\u001b[m\r\n",
      "\t\u001b[31mdeleted:    ../data_download/data_source/fuentes_abiertas/11112020.pdf\u001b[m\r\n",
      "\t\u001b[31mdeleted:    ../data_download/data_source/fuentes_abiertas/12112020.pdf\u001b[m\r\n",
      "\t\u001b[31mdeleted:    ../data_download/data_source/fuentes_abiertas/13112020.pdf\u001b[m\r\n",
      "\t\u001b[31mdeleted:    ../data_download/data_source/fuentes_abiertas/14112020.pdf\u001b[m\r\n",
      "\t\u001b[31mdeleted:    ../data_download/data_source/fuentes_abiertas/15112020.pdf\u001b[m\r\n",
      "\t\u001b[31mdeleted:    ../data_download/data_source/fuentes_abiertas/16112020.pdf\u001b[m\r\n",
      "\t\u001b[31mdeleted:    ../data_download/data_source/fuentes_abiertas/17112020.pdf\u001b[m\r\n",
      "\t\u001b[31mdeleted:    ../data_download/data_source/fuentes_abiertas/18112020.pdf\u001b[m\r\n",
      "\t\u001b[31mdeleted:    ../data_download/data_source/fuentes_abiertas/19112020.pdf\u001b[m\r\n",
      "\t\u001b[31mdeleted:    ../data_download/data_source/fuentes_abiertas/20112020.pdf\u001b[m\r\n",
      "\t\u001b[31mdeleted:    ../data_download/data_source/fuentes_abiertas/21112020.pdf\u001b[m\r\n",
      "\t\u001b[31mdeleted:    ../data_download/data_source/fuentes_abiertas/22112020.pdf\u001b[m\r\n",
      "\t\u001b[31mdeleted:    ../data_download/data_source/fuentes_abiertas/23112020.pdf\u001b[m\r\n",
      "\t\u001b[31mdeleted:    ../data_download/data_source/fuentes_abiertas/24112020.pdf\u001b[m\r\n",
      "\t\u001b[31mdeleted:    ../data_download/data_source/fuentes_abiertas/25112020.pdf\u001b[m\r\n",
      "\t\u001b[31mdeleted:    ../data_download/data_source/fuentes_abiertas/26112020.pdf\u001b[m\r\n",
      "\t\u001b[31mdeleted:    ../data_download/data_source/fuentes_abiertas/27112020.pdf\u001b[m\r\n",
      "\t\u001b[31mdeleted:    ../data_download/data_source/fuentes_abiertas/28112020.pdf\u001b[m\r\n",
      "\t\u001b[31mdeleted:    ../data_download/data_source/fuentes_abiertas/29112020.pdf\u001b[m\r\n",
      "\t\u001b[31mdeleted:    ../data_download/data_source/gpo_interinstitucional/01112020.pdf\u001b[m\r\n",
      "\t\u001b[31mdeleted:    ../data_download/data_source/gpo_interinstitucional/02112020.pdf\u001b[m\r\n",
      "\t\u001b[31mdeleted:    ../data_download/data_source/gpo_interinstitucional/03112020.pdf\u001b[m\r\n",
      "\t\u001b[31mdeleted:    ../data_download/data_source/gpo_interinstitucional/04112020.pdf\u001b[m\r\n",
      "\t\u001b[31mdeleted:    ../data_download/data_source/gpo_interinstitucional/05112020.pdf\u001b[m\r\n",
      "\t\u001b[31mdeleted:    ../data_download/data_source/gpo_interinstitucional/06112020.pdf\u001b[m\r\n",
      "\t\u001b[31mdeleted:    ../data_download/data_source/gpo_interinstitucional/07112020.pdf\u001b[m\r\n",
      "\t\u001b[31mdeleted:    ../data_download/data_source/gpo_interinstitucional/08112020.pdf\u001b[m\r\n",
      "\t\u001b[31mdeleted:    ../data_download/data_source/gpo_interinstitucional/09112020.pdf\u001b[m\r\n",
      "\t\u001b[31mdeleted:    ../data_download/data_source/gpo_interinstitucional/10112020.pdf\u001b[m\r\n",
      "\t\u001b[31mdeleted:    ../data_download/data_source/gpo_interinstitucional/11112020.pdf\u001b[m\r\n",
      "\t\u001b[31mdeleted:    ../data_download/data_source/gpo_interinstitucional/12112020.pdf\u001b[m\r\n",
      "\t\u001b[31mdeleted:    ../data_download/data_source/gpo_interinstitucional/13112020.pdf\u001b[m\r\n",
      "\t\u001b[31mdeleted:    ../data_download/data_source/gpo_interinstitucional/14112020.pdf\u001b[m\r\n",
      "\t\u001b[31mdeleted:    ../data_download/data_source/gpo_interinstitucional/15112020.pdf\u001b[m\r\n",
      "\t\u001b[31mdeleted:    ../data_download/data_source/gpo_interinstitucional/16112020.pdf\u001b[m\r\n",
      "\t\u001b[31mdeleted:    ../data_download/data_source/gpo_interinstitucional/17112020.pdf\u001b[m\r\n",
      "\t\u001b[31mdeleted:    ../data_download/data_source/gpo_interinstitucional/18112020.pdf\u001b[m\r\n",
      "\t\u001b[31mdeleted:    ../data_download/data_source/gpo_interinstitucional/19112020.pdf\u001b[m\r\n",
      "\t\u001b[31mdeleted:    ../data_download/data_source/gpo_interinstitucional/20112020.pdf\u001b[m\r\n",
      "\t\u001b[31mdeleted:    ../data_download/data_source/gpo_interinstitucional/21112020.pdf\u001b[m\r\n",
      "\t\u001b[31mdeleted:    ../data_download/data_source/gpo_interinstitucional/22112020.pdf\u001b[m\r\n",
      "\t\u001b[31mdeleted:    ../data_download/data_source/gpo_interinstitucional/23112020.pdf\u001b[m\r\n",
      "\t\u001b[31mdeleted:    ../data_download/data_source/gpo_interinstitucional/24112020.pdf\u001b[m\r\n",
      "\t\u001b[31mdeleted:    ../data_download/data_source/gpo_interinstitucional/25112020.pdf\u001b[m\r\n",
      "\t\u001b[31mdeleted:    ../data_download/data_source/gpo_interinstitucional/26112020.pdf\u001b[m\r\n",
      "\t\u001b[31mdeleted:    ../data_download/data_source/gpo_interinstitucional/27112020.pdf\u001b[m\r\n",
      "\t\u001b[31mdeleted:    ../data_download/data_source/gpo_interinstitucional/28112020.pdf\u001b[m\r\n",
      "\t\u001b[31mdeleted:    ../data_download/data_source/gpo_interinstitucional/29112020.pdf\u001b[m\r\n",
      "\t\u001b[31mmodified:   ../data_extraction/02_data_extraction_homicides_sspc_fuentesabiertas.ipynb\u001b[m\r\n",
      "\t\u001b[31mmodified:   ../data_extraction/02_data_extraction_homicides_sspc_gpointerinsitucional.ipynb\u001b[m\r\n",
      "\t\u001b[31mmodified:   ../data_raw/fuentes_abiertas/03_data_concatenation_homicides_sspc_fuentesabiertas.ipynb\u001b[m\r\n",
      "\t\u001b[31mmodified:   ../data_raw/fuentes_abiertas/2019_2020/df_homicides_daily_2019_2020_sspc_fuentesabiertas.csv\u001b[m\r\n",
      "\t\u001b[31mmodified:   ../data_raw/fuentes_abiertas/2020/Monthly/df_homicides_daily_2020_sspc_fuentesabiertas.csv\u001b[m\r\n",
      "\t\u001b[31mdeleted:    ../data_raw/gpo_interinstitucional/2019_2020/df_homicides_daily_2019_2020_gpointerinstitucional.csv\u001b[m\r\n",
      "\t\u001b[31mmodified:   ../data_raw/gpo_interinstitucional/2020/monthly/01_january_2020.csv\u001b[m\r\n",
      "\t\u001b[31mdeleted:    ../data_raw/gpo_interinstitucional/2020/monthly/df_homicides_daily_2020_gpointerinstitucional.csv\u001b[m\r\n",
      "\r\n",
      "Untracked files:\r\n",
      "  (use \"git add <file>...\" to include in what will be committed)\r\n",
      "\t\u001b[31m../data_raw/fuentes_abiertas/2020/monthly/11_november_2020.csv\u001b[m\r\n",
      "\t\u001b[31m../data_raw/fuentes_abiertas/2020/november/\u001b[m\r\n",
      "\t\u001b[31m../data_raw/gpo_interinstitucional/2019_2020/df_homicides_daily_2019_2020_sspc_gpointerinstitucional.csv\u001b[m\r\n",
      "\t\u001b[31m../data_raw/gpo_interinstitucional/2020/monthly/11_november_2020.csv\u001b[m\r\n",
      "\t\u001b[31m../data_raw/gpo_interinstitucional/2020/monthly/df_homicides_daily_2020_sspc_fuentesabiertas.csv\u001b[m\r\n",
      "\t\u001b[31m../data_raw/gpo_interinstitucional/2020/november/\u001b[m\r\n",
      "\r\n",
      "no changes added to commit (use \"git add\" and/or \"git commit -a\")\r\n"
     ]
    }
   ],
   "source": [
    "!git a"
   ]
  }
 ],
 "metadata": {
  "kernelspec": {
   "display_name": "Python 3",
   "language": "python",
   "name": "python3"
  },
  "language_info": {
   "codemirror_mode": {
    "name": "ipython",
    "version": 3
   },
   "file_extension": ".py",
   "mimetype": "text/x-python",
   "name": "python",
   "nbconvert_exporter": "python",
   "pygments_lexer": "ipython3",
   "version": "3.7.4"
  }
 },
 "nbformat": 4,
 "nbformat_minor": 2
}

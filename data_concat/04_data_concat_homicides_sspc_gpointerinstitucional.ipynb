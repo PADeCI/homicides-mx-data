{
 "cells": [
  {
   "cell_type": "markdown",
   "metadata": {},
   "source": [
    "# Concat all data frames "
   ]
  },
  {
   "cell_type": "code",
   "execution_count": 1,
   "metadata": {},
   "outputs": [],
   "source": [
    "#Libraries\n",
    "import glob\n",
    "import pandas as pd"
   ]
  },
  {
   "cell_type": "markdown",
   "metadata": {},
   "source": [
    "## Monthly"
   ]
  },
  {
   "cell_type": "code",
   "execution_count": 3,
   "metadata": {},
   "outputs": [
    {
     "name": "stdout",
     "output_type": "stream",
     "text": [
      "['../data_raw/gpo_interinstitucional/2020/october/01102020.csv', '../data_raw/gpo_interinstitucional/2020/october/02102020.csv', '../data_raw/gpo_interinstitucional/2020/october/03102020.csv', '../data_raw/gpo_interinstitucional/2020/october/04102020.csv', '../data_raw/gpo_interinstitucional/2020/october/05102020.csv', '../data_raw/gpo_interinstitucional/2020/october/06102020.csv', '../data_raw/gpo_interinstitucional/2020/october/07102020.csv', '../data_raw/gpo_interinstitucional/2020/october/08102020.csv', '../data_raw/gpo_interinstitucional/2020/october/09102020.csv', '../data_raw/gpo_interinstitucional/2020/october/10102020.csv', '../data_raw/gpo_interinstitucional/2020/october/11102020.csv', '../data_raw/gpo_interinstitucional/2020/october/12102020.csv', '../data_raw/gpo_interinstitucional/2020/october/13102020.csv', '../data_raw/gpo_interinstitucional/2020/october/14102020.csv', '../data_raw/gpo_interinstitucional/2020/october/15102020.csv', '../data_raw/gpo_interinstitucional/2020/october/16102020.csv', '../data_raw/gpo_interinstitucional/2020/october/17102020.csv', '../data_raw/gpo_interinstitucional/2020/october/18102020.csv', '../data_raw/gpo_interinstitucional/2020/october/19102020.csv', '../data_raw/gpo_interinstitucional/2020/october/20102020.csv', '../data_raw/gpo_interinstitucional/2020/october/21102020.csv', '../data_raw/gpo_interinstitucional/2020/october/22102020.csv', '../data_raw/gpo_interinstitucional/2020/october/23102020.csv', '../data_raw/gpo_interinstitucional/2020/october/24102020.csv', '../data_raw/gpo_interinstitucional/2020/october/25102020.csv', '../data_raw/gpo_interinstitucional/2020/october/26102020.csv', '../data_raw/gpo_interinstitucional/2020/october/27102020.csv', '../data_raw/gpo_interinstitucional/2020/october/28102020.csv', '../data_raw/gpo_interinstitucional/2020/october/29102020.csv', '../data_raw/gpo_interinstitucional/2020/october/30102020.csv', '../data_raw/gpo_interinstitucional/2020/october/31102020.csv']\n"
     ]
    }
   ],
   "source": [
    "extension = 'csv'\n",
    "directory = \"../data_raw/gpo_interinstitucional/2020/october/\"\n",
    "all_filenames = [i for i in sorted(glob.glob(directory + '*.{}'.format(extension)))]\n",
    "print(all_filenames)            "
   ]
  },
  {
   "cell_type": "code",
   "execution_count": 4,
   "metadata": {},
   "outputs": [],
   "source": [
    "combined_csv = pd.concat([pd.read_csv(f) for f in all_filenames ])\n",
    "combined_csv.to_csv( directory +\"df_october.csv\", index=False, encoding='utf-8')\n",
    "\n",
    "\n"
   ]
  },
  {
   "cell_type": "markdown",
   "metadata": {},
   "source": [
    "# Append new month"
   ]
  },
  {
   "cell_type": "code",
   "execution_count": 12,
   "metadata": {},
   "outputs": [],
   "source": [
    "df_anterior = pd.read_csv(\"../data_raw/gpo_interinstitucional/2020/monthly/df_homicides_daily_2019_gpointerinstitucional.csv\")\n",
    "df_nuevo = pd.read_csv(\"../data_raw/gpo_interinstitucional/2020/monthly/09_september_2020.csv\")\n",
    "\n",
    "DF_temp = df_anterior.append(df_nuevo, ignore_index = True)\n"
   ]
  },
  {
   "cell_type": "code",
   "execution_count": 16,
   "metadata": {},
   "outputs": [],
   "source": [
    "directory = \"../data_raw/gpo_interinstitucional/2020/monthly/\"\n",
    "\n",
    "DF_temp.to_csv( directory +\"df_homicides_daily_2020_gpointerinstitucional.csv\", index=False, encoding='utf-8')\n"
   ]
  }
 ],
 "metadata": {
  "kernelspec": {
   "display_name": "Python 3",
   "language": "python",
   "name": "python3"
  },
  "language_info": {
   "codemirror_mode": {
    "name": "ipython",
    "version": 3
   },
   "file_extension": ".py",
   "mimetype": "text/x-python",
   "name": "python",
   "nbconvert_exporter": "python",
   "pygments_lexer": "ipython3",
   "version": "3.7.4"
  }
 },
 "nbformat": 4,
 "nbformat_minor": 2
}

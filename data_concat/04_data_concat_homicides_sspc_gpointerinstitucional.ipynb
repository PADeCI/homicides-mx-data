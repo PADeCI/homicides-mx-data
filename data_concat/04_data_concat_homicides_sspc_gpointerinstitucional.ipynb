{
 "cells": [
  {
   "cell_type": "markdown",
   "metadata": {},
   "source": [
    "# Concat all data frames "
   ]
  },
  {
   "cell_type": "code",
   "execution_count": 2,
   "metadata": {},
   "outputs": [],
   "source": [
    "#Libraries\n",
    "import glob\n",
    "import pandas as pd"
   ]
  },
  {
   "cell_type": "markdown",
   "metadata": {},
   "source": [
    "## Monthly"
   ]
  },
  {
   "cell_type": "code",
   "execution_count": 14,
   "metadata": {},
   "outputs": [
    {
     "name": "stdout",
     "output_type": "stream",
     "text": [
      "['../data_raw/fuentes_abiertas/2019_2020/df_homicides_daily_2019_sspc_fuentesabiertas.csv', '../data_raw/fuentes_abiertas/2019_2020/df_homicides_daily_2020_sspc_fuentesabiertas.csv']\n"
     ]
    }
   ],
   "source": [
    "extension = 'csv'\n",
    "directory = \"../data_raw/fuentes_abiertas/2019_2020/\"\n",
    "all_filenames = [i for i in sorted(glob.glob(directory + '*.{}'.format(extension)))]\n",
    "print(all_filenames)            "
   ]
  },
  {
   "cell_type": "code",
   "execution_count": 15,
   "metadata": {},
   "outputs": [],
   "source": [
    "combined_csv = pd.concat([pd.read_csv(f) for f in all_filenames ])\n",
    "combined_csv.to_csv( directory +\"df_homicides_daily_2019_2020_sspc_fuentesabiertas.csv\", index=False, encoding='utf-8')\n",
    "#combined_csv.to_csv( directory +\"12_december_2020_sspc_fuentesabiertas.csv\", index=False, encoding='utf-8')\n",
    "\n",
    "\n"
   ]
  },
  {
   "cell_type": "markdown",
   "metadata": {},
   "source": [
    "# Append new month"
   ]
  },
  {
   "cell_type": "code",
   "execution_count": 12,
   "metadata": {},
   "outputs": [],
   "source": [
    "df_anterior = pd.read_csv(\"../data_raw/gpo_interinstitucional/2020/monthly/df_homicides_daily_2019_gpointerinstitucional.csv\")\n",
    "df_nuevo = pd.read_csv(\"../data_raw/gpo_interinstitucional/2020/monthly/09_september_2020.csv\")\n",
    "\n",
    "DF_temp = df_anterior.append(df_nuevo, ignore_index = True)\n"
   ]
  },
  {
   "cell_type": "code",
   "execution_count": 14,
   "metadata": {},
   "outputs": [
    {
     "ename": "NameError",
     "evalue": "name 'DF_temp' is not defined",
     "output_type": "error",
     "traceback": [
      "\u001b[0;31m---------------------------------------------------------------------------\u001b[0m",
      "\u001b[0;31mNameError\u001b[0m                                 Traceback (most recent call last)",
      "\u001b[0;32m<ipython-input-14-4433811d5bad>\u001b[0m in \u001b[0;36m<module>\u001b[0;34m\u001b[0m\n\u001b[1;32m      1\u001b[0m \u001b[0mdirectory\u001b[0m \u001b[0;34m=\u001b[0m \u001b[0;34m\"../data_raw/gpo_interinstitucional/2020/monthly/\"\u001b[0m\u001b[0;34m\u001b[0m\u001b[0;34m\u001b[0m\u001b[0m\n\u001b[1;32m      2\u001b[0m \u001b[0;34m\u001b[0m\u001b[0m\n\u001b[0;32m----> 3\u001b[0;31m \u001b[0mDF_temp\u001b[0m\u001b[0;34m.\u001b[0m\u001b[0mto_csv\u001b[0m\u001b[0;34m(\u001b[0m \u001b[0mdirectory\u001b[0m \u001b[0;34m+\u001b[0m\u001b[0;34m\"df_homicides_daily_2020_gpointerinstitucional.csv\"\u001b[0m\u001b[0;34m,\u001b[0m \u001b[0mindex\u001b[0m\u001b[0;34m=\u001b[0m\u001b[0;32mFalse\u001b[0m\u001b[0;34m,\u001b[0m \u001b[0mencoding\u001b[0m\u001b[0;34m=\u001b[0m\u001b[0;34m'utf-8'\u001b[0m\u001b[0;34m)\u001b[0m\u001b[0;34m\u001b[0m\u001b[0;34m\u001b[0m\u001b[0m\n\u001b[0m",
      "\u001b[0;31mNameError\u001b[0m: name 'DF_temp' is not defined"
     ]
    }
   ],
   "source": [
    "directory = \"../data_raw/gpo_interinstitucional/2020/monthly/\"\n",
    "\n",
    "DF_temp.to_csv( directory +\"df_homicides_daily_2020_gpointerinstitucional.csv\", index=False, encoding='utf-8')\n"
   ]
  },
  {
   "cell_type": "code",
   "execution_count": 19,
   "metadata": {},
   "outputs": [
    {
     "name": "stdout",
     "output_type": "stream",
     "text": [
      "Enumerating objects: 9, done.\n",
      "Counting objects: 100% (9/9), done.\n",
      "Delta compression using up to 4 threads\n",
      "Compressing objects: 100% (5/5), done.\n",
      "Writing objects: 100% (5/5), 2.26 KiB | 2.26 MiB/s, done.\n",
      "Total 5 (delta 3), reused 0 (delta 0)\n",
      "remote: Resolving deltas: 100% (3/3), completed with 3 local objects.\u001b[K\n",
      "To https://github.com/PADeCI/homicides-mx-data.git\n",
      "   c198b68..832dd15  master -> master\n"
     ]
    }
   ],
   "source": [
    "!git push"
   ]
  }
 ],
 "metadata": {
  "kernelspec": {
   "display_name": "Python 3",
   "language": "python",
   "name": "python3"
  },
  "language_info": {
   "codemirror_mode": {
    "name": "ipython",
    "version": 3
   },
   "file_extension": ".py",
   "mimetype": "text/x-python",
   "name": "python",
   "nbconvert_exporter": "python",
   "pygments_lexer": "ipython3",
   "version": "3.7.4"
  }
 },
 "nbformat": 4,
 "nbformat_minor": 2
}

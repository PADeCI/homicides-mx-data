{
 "cells": [
  {
   "cell_type": "markdown",
   "metadata": {},
   "source": [
    "# Concat all data frames "
   ]
  },
  {
   "cell_type": "code",
   "execution_count": 2,
   "metadata": {},
   "outputs": [],
   "source": [
    "#Libraries\n",
    "import glob\n",
    "import pandas as pd"
   ]
  },
  {
   "cell_type": "markdown",
   "metadata": {},
   "source": [
    "## Monthly"
   ]
  },
  {
   "cell_type": "code",
   "execution_count": 42,
   "metadata": {},
   "outputs": [
    {
     "name": "stdout",
     "output_type": "stream",
     "text": [
      "['../data_raw/fuentes_abiertas/2019_2020/df_homicides_daily_2019_sspc_fuentesabiertas.csv', '../data_raw/fuentes_abiertas/2019_2020/df_homicides_daily_2020_sspc_fuentesabiertas.csv']\n"
     ]
    }
   ],
   "source": [
    "extension = 'csv'\n",
    "directory = \"../data_raw/fuentes_abiertas/2019_2020/\"\n",
    "all_filenames = [i for i in sorted(glob.glob(directory + '*.{}'.format(extension)))]\n",
    "print(all_filenames)            "
   ]
  },
  {
   "cell_type": "code",
   "execution_count": 43,
   "metadata": {},
   "outputs": [],
   "source": [
    "combined_csv = pd.concat([pd.read_csv(f) for f in all_filenames ])\n",
    "combined_csv.to_csv( directory +\"df_homicides_daily_2019_2020_sspc_fuentesabiertas.csv\", index=False, encoding='utf-8')\n",
    "\n",
    "\n"
   ]
  },
  {
   "cell_type": "markdown",
   "metadata": {},
   "source": [
    "## Daily"
   ]
  },
  {
   "cell_type": "code",
   "execution_count": 26,
   "metadata": {},
   "outputs": [
    {
     "name": "stdout",
     "output_type": "stream",
     "text": [
      "['../data_raw/fuentes_abiertas/2020/july/01072020.csv', '../data_raw/fuentes_abiertas/2020/july/02072020.csv', '../data_raw/fuentes_abiertas/2020/july/03072020.csv', '../data_raw/fuentes_abiertas/2020/july/04072020.csv', '../data_raw/fuentes_abiertas/2020/july/05072020.csv', '../data_raw/fuentes_abiertas/2020/july/06072020.csv', '../data_raw/fuentes_abiertas/2020/july/07072020.csv', '../data_raw/fuentes_abiertas/2020/july/08072020.csv', '../data_raw/fuentes_abiertas/2020/july/09072020.csv', '../data_raw/fuentes_abiertas/2020/july/10072020.csv', '../data_raw/fuentes_abiertas/2020/july/11072020.csv', '../data_raw/fuentes_abiertas/2020/july/12072020.csv', '../data_raw/fuentes_abiertas/2020/july/13072020.csv', '../data_raw/fuentes_abiertas/2020/july/14072020.csv', '../data_raw/fuentes_abiertas/2020/july/15072020.csv', '../data_raw/fuentes_abiertas/2020/july/16072020.csv', '../data_raw/fuentes_abiertas/2020/july/17072020.csv', '../data_raw/fuentes_abiertas/2020/july/18072020.csv', '../data_raw/fuentes_abiertas/2020/july/19072020.csv', '../data_raw/fuentes_abiertas/2020/july/20072020.csv', '../data_raw/fuentes_abiertas/2020/july/21072020.csv', '../data_raw/fuentes_abiertas/2020/july/22072020.csv', '../data_raw/fuentes_abiertas/2020/july/23072020.csv', '../data_raw/fuentes_abiertas/2020/july/24072020.csv', '../data_raw/fuentes_abiertas/2020/july/25072020.csv', '../data_raw/fuentes_abiertas/2020/july/26072020.csv', '../data_raw/fuentes_abiertas/2020/july/27072020.csv', '../data_raw/fuentes_abiertas/2020/july/28072020.csv', '../data_raw/fuentes_abiertas/2020/july/29072020.csv', '../data_raw/fuentes_abiertas/2020/july/30072020.csv', '../data_raw/fuentes_abiertas/2020/july/31072020.csv']\n"
     ]
    }
   ],
   "source": [
    "extension = 'csv'\n",
    "directory = \"../data_raw/fuentes_abiertas/2020/ju/\"\n",
    "all_filenames = [i for i in sorted(glob.glob(directory + '*.{}'.format(extension)))]\n",
    "print(all_filenames)"
   ]
  },
  {
   "cell_type": "code",
   "execution_count": 27,
   "metadata": {},
   "outputs": [],
   "source": [
    "combined_csv = pd.concat([pd.read_csv(f) for f in all_filenames ])\n",
    "combined_csv.to_csv( directory +\"07_july_2020.csv\", index=False, encoding='utf-8')\n"
   ]
  }
 ],
 "metadata": {
  "kernelspec": {
   "display_name": "Python 3",
   "language": "python",
   "name": "python3"
  },
  "language_info": {
   "codemirror_mode": {
    "name": "ipython",
    "version": 3
   },
   "file_extension": ".py",
   "mimetype": "text/x-python",
   "name": "python",
   "nbconvert_exporter": "python",
   "pygments_lexer": "ipython3",
   "version": "3.7.4"
  }
 },
 "nbformat": 4,
 "nbformat_minor": 2
}

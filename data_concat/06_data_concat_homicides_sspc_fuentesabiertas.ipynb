{
 "cells": [
  {
   "cell_type": "markdown",
   "metadata": {},
   "source": [
    "# Concat all data frames "
   ]
  },
  {
   "cell_type": "code",
   "execution_count": 1,
   "metadata": {},
   "outputs": [],
   "source": [
    "#Libraries\n",
    "import glob\n",
    "import pandas as pd"
   ]
  },
  {
   "cell_type": "markdown",
   "metadata": {},
   "source": [
    "## Monthly"
   ]
  },
  {
   "cell_type": "code",
   "execution_count": 4,
   "metadata": {},
   "outputs": [
    {
     "name": "stdout",
     "output_type": "stream",
     "text": [
      "['../data_raw/fuentes_abiertas/2020/monthly/01_january_2020.csv', '../data_raw/fuentes_abiertas/2020/monthly/02_february_2020.csv', '../data_raw/fuentes_abiertas/2020/monthly/03_march_2020.csv', '../data_raw/fuentes_abiertas/2020/monthly/04_april_2020.csv', '../data_raw/fuentes_abiertas/2020/monthly/05_may_2020.csv', '../data_raw/fuentes_abiertas/2020/monthly/06_june_2020.csv', '../data_raw/fuentes_abiertas/2020/monthly/07_july_2020.csv', '../data_raw/fuentes_abiertas/2020/monthly/08_august_2020.csv', '../data_raw/fuentes_abiertas/2020/monthly/10_september_2020.csv']\n"
     ]
    }
   ],
   "source": [
    "extension = 'csv'\n",
    "directory = \"../data_raw/fuentes_abiertas/2020/monthly/\"\n",
    "all_filenames = [i for i in sorted(glob.glob(directory + '*.{}'.format(extension)))]\n",
    "print(all_filenames)            "
   ]
  },
  {
   "cell_type": "code",
   "execution_count": 5,
   "metadata": {},
   "outputs": [],
   "source": [
    "combined_csv = pd.concat([pd.read_csv(f) for f in all_filenames ])\n",
    "combined_csv.to_csv( directory +\"df_homicides_daily_2020_sspc_fuentesabiertas.csv\", index=False, encoding='utf-8')\n",
    "\n",
    "\n"
   ]
  },
  {
   "cell_type": "markdown",
   "metadata": {},
   "source": [
    "## Daily"
   ]
  },
  {
   "cell_type": "code",
   "execution_count": 2,
   "metadata": {},
   "outputs": [
    {
     "name": "stdout",
     "output_type": "stream",
     "text": [
      "['../data_raw/fuentes_abiertas/2020/october/01102020.csv', '../data_raw/fuentes_abiertas/2020/october/02102020.csv', '../data_raw/fuentes_abiertas/2020/october/03102020.csv', '../data_raw/fuentes_abiertas/2020/october/04102020.csv', '../data_raw/fuentes_abiertas/2020/october/05102020.csv', '../data_raw/fuentes_abiertas/2020/october/06102020.csv', '../data_raw/fuentes_abiertas/2020/october/07102020.csv', '../data_raw/fuentes_abiertas/2020/october/08102020.csv', '../data_raw/fuentes_abiertas/2020/october/09102020.csv', '../data_raw/fuentes_abiertas/2020/october/10102020.csv', '../data_raw/fuentes_abiertas/2020/october/11102020.csv', '../data_raw/fuentes_abiertas/2020/october/12102020.csv', '../data_raw/fuentes_abiertas/2020/october/13102020.csv', '../data_raw/fuentes_abiertas/2020/october/14102020.csv', '../data_raw/fuentes_abiertas/2020/october/15102020.csv', '../data_raw/fuentes_abiertas/2020/october/16102020.csv', '../data_raw/fuentes_abiertas/2020/october/17102020.csv', '../data_raw/fuentes_abiertas/2020/october/18102020.csv', '../data_raw/fuentes_abiertas/2020/october/19102020.csv', '../data_raw/fuentes_abiertas/2020/october/20102020.csv', '../data_raw/fuentes_abiertas/2020/october/21102020.csv', '../data_raw/fuentes_abiertas/2020/october/22102020.csv', '../data_raw/fuentes_abiertas/2020/october/23102020.csv', '../data_raw/fuentes_abiertas/2020/october/24102020.csv', '../data_raw/fuentes_abiertas/2020/october/25102020.csv', '../data_raw/fuentes_abiertas/2020/october/26102020.csv', '../data_raw/fuentes_abiertas/2020/october/27102020.csv', '../data_raw/fuentes_abiertas/2020/october/28102020.csv', '../data_raw/fuentes_abiertas/2020/october/29102020.csv', '../data_raw/fuentes_abiertas/2020/october/30102020.csv', '../data_raw/fuentes_abiertas/2020/october/31102020.csv']\n"
     ]
    }
   ],
   "source": [
    "extension = 'csv'\n",
    "directory = \"../data_raw/fuentes_abiertas/2020/october/\"\n",
    "all_filenames = [i for i in sorted(glob.glob(directory + '*.{}'.format(extension)))]\n",
    "print(all_filenames)"
   ]
  },
  {
   "cell_type": "code",
   "execution_count": 3,
   "metadata": {},
   "outputs": [],
   "source": [
    "combined_csv = pd.concat([pd.read_csv(f) for f in all_filenames ])\n",
    "combined_csv.to_csv( directory +\"10_october_2020.csv\", index=False, encoding='utf-8')\n"
   ]
  },
  {
   "cell_type": "markdown",
   "metadata": {},
   "source": [
    "## Append"
   ]
  },
  {
   "cell_type": "code",
   "execution_count": 19,
   "metadata": {},
   "outputs": [],
   "source": [
    "df_anterior = pd.read_csv(\"../data_raw/fuentes_abiertas/2019_2020/df_homicides_daily_2019_2020_sspc_fuentesabiertas.csv\")\n",
    "df_nuevo = pd.read_csv(\"../data_raw/fuentes_abiertas/2020/monthly/09_september_2020.csv\")\n",
    "\n",
    "DF_temp = df_anterior.append(df_nuevo, ignore_index = True)\n"
   ]
  },
  {
   "cell_type": "code",
   "execution_count": 18,
   "metadata": {},
   "outputs": [
    {
     "data": {
      "text/html": [
       "<div>\n",
       "<style scoped>\n",
       "    .dataframe tbody tr th:only-of-type {\n",
       "        vertical-align: middle;\n",
       "    }\n",
       "\n",
       "    .dataframe tbody tr th {\n",
       "        vertical-align: top;\n",
       "    }\n",
       "\n",
       "    .dataframe thead th {\n",
       "        text-align: right;\n",
       "    }\n",
       "</style>\n",
       "<table border=\"1\" class=\"dataframe\">\n",
       "  <thead>\n",
       "    <tr style=\"text-align: right;\">\n",
       "      <th></th>\n",
       "      <th>Entidad</th>\n",
       "      <th>Homicidios</th>\n",
       "      <th>Fecha</th>\n",
       "    </tr>\n",
       "  </thead>\n",
       "  <tbody>\n",
       "    <tr>\n",
       "      <th>0</th>\n",
       "      <td>Aguascalientes</td>\n",
       "      <td>0.0</td>\n",
       "      <td>2020-09-01</td>\n",
       "    </tr>\n",
       "    <tr>\n",
       "      <th>1</th>\n",
       "      <td>Baja California</td>\n",
       "      <td>6.0</td>\n",
       "      <td>2020-09-01</td>\n",
       "    </tr>\n",
       "    <tr>\n",
       "      <th>2</th>\n",
       "      <td>Baja California Sur</td>\n",
       "      <td>1.0</td>\n",
       "      <td>2020-09-01</td>\n",
       "    </tr>\n",
       "    <tr>\n",
       "      <th>3</th>\n",
       "      <td>Campeche</td>\n",
       "      <td>0.0</td>\n",
       "      <td>2020-09-01</td>\n",
       "    </tr>\n",
       "    <tr>\n",
       "      <th>4</th>\n",
       "      <td>Chiapas</td>\n",
       "      <td>1.0</td>\n",
       "      <td>2020-09-01</td>\n",
       "    </tr>\n",
       "    <tr>\n",
       "      <th>...</th>\n",
       "      <td>...</td>\n",
       "      <td>...</td>\n",
       "      <td>...</td>\n",
       "    </tr>\n",
       "    <tr>\n",
       "      <th>955</th>\n",
       "      <td>Tamaulipas</td>\n",
       "      <td>1.0</td>\n",
       "      <td>2020-09-30</td>\n",
       "    </tr>\n",
       "    <tr>\n",
       "      <th>956</th>\n",
       "      <td>Tlaxcala</td>\n",
       "      <td>0.0</td>\n",
       "      <td>2020-09-30</td>\n",
       "    </tr>\n",
       "    <tr>\n",
       "      <th>957</th>\n",
       "      <td>Veracruz</td>\n",
       "      <td>0.0</td>\n",
       "      <td>2020-09-30</td>\n",
       "    </tr>\n",
       "    <tr>\n",
       "      <th>958</th>\n",
       "      <td>Yucatán</td>\n",
       "      <td>0.0</td>\n",
       "      <td>2020-09-30</td>\n",
       "    </tr>\n",
       "    <tr>\n",
       "      <th>959</th>\n",
       "      <td>Zacatecas</td>\n",
       "      <td>7.0</td>\n",
       "      <td>2020-09-30</td>\n",
       "    </tr>\n",
       "  </tbody>\n",
       "</table>\n",
       "<p>960 rows × 3 columns</p>\n",
       "</div>"
      ],
      "text/plain": [
       "                 Entidad  Homicidios       Fecha\n",
       "0         Aguascalientes         0.0  2020-09-01\n",
       "1        Baja California         6.0  2020-09-01\n",
       "2    Baja California Sur         1.0  2020-09-01\n",
       "3               Campeche         0.0  2020-09-01\n",
       "4                Chiapas         1.0  2020-09-01\n",
       "..                   ...         ...         ...\n",
       "955           Tamaulipas         1.0  2020-09-30\n",
       "956             Tlaxcala         0.0  2020-09-30\n",
       "957             Veracruz         0.0  2020-09-30\n",
       "958              Yucatán         0.0  2020-09-30\n",
       "959            Zacatecas         7.0  2020-09-30\n",
       "\n",
       "[960 rows x 3 columns]"
      ]
     },
     "execution_count": 18,
     "metadata": {},
     "output_type": "execute_result"
    }
   ],
   "source": [
    "df_nuevo"
   ]
  },
  {
   "cell_type": "code",
   "execution_count": 20,
   "metadata": {},
   "outputs": [],
   "source": [
    "directory = \"../data_raw/fuentes_abiertas/2019_2020/\"\n",
    "\n",
    "DF_temp.to_csv( directory +\"df_homicides_daily_2019_2020_fuentesabiertas.csv\", index=False, encoding='utf-8')\n"
   ]
  }
 ],
 "metadata": {
  "kernelspec": {
   "display_name": "Python 3",
   "language": "python",
   "name": "python3"
  },
  "language_info": {
   "codemirror_mode": {
    "name": "ipython",
    "version": 3
   },
   "file_extension": ".py",
   "mimetype": "text/x-python",
   "name": "python",
   "nbconvert_exporter": "python",
   "pygments_lexer": "ipython3",
   "version": "3.7.4"
  }
 },
 "nbformat": 4,
 "nbformat_minor": 2
}

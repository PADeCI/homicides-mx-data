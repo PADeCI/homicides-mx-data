{
 "cells": [
  {
   "cell_type": "markdown",
   "metadata": {},
   "source": [
    "# Concat all data frames "
   ]
  },
  {
   "cell_type": "code",
   "execution_count": 1,
   "metadata": {},
   "outputs": [],
   "source": [
    "#Libraries\n",
    "import glob\n",
    "import pandas as pd"
   ]
  },
  {
   "cell_type": "markdown",
   "metadata": {},
   "source": [
    "## Monthly"
   ]
  },
  {
   "cell_type": "code",
   "execution_count": 4,
   "metadata": {},
   "outputs": [
    {
     "name": "stdout",
     "output_type": "stream",
     "text": [
      "['../data_raw/fuentes_abiertas/2020/monthly/01_january_2020.csv', '../data_raw/fuentes_abiertas/2020/monthly/02_february_2020.csv', '../data_raw/fuentes_abiertas/2020/monthly/03_march_2020.csv', '../data_raw/fuentes_abiertas/2020/monthly/04_april_2020.csv', '../data_raw/fuentes_abiertas/2020/monthly/05_may_2020.csv', '../data_raw/fuentes_abiertas/2020/monthly/06_june_2020.csv', '../data_raw/fuentes_abiertas/2020/monthly/07_july_2020.csv', '../data_raw/fuentes_abiertas/2020/monthly/08_august_2020.csv', '../data_raw/fuentes_abiertas/2020/monthly/10_september_2020.csv']\n"
     ]
    }
   ],
   "source": [
    "extension = 'csv'\n",
    "directory = \"../data_raw/fuentes_abiertas/2020/monthly/\"\n",
    "all_filenames = [i for i in sorted(glob.glob(directory + '*.{}'.format(extension)))]\n",
    "print(all_filenames)            "
   ]
  },
  {
   "cell_type": "code",
   "execution_count": 5,
   "metadata": {},
   "outputs": [],
   "source": [
    "combined_csv = pd.concat([pd.read_csv(f) for f in all_filenames ])\n",
    "combined_csv.to_csv( directory +\"df_homicides_daily_2020_sspc_fuentesabiertas.csv\", index=False, encoding='utf-8')\n",
    "\n",
    "\n"
   ]
  },
  {
   "cell_type": "markdown",
   "metadata": {},
   "source": [
    "## Daily"
   ]
  },
  {
   "cell_type": "code",
   "execution_count": 26,
   "metadata": {},
   "outputs": [
    {
     "name": "stdout",
     "output_type": "stream",
     "text": [
      "['../data_raw/fuentes_abiertas/2020/july/01072020.csv', '../data_raw/fuentes_abiertas/2020/july/02072020.csv', '../data_raw/fuentes_abiertas/2020/july/03072020.csv', '../data_raw/fuentes_abiertas/2020/july/04072020.csv', '../data_raw/fuentes_abiertas/2020/july/05072020.csv', '../data_raw/fuentes_abiertas/2020/july/06072020.csv', '../data_raw/fuentes_abiertas/2020/july/07072020.csv', '../data_raw/fuentes_abiertas/2020/july/08072020.csv', '../data_raw/fuentes_abiertas/2020/july/09072020.csv', '../data_raw/fuentes_abiertas/2020/july/10072020.csv', '../data_raw/fuentes_abiertas/2020/july/11072020.csv', '../data_raw/fuentes_abiertas/2020/july/12072020.csv', '../data_raw/fuentes_abiertas/2020/july/13072020.csv', '../data_raw/fuentes_abiertas/2020/july/14072020.csv', '../data_raw/fuentes_abiertas/2020/july/15072020.csv', '../data_raw/fuentes_abiertas/2020/july/16072020.csv', '../data_raw/fuentes_abiertas/2020/july/17072020.csv', '../data_raw/fuentes_abiertas/2020/july/18072020.csv', '../data_raw/fuentes_abiertas/2020/july/19072020.csv', '../data_raw/fuentes_abiertas/2020/july/20072020.csv', '../data_raw/fuentes_abiertas/2020/july/21072020.csv', '../data_raw/fuentes_abiertas/2020/july/22072020.csv', '../data_raw/fuentes_abiertas/2020/july/23072020.csv', '../data_raw/fuentes_abiertas/2020/july/24072020.csv', '../data_raw/fuentes_abiertas/2020/july/25072020.csv', '../data_raw/fuentes_abiertas/2020/july/26072020.csv', '../data_raw/fuentes_abiertas/2020/july/27072020.csv', '../data_raw/fuentes_abiertas/2020/july/28072020.csv', '../data_raw/fuentes_abiertas/2020/july/29072020.csv', '../data_raw/fuentes_abiertas/2020/july/30072020.csv', '../data_raw/fuentes_abiertas/2020/july/31072020.csv']\n"
     ]
    }
   ],
   "source": [
    "extension = 'csv'\n",
    "directory = \"../data_raw/fuentes_abiertas/2020/ju/\"\n",
    "all_filenames = [i for i in sorted(glob.glob(directory + '*.{}'.format(extension)))]\n",
    "print(all_filenames)"
   ]
  },
  {
   "cell_type": "code",
   "execution_count": 6,
   "metadata": {},
   "outputs": [],
   "source": [
    "combined_csv = pd.concat([pd.read_csv(f) for f in all_filenames ])\n",
    "combined_csv.to_csv( directory +\"07_july_2020.csv\", index=False, encoding='utf-8')\n"
   ]
  },
  {
   "cell_type": "markdown",
   "metadata": {},
   "source": [
    "## Append"
   ]
  },
  {
   "cell_type": "code",
   "execution_count": 19,
   "metadata": {},
   "outputs": [],
   "source": [
    "df_anterior = pd.read_csv(\"../data_raw/fuentes_abiertas/2019_2020/df_homicides_daily_2019_2020_sspc_fuentesabiertas.csv\")\n",
    "df_nuevo = pd.read_csv(\"../data_raw/fuentes_abiertas/2020/monthly/09_september_2020.csv\")\n",
    "\n",
    "DF_temp = df_anterior.append(df_nuevo, ignore_index = True)\n"
   ]
  },
  {
   "cell_type": "code",
   "execution_count": 18,
   "metadata": {},
   "outputs": [
    {
     "data": {
      "text/html": [
       "<div>\n",
       "<style scoped>\n",
       "    .dataframe tbody tr th:only-of-type {\n",
       "        vertical-align: middle;\n",
       "    }\n",
       "\n",
       "    .dataframe tbody tr th {\n",
       "        vertical-align: top;\n",
       "    }\n",
       "\n",
       "    .dataframe thead th {\n",
       "        text-align: right;\n",
       "    }\n",
       "</style>\n",
       "<table border=\"1\" class=\"dataframe\">\n",
       "  <thead>\n",
       "    <tr style=\"text-align: right;\">\n",
       "      <th></th>\n",
       "      <th>Entidad</th>\n",
       "      <th>Homicidios</th>\n",
       "      <th>Fecha</th>\n",
       "    </tr>\n",
       "  </thead>\n",
       "  <tbody>\n",
       "    <tr>\n",
       "      <th>0</th>\n",
       "      <td>Aguascalientes</td>\n",
       "      <td>0.0</td>\n",
       "      <td>2020-09-01</td>\n",
       "    </tr>\n",
       "    <tr>\n",
       "      <th>1</th>\n",
       "      <td>Baja California</td>\n",
       "      <td>6.0</td>\n",
       "      <td>2020-09-01</td>\n",
       "    </tr>\n",
       "    <tr>\n",
       "      <th>2</th>\n",
       "      <td>Baja California Sur</td>\n",
       "      <td>1.0</td>\n",
       "      <td>2020-09-01</td>\n",
       "    </tr>\n",
       "    <tr>\n",
       "      <th>3</th>\n",
       "      <td>Campeche</td>\n",
       "      <td>0.0</td>\n",
       "      <td>2020-09-01</td>\n",
       "    </tr>\n",
       "    <tr>\n",
       "      <th>4</th>\n",
       "      <td>Chiapas</td>\n",
       "      <td>1.0</td>\n",
       "      <td>2020-09-01</td>\n",
       "    </tr>\n",
       "    <tr>\n",
       "      <th>...</th>\n",
       "      <td>...</td>\n",
       "      <td>...</td>\n",
       "      <td>...</td>\n",
       "    </tr>\n",
       "    <tr>\n",
       "      <th>955</th>\n",
       "      <td>Tamaulipas</td>\n",
       "      <td>1.0</td>\n",
       "      <td>2020-09-30</td>\n",
       "    </tr>\n",
       "    <tr>\n",
       "      <th>956</th>\n",
       "      <td>Tlaxcala</td>\n",
       "      <td>0.0</td>\n",
       "      <td>2020-09-30</td>\n",
       "    </tr>\n",
       "    <tr>\n",
       "      <th>957</th>\n",
       "      <td>Veracruz</td>\n",
       "      <td>0.0</td>\n",
       "      <td>2020-09-30</td>\n",
       "    </tr>\n",
       "    <tr>\n",
       "      <th>958</th>\n",
       "      <td>Yucatán</td>\n",
       "      <td>0.0</td>\n",
       "      <td>2020-09-30</td>\n",
       "    </tr>\n",
       "    <tr>\n",
       "      <th>959</th>\n",
       "      <td>Zacatecas</td>\n",
       "      <td>7.0</td>\n",
       "      <td>2020-09-30</td>\n",
       "    </tr>\n",
       "  </tbody>\n",
       "</table>\n",
       "<p>960 rows × 3 columns</p>\n",
       "</div>"
      ],
      "text/plain": [
       "                 Entidad  Homicidios       Fecha\n",
       "0         Aguascalientes         0.0  2020-09-01\n",
       "1        Baja California         6.0  2020-09-01\n",
       "2    Baja California Sur         1.0  2020-09-01\n",
       "3               Campeche         0.0  2020-09-01\n",
       "4                Chiapas         1.0  2020-09-01\n",
       "..                   ...         ...         ...\n",
       "955           Tamaulipas         1.0  2020-09-30\n",
       "956             Tlaxcala         0.0  2020-09-30\n",
       "957             Veracruz         0.0  2020-09-30\n",
       "958              Yucatán         0.0  2020-09-30\n",
       "959            Zacatecas         7.0  2020-09-30\n",
       "\n",
       "[960 rows x 3 columns]"
      ]
     },
     "execution_count": 18,
     "metadata": {},
     "output_type": "execute_result"
    }
   ],
   "source": [
    "df_nuevo"
   ]
  },
  {
   "cell_type": "code",
   "execution_count": 20,
   "metadata": {},
   "outputs": [],
   "source": [
    "directory = \"../data_raw/fuentes_abiertas/2019_2020/\"\n",
    "\n",
    "DF_temp.to_csv( directory +\"df_homicides_daily_2019_2020_fuentesabiertas.csv\", index=False, encoding='utf-8')\n"
   ]
  }
 ],
 "metadata": {
  "kernelspec": {
   "display_name": "Python 3",
   "language": "python",
   "name": "python3"
  },
  "language_info": {
   "codemirror_mode": {
    "name": "ipython",
    "version": 3
   },
   "file_extension": ".py",
   "mimetype": "text/x-python",
   "name": "python",
   "nbconvert_exporter": "python",
   "pygments_lexer": "ipython3",
   "version": "3.7.4"
  }
 },
 "nbformat": 4,
 "nbformat_minor": 2
}

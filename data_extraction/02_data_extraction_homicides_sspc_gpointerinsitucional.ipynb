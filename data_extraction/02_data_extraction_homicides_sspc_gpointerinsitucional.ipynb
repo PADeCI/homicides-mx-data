{
 "cells": [
  {
   "cell_type": "code",
   "execution_count": null,
   "metadata": {},
   "outputs": [],
   "source": []
  },
  {
   "cell_type": "code",
   "execution_count": 25,
   "metadata": {},
   "outputs": [],
   "source": [
    "#Libraries\n",
    "import pandas as pd\n",
    "import camelot\n",
    "from os.path import isfile, isdir\n",
    "import os\n",
    "from pathlib import Path\n",
    "import glob\n",
    "import zipfile\n",
    "from io import StringIO\n",
    "import logging\n",
    "from pathlib import Path\n",
    "from shutil import unpack_archive"
   ]
  },
  {
   "cell_type": "code",
   "execution_count": 26,
   "metadata": {},
   "outputs": [],
   "source": [
    "# Read pdf's and extract all tables from pdf's saved as .zip\n",
    "\n",
    "def extract_tables(dirname, destination):\n",
    "    \"\"\" \n",
    "    extract_tables \n",
    "  \n",
    "    Extract tables from pdf's \n",
    "  \n",
    "    Parameters: \n",
    "    dirname (str)     : Directory where the new data sets will be save\n",
    "      \n",
    "    \"\"\"\n",
    "    \n",
    "    for filename in sorted(glob.glob(dirname + '/*.pdf')):\n",
    "        #print(filename)\n",
    "        \n",
    "        try:\n",
    "          tables = camelot.read_pdf(filename,flavor = \"stream\")\n",
    "          path = Path(filename).stem\n",
    "          #Saving in root directory\n",
    "          tables.export(destination  + path + \".csv\", f=\"csv\", compress=False)\n",
    "          print(\"Saved\")\n",
    "\n",
    "        except:\n",
    "            print(\"Error, cannot read file\")"
   ]
  },
  {
   "cell_type": "code",
   "execution_count": 43,
   "metadata": {},
   "outputs": [
    {
     "name": "stdout",
     "output_type": "stream",
     "text": [
      "Saved\n",
      "Saved\n",
      "Saved\n",
      "Saved\n",
      "Saved\n",
      "Saved\n",
      "Saved\n",
      "Saved\n",
      "Saved\n",
      "Saved\n",
      "Saved\n",
      "Saved\n",
      "Saved\n",
      "Saved\n",
      "Saved\n",
      "Saved\n",
      "Saved\n",
      "Saved\n",
      "Saved\n",
      "Saved\n",
      "Saved\n",
      "Saved\n",
      "Saved\n",
      "Saved\n",
      "Saved\n",
      "Saved\n",
      "Saved\n",
      "Saved\n",
      "Saved\n",
      "Saved\n",
      "Saved\n"
     ]
    }
   ],
   "source": [
    "extract_tables(\"../data_download/data_source/gpo_interinstitucional/\", \"../data_raw/gpo_interinsitucional/2020/august/\")"
   ]
  }
 ],
 "metadata": {
  "kernelspec": {
   "display_name": "Python 3",
   "language": "python",
   "name": "python3"
  },
  "language_info": {
   "codemirror_mode": {
    "name": "ipython",
    "version": 3
   },
   "file_extension": ".py",
   "mimetype": "text/x-python",
   "name": "python",
   "nbconvert_exporter": "python",
   "pygments_lexer": "ipython3",
   "version": "3.7.4"
  }
 },
 "nbformat": 4,
 "nbformat_minor": 2
}

{
 "cells": [
  {
   "cell_type": "markdown",
   "metadata": {},
   "source": [
    "# Data Extraction Grupo Interinstitucional"
   ]
  },
  {
   "cell_type": "code",
   "execution_count": 1,
   "metadata": {},
   "outputs": [],
   "source": [
    "#Libraries\n",
    "import pandas as pd\n",
    "import camelot\n",
    "from os.path import isfile, isdir\n",
    "import os\n",
    "from pathlib import Path\n",
    "import glob\n",
    "import zipfile\n",
    "from io import StringIO\n",
    "import logging\n",
    "from pathlib import Path\n",
    "from shutil import unpack_archive"
   ]
  },
  {
   "cell_type": "code",
   "execution_count": 3,
   "metadata": {},
   "outputs": [],
   "source": [
    "# Read pdf's and extract all tables from pdf's saved as .zip\n",
    "\n",
    "def extract_tables(dirname, destination):\n",
    "    \"\"\" \n",
    "    extract_tables \n",
    "  \n",
    "    Extract tables from pdf's \n",
    "  \n",
    "    Parameters: \n",
    "    dirname (str)     : Directory where the new data sets will be save\n",
    "      \n",
    "    \"\"\"\n",
    "    \n",
    "    for filename in sorted(glob.glob(dirname + '/*.pdf')):\n",
    "        #print(filename)\n",
    "        \n",
    "        try:\n",
    "          tables = camelot.read_pdf(filename,flavor = \"stream\")\n",
    "          path = Path(filename).stem\n",
    "          #Saving in root directory\n",
    "          tables.export(destination  + path + \".csv\", f=\"csv\", compress=False)\n",
    "          print(\"Saved\")\n",
    "\n",
    "        except:\n",
    "            print(\"Error, cannot read file\")"
   ]
  },
  {
   "cell_type": "code",
   "execution_count": 4,
   "metadata": {},
   "outputs": [
    {
     "name": "stdout",
     "output_type": "stream",
     "text": [
      "Saved\n",
      "Saved\n",
      "Saved\n",
      "Saved\n",
      "Saved\n",
      "Saved\n",
      "Saved\n",
      "Saved\n",
      "Saved\n",
      "Saved\n",
      "Saved\n",
      "Saved\n",
      "Saved\n",
      "Saved\n",
      "Saved\n",
      "Saved\n",
      "Saved\n",
      "Saved\n",
      "Saved\n",
      "Saved\n",
      "Saved\n",
      "Saved\n",
      "Saved\n",
      "Saved\n",
      "Saved\n",
      "Saved\n",
      "Saved\n",
      "Saved\n",
      "Saved\n",
      "Saved\n",
      "Saved\n"
     ]
    }
   ],
   "source": [
    "extract_tables(\"../data_download/data_source/gpo_interinstitucional/\", \"../data_raw/gpo_interinstitucional/2020/october/\")\n",
    "\n",
    "\n",
    "\n",
    "\n",
    "\n"
   ]
  },
  {
   "cell_type": "code",
   "execution_count": null,
   "metadata": {},
   "outputs": [],
   "source": [
    "file = \"../data_download/data_source/gpo_interinstitucional/homicidios_21102020_v2.pdf\"\n",
    "tables =camelot.read_pdf(file,flavor = \"stream\")\n",
    "camelot.plot(tables[0], kind='textedge').show()"
   ]
  }
 ],
 "metadata": {
  "kernelspec": {
   "display_name": "Python 3",
   "language": "python",
   "name": "python3"
  },
  "language_info": {
   "codemirror_mode": {
    "name": "ipython",
    "version": 3
   },
   "file_extension": ".py",
   "mimetype": "text/x-python",
   "name": "python",
   "nbconvert_exporter": "python",
   "pygments_lexer": "ipython3",
   "version": "3.7.4"
  }
 },
 "nbformat": 4,
 "nbformat_minor": 2
}

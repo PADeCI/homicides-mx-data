{
 "cells": [
  {
   "cell_type": "markdown",
   "metadata": {},
   "source": [
    "# Data Extraction Grupo Interinstitucional"
   ]
  },
  {
   "cell_type": "code",
   "execution_count": 7,
   "metadata": {},
   "outputs": [],
   "source": [
    "#Libraries\n",
    "import pandas as pd\n",
    "import camelot\n",
    "from os.path import isfile, isdir\n",
    "import os\n",
    "from pathlib import Path\n",
    "import glob\n",
    "import zipfile\n",
    "from io import StringIO\n",
    "import logging\n",
    "from pathlib import Path\n",
    "from shutil import unpack_archive"
   ]
  },
  {
   "cell_type": "code",
   "execution_count": 8,
   "metadata": {},
   "outputs": [],
   "source": [
    "# Read pdf's and extract all tables from pdf's saved as .zip\n",
    "\n",
    "def extract_tables(dirname, destination):\n",
    "    \"\"\" \n",
    "    extract_tables \n",
    "  \n",
    "    Extract tables from pdf's \n",
    "  \n",
    "    Parameters: \n",
    "    dirname (str)     : Directory where the new data sets will be save\n",
    "      \n",
    "    \"\"\"\n",
    "    \n",
    "    for filename in sorted(glob.glob(dirname + '/*.pdf')):\n",
    "        #print(filename)\n",
    "        \n",
    "        try:\n",
    "          tables = camelot.read_pdf(filename,flavor = \"stream\")\n",
    "          path = Path(filename).stem\n",
    "          #Saving in root directory\n",
    "          tables.export(destination  + path + \".csv\", f=\"csv\", compress=False)\n",
    "          print(\"Saved\")\n",
    "\n",
    "        except:\n",
    "            print(\"Error, cannot read file\")"
   ]
  },
  {
   "cell_type": "code",
   "execution_count": 9,
   "metadata": {},
   "outputs": [
    {
     "output_type": "stream",
     "name": "stdout",
     "text": [
      "Saved\n",
      "Saved\n",
      "Saved\n",
      "Saved\n",
      "Saved\n",
      "Saved\n",
      "Saved\n",
      "Saved\n",
      "Saved\n",
      "Saved\n",
      "Saved\n",
      "Saved\n",
      "Saved\n",
      "Saved\n",
      "Saved\n",
      "Saved\n",
      "Saved\n",
      "Saved\n",
      "Saved\n",
      "Saved\n",
      "Saved\n",
      "Saved\n",
      "Saved\n",
      "Saved\n",
      "Saved\n",
      "Saved\n",
      "Saved\n",
      "Saved\n",
      "Saved\n",
      "Saved\n",
      "Saved\n"
     ]
    }
   ],
   "source": [
    "extract_tables(\"../data_download/data_source/gpo_inter/\", \"../data_raw/gpo_interinstitucional/2021/march\")\n",
    "\n",
    "\n",
    "\n",
    "\n",
    "\n"
   ]
  },
  {
   "cell_type": "code",
   "execution_count": null,
   "metadata": {},
   "outputs": [],
   "source": [
    "file = \"../data_download/data_source/gpo_interinstitucional/homicidios_21102020_v2.pdf\"\n",
    "tables =camelot.read_pdf(file,flavor = \"stream\")\n",
    "camelot.plot(tables[0], kind='textedge').show()"
   ]
  }
 ],
 "metadata": {
  "kernelspec": {
   "name": "python3",
   "display_name": "Python 3.8.2 64-bit",
   "metadata": {
    "interpreter": {
     "hash": "31f2aee4e71d21fbe5cf8b01ff0e069b9275f58929596ceb00d14d90e3e16cd6"
    }
   }
  },
  "language_info": {
   "codemirror_mode": {
    "name": "ipython",
    "version": 3
   },
   "file_extension": ".py",
   "mimetype": "text/x-python",
   "name": "python",
   "nbconvert_exporter": "python",
   "pygments_lexer": "ipython3",
   "version": "3.8.2"
  }
 },
 "nbformat": 4,
 "nbformat_minor": 2
}
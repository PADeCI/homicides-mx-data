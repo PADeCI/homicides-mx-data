{
 "cells": [
  {
   "cell_type": "code",
   "execution_count": 1,
   "metadata": {},
   "outputs": [],
   "source": [
    "####################################################\n",
    "#          Extraction of data from SSPC            #\n",
    "#       Homicidios Dolosos Fuentes Abiertas        #\n",
    "#                                                  #\n",
    "# Author: Mariana Fernandez                        #\n",
    "# Github: marianafdz465                            #\n",
    "# email: mariana.fernadez@cide.edu                 #\n",
    "#                                                  #\n",
    "# Date: 19/08/2020                                 #\n",
    "####################################################"
   ]
  },
  {
   "cell_type": "code",
   "execution_count": 1,
   "metadata": {},
   "outputs": [],
   "source": [
    "#Libraries\n",
    "import pandas as pd\n",
    "import camelot\n",
    "from os.path import isfile, isdir\n",
    "import os\n",
    "from pathlib import Path\n",
    "import glob\n",
    "import zipfile\n",
    "from io import StringIO\n",
    "import logging\n",
    "from pathlib import Path\n",
    "from shutil import unpack_archive\n"
   ]
  },
  {
   "cell_type": "code",
   "execution_count": 2,
   "metadata": {},
   "outputs": [],
   "source": [
    "# Read pdf's and extract all tables from pdf's saved as .zip\n",
    "\n",
    "def extract_tables(dirname, destination):\n",
    "    \"\"\" \n",
    "    extract_tables \n",
    "  \n",
    "    Extract tables from pdf's \n",
    "  \n",
    "    Parameters: \n",
    "    dirname (str)     : Directory where the new data sets will be save\n",
    "      \n",
    "    \"\"\"\n",
    "    \n",
    "    for filename in sorted(glob.glob(dirname + '/*.pdf')):\n",
    "        #print(filename)\n",
    "        \n",
    "        try:\n",
    "          tables = camelot.read_pdf(filename,flavor = \"lattice\", pages= \"all\",line_scale=40)\n",
    "          #camelot.plot(tables[0], kind='grid').show() Just show the structure of the table\n",
    "          path = Path(filename).stem\n",
    "          #Saving in root directory\n",
    "          \n",
    "          tables.export(destination  + path + \".csv\", f=\"csv\", compress=True)\n",
    "          print(\"Saved\")\n",
    "\n",
    "        except:\n",
    "            print(\"Error, cannot read file\")"
   ]
  },
  {
   "cell_type": "code",
   "execution_count": 3,
   "metadata": {},
   "outputs": [
    {
     "name": "stdout",
     "output_type": "stream",
     "text": [
      "Saved\n",
      "Saved\n",
      "Saved\n",
      "Saved\n",
      "Saved\n",
      "Saved\n",
      "Saved\n",
      "Saved\n",
      "Saved\n",
      "Saved\n",
      "Saved\n",
      "Saved\n",
      "Saved\n",
      "Saved\n",
      "Saved\n",
      "Saved\n",
      "Saved\n",
      "Saved\n",
      "Saved\n",
      "Saved\n",
      "Saved\n",
      "Saved\n",
      "Saved\n",
      "Saved\n",
      "Saved\n",
      "Saved\n",
      "Saved\n",
      "Saved\n",
      "Saved\n",
      "Saved\n"
     ]
    }
   ],
   "source": [
    "extract_tables(\"../data_download/data_source/fuentes_abiertas/\", \"../data_raw/fuentes_abiertas/2020/september/\")"
   ]
  },
  {
   "cell_type": "code",
   "execution_count": 4,
   "metadata": {},
   "outputs": [],
   "source": [
    "# Unzip al .zip files \n",
    "\n",
    "def unzip_files(dirname):\n",
    "    \"\"\" \n",
    "    unzip_files \n",
    "  \n",
    "    Parameters: \n",
    "    dirname (str)     : Directory where the new data sets will be save\n",
    "      \n",
    "    \"\"\"\n",
    "    zip_files = Path(dirname).rglob(\"*.zip\")\n",
    "    while True:\n",
    "        try:\n",
    "            path = next(zip_files)\n",
    "        except StopIteration:\n",
    "            break #No more files\n",
    "        except PermissionError:\n",
    "            logging.exception(\"Permission error\")\n",
    "        else:\n",
    "            extract_dir = path.with_name(path.stem)\n",
    "            unpack_archive(str(path), str(extract_dir), 'zip')"
   ]
  },
  {
   "cell_type": "code",
   "execution_count": 5,
   "metadata": {},
   "outputs": [],
   "source": [
    "unzip_files(\"../data_raw/fuentes_abiertas/2020/september/\")"
   ]
  },
  {
   "cell_type": "code",
   "execution_count": 6,
   "metadata": {},
   "outputs": [],
   "source": [
    "#Remove zip directories\n",
    "\n",
    "def remove_zips(dirname):\n",
    "    \"\"\" \n",
    "    remove_zips \n",
    "  \n",
    "    Parameters: \n",
    "    dirname (str)     : Directory where the new data sets will be save\n",
    "      \n",
    "    \"\"\"\n",
    "    for filename in sorted(glob.glob(dirname + '/*.zip')):\n",
    "            #print(filename)\n",
    "\n",
    "            try:\n",
    "              os.remove(filename)\n",
    "              print(\"Removed\")\n",
    "\n",
    "            except:\n",
    "                print(\"Error, cannot remove file\")\n",
    "    "
   ]
  },
  {
   "cell_type": "code",
   "execution_count": 7,
   "metadata": {},
   "outputs": [
    {
     "name": "stdout",
     "output_type": "stream",
     "text": [
      "Removed\n",
      "Removed\n",
      "Removed\n",
      "Removed\n",
      "Removed\n",
      "Removed\n",
      "Removed\n",
      "Removed\n",
      "Removed\n",
      "Removed\n",
      "Removed\n",
      "Removed\n",
      "Removed\n",
      "Removed\n",
      "Removed\n",
      "Removed\n",
      "Removed\n",
      "Removed\n",
      "Removed\n",
      "Removed\n",
      "Removed\n",
      "Removed\n",
      "Removed\n",
      "Removed\n",
      "Removed\n",
      "Removed\n",
      "Removed\n",
      "Removed\n",
      "Removed\n",
      "Removed\n"
     ]
    }
   ],
   "source": [
    "remove_zips(\"../data_raw/fuentes_abiertas/2020/september/\")"
   ]
  },
  {
   "cell_type": "code",
   "execution_count": 8,
   "metadata": {},
   "outputs": [
    {
     "data": {
      "text/plain": [
       "'/Users/marianafernandez/Documents/homicidios-mx'"
      ]
     },
     "execution_count": 8,
     "metadata": {},
     "output_type": "execute_result"
    }
   ],
   "source": [
    "pwd"
   ]
  }
 ],
 "metadata": {
  "kernelspec": {
   "display_name": "Python 3",
   "language": "python",
   "name": "python3"
  },
  "language_info": {
   "codemirror_mode": {
    "name": "ipython",
    "version": 3
   },
   "file_extension": ".py",
   "mimetype": "text/x-python",
   "name": "python",
   "nbconvert_exporter": "python",
   "pygments_lexer": "ipython3",
   "version": "3.7.4"
  }
 },
 "nbformat": 4,
 "nbformat_minor": 2
}

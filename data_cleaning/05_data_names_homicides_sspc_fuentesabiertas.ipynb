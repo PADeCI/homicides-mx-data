{
 "cells": [
  {
   "cell_type": "markdown",
   "metadata": {},
   "source": [
    "## Rename State column"
   ]
  },
  {
   "cell_type": "code",
   "execution_count": 3,
   "metadata": {},
   "outputs": [
    {
     "name": "stderr",
     "output_type": "stream",
     "text": [
      "/opt/anaconda3/lib/python3.7/site-packages/fuzzywuzzy/fuzz.py:11: UserWarning: Using slow pure-python SequenceMatcher. Install python-Levenshtein to remove this warning\n",
      "  warnings.warn('Using slow pure-python SequenceMatcher. Install python-Levenshtein to remove this warning')\n"
     ]
    }
   ],
   "source": [
    "#Libraries\n",
    "import pandas as pd\n",
    "import numpy as np\n",
    "from fuzzywuzzy import fuzz\n",
    "from fuzzywuzzy import process\n",
    "import glob\n",
    "from pathlib import Path\n"
   ]
  },
  {
   "cell_type": "markdown",
   "metadata": {},
   "source": [
    "### Change Row \"Mexico\" for \"Estado de México\""
   ]
  },
  {
   "cell_type": "code",
   "execution_count": 34,
   "metadata": {},
   "outputs": [],
   "source": [
    "def rename_row_mexico(dirname):\n",
    "    \"\"\" \n",
    "    rename_row_mexico \n",
    "  \n",
    "    Rename all rows with the string \"México\"\n",
    "  \n",
    "    Parameters: \n",
    "    dirname (str)     : Directory to extract and change the colum names       \n",
    "\n",
    "    \"\"\"\n",
    "    for filename in sorted(glob.glob(dirname + '/*.csv')):\n",
    "        df = pd.read_csv(filename)\n",
    "    \n",
    "\n",
    "        path = Path(filename).stem\n",
    "        print(path)\n",
    "        #df['Entidad'] = np.where((df.Entidad == 'México '),'Estado de México',df.Entidad)\n",
    "        df['Entidad'] = np.where((df.Entidad == 'México '),'Estado de México',df.Entidad)\n",
    "        df.to_csv( dirname  + path + \".csv\",encoding=\"utf-8\", index = False)\n",
    "        "
   ]
  },
  {
   "cell_type": "code",
   "execution_count": 35,
   "metadata": {},
   "outputs": [
    {
     "name": "stdout",
     "output_type": "stream",
     "text": [
      "01022020\n",
      "02022020\n",
      "03022020\n",
      "04022020\n",
      "05022020\n",
      "06022020\n",
      "07022020\n",
      "08022020\n",
      "09022020\n",
      "10022020\n",
      "11022020\n",
      "12022020\n",
      "13022020\n",
      "14022020\n",
      "15022020\n",
      "16022020\n",
      "17022020\n",
      "18022020\n",
      "19022020\n",
      "20022020\n",
      "21022020\n",
      "22022020\n",
      "23022020\n",
      "24022020\n",
      "25022020\n",
      "26022020\n",
      "27022020\n",
      "28022020\n",
      "29022020\n"
     ]
    }
   ],
   "source": [
    "rename_row_mexico(\"../data_raw/county/2020/February/\")"
   ]
  },
  {
   "cell_type": "markdown",
   "metadata": {},
   "source": [
    "## Check Consistency column \"Entidad\""
   ]
  },
  {
   "cell_type": "markdown",
   "metadata": {},
   "source": [
    "### Fuzzy Wuzzy"
   ]
  },
  {
   "cell_type": "code",
   "execution_count": 36,
   "metadata": {},
   "outputs": [],
   "source": [
    "\n",
    "#col_list = [\"Entidad\"]\n",
    "\n",
    "df_states = pd.read_csv(\"./dictionary_states.csv\")\n",
    "\n"
   ]
  },
  {
   "cell_type": "code",
   "execution_count": 37,
   "metadata": {},
   "outputs": [],
   "source": [
    "def cambios_state(mal, bien):\n",
    "    for i in mal:\n",
    "        x = process.extractOne(i, df_states[\"bien\"])\n",
    "        nombres.append(x[0])\n",
    "        proporcion.append(x[1])\n",
    "    return nombres, proporcion\n",
    "\n"
   ]
  },
  {
   "cell_type": "markdown",
   "metadata": {},
   "source": [
    "## Estado y Directorio"
   ]
  },
  {
   "cell_type": "code",
   "execution_count": 38,
   "metadata": {},
   "outputs": [
    {
     "name": "stdout",
     "output_type": "stream",
     "text": [
      "01022020\n",
      "02022020\n",
      "03022020\n",
      "04022020\n",
      "05022020\n",
      "06022020\n",
      "07022020\n",
      "08022020\n",
      "09022020\n",
      "10022020\n",
      "11022020\n",
      "12022020\n",
      "13022020\n",
      "14022020\n",
      "15022020\n",
      "16022020\n",
      "17022020\n",
      "18022020\n",
      "19022020\n",
      "20022020\n",
      "21022020\n",
      "22022020\n",
      "23022020\n",
      "24022020\n",
      "25022020\n",
      "26022020\n",
      "27022020\n",
      "28022020\n",
      "29022020\n"
     ]
    }
   ],
   "source": [
    "\n",
    "dirname = \"../data_raw/county/2020/February/\"\n",
    "#dirname = \"../Anomalias/\"\n",
    "\n",
    "\n",
    "for filename in sorted(glob.glob(dirname + '/*.csv')):\n",
    "    df = pd.read_csv(filename)\n",
    "\n",
    "    nombres = []\n",
    "    proporcion = []\n",
    "\n",
    "    mal=df[\"Entidad\"].dropna().values\n",
    "    bien=df_states[\"bien\"].dropna().values\n",
    "\n",
    "    corregido, rango=cambios_state(mal, bien)\n",
    "    df[\"Entidad\"]=pd.Series(corregido)\n",
    "    #df[\"ratiom\"]=pd.Series(rango)\n",
    "\n",
    "    path = Path(filename).stem\n",
    "    print(path)\n",
    "    df.to_csv( dirname +path + \".csv\",encoding=\"utf-8\", index = False)\n"
   ]
  },
  {
   "cell_type": "markdown",
   "metadata": {},
   "source": [
    "### Add time_stamp"
   ]
  },
  {
   "cell_type": "code",
   "execution_count": 17,
   "metadata": {},
   "outputs": [],
   "source": [
    "from datetime import datetime\n",
    "\n",
    "def time_stamp(dirname):\n",
    "    for filename in sorted(glob.glob(dirname + '/*.csv')):\n",
    "        df = pd.read_csv(filename)\n",
    "        path = Path(filename).stem\n",
    "        print(path)\n",
    "\n",
    "        preliminar_date = path\n",
    "        dts = datetime.strptime(preliminar_date, '%d%m%Y')\n",
    "        dts = dts.strftime('%Y-%m-%d')\n",
    "        df['Fecha'] = dts\n",
    "\n",
    "        df.to_csv(dirname  + path + \".csv\",encoding=\"utf-8\", index = False)"
   ]
  },
  {
   "cell_type": "code",
   "execution_count": 21,
   "metadata": {},
   "outputs": [
    {
     "name": "stdout",
     "output_type": "stream",
     "text": [
      "10022019\n"
     ]
    }
   ],
   "source": [
    "time_stamp(\"../data_raw/anomalias/\")\n",
    "#time_stamp(\"../Anomalias/\")"
   ]
  },
  {
   "cell_type": "code",
   "execution_count": null,
   "metadata": {},
   "outputs": [],
   "source": [
    "mal=df[\"Entidad\"].dropna().values\n",
    "bien=df_states[\"bien\"].dropna().values\n",
    "\n",
    "corregido, rango=cambios_state(mal, bien)"
   ]
  },
  {
   "cell_type": "code",
   "execution_count": null,
   "metadata": {},
   "outputs": [],
   "source": [
    "df[\"Entidad\"]=pd.Series(corregido)\n",
    "#df[\"ratiom\"]=pd.Series(rango)"
   ]
  },
  {
   "cell_type": "code",
   "execution_count": null,
   "metadata": {},
   "outputs": [],
   "source": [
    "df"
   ]
  },
  {
   "cell_type": "markdown",
   "metadata": {},
   "source": [
    "### Check Consistency column \"Municipio\"\n"
   ]
  },
  {
   "cell_type": "code",
   "execution_count": 42,
   "metadata": {},
   "outputs": [],
   "source": [
    "df_counties = pd.read_csv(\"./dictionary_counties.csv\")\n",
    "#df_counties"
   ]
  },
  {
   "cell_type": "code",
   "execution_count": 43,
   "metadata": {},
   "outputs": [],
   "source": [
    "def cambios_counties(mal, bien):\n",
    "    for i in mal:\n",
    "        x = process.extractOne(i, df_counties[\"bien\"])\n",
    "        nombres.append(x[0])\n",
    "        proporcion.append(x[1])\n",
    "    return nombres, proporcion\n"
   ]
  },
  {
   "cell_type": "code",
   "execution_count": 52,
   "metadata": {},
   "outputs": [
    {
     "name": "stdout",
     "output_type": "stream",
     "text": [
      "01082020\n",
      "02082020\n",
      "03082020\n",
      "04082020\n",
      "05082020\n",
      "06082020\n",
      "07082020\n",
      "08082020\n",
      "09082020\n",
      "10082020\n",
      "11082020\n",
      "12082020\n",
      "13082020\n",
      "14082020\n",
      "15082020\n",
      "16082020\n",
      "17082020\n",
      "18082020\n",
      "19082020\n",
      "20082020\n",
      "21082020\n",
      "22082020\n",
      "23082020\n",
      "24082020\n",
      "25082020\n",
      "26082020\n",
      "27082020\n",
      "28082020\n",
      "29082020\n",
      "30082020\n",
      "31082020\n"
     ]
    }
   ],
   "source": [
    "dirname = \"../data_raw/county/2020/August/\"                #\n",
    "                                                            #\n",
    "############################################################\n",
    "for filename in sorted(glob.glob(dirname + '/*.csv')):\n",
    "\n",
    "    df = pd.read_csv(filename)\n",
    "    nombres = []\n",
    "    proporcion = []\n",
    "    mal=df[\"Municipio\"].dropna().values\n",
    "    bien=df_counties[\"bien\"].dropna().values\n",
    "\n",
    "\n",
    "    corregido, rango=cambios_counties(mal, bien)\n",
    "    df[\"Municipio\"]=pd.Series(corregido)\n",
    "    #df[\"ratioMunnicpios\"]=pd.Series(rango)\n",
    "\n",
    "    path = Path(filename).stem\n",
    "    print(path)\n",
    "    df.to_csv(dirname  + path + \".csv\",encoding=\"utf-8\", index = False)"
   ]
  },
  {
   "cell_type": "code",
   "execution_count": null,
   "metadata": {},
   "outputs": [],
   "source": []
  },
  {
   "cell_type": "code",
   "execution_count": null,
   "metadata": {},
   "outputs": [],
   "source": [
    "from datetime import datetime\n",
    "\n",
    "date_str3 = \"31012020\"\n",
    "dts = datetime.strptime(date_str3, '%d%m%Y')\n",
    "dts = dts.strftime('%Y-%m-%d')\n",
    "dts"
   ]
  },
  {
   "cell_type": "code",
   "execution_count": null,
   "metadata": {},
   "outputs": [],
   "source": [
    "df['Fecha'] = dts\n",
    "df.to_csv(\"AQUIII\" + \".csv\",encoding=\"utf-8\", index = False)"
   ]
  },
  {
   "cell_type": "code",
   "execution_count": null,
   "metadata": {},
   "outputs": [],
   "source": [
    "states = {\"Entidad\": v_correct_states}\n",
    "df_states = pd.DataFrame(states, columns = ['Entidad'])"
   ]
  },
  {
   "cell_type": "code",
   "execution_count": null,
   "metadata": {},
   "outputs": [],
   "source": [
    "df_states.to_csv(\"dictionary_states.csv\",encoding=\"utf-8\", index = False)"
   ]
  },
  {
   "cell_type": "code",
   "execution_count": null,
   "metadata": {},
   "outputs": [],
   "source": [
    "df_states = pd.read_csv(\"./dictionary_states.csv\")\n"
   ]
  },
  {
   "cell_type": "code",
   "execution_count": null,
   "metadata": {},
   "outputs": [],
   "source": [
    "col_list = [\"Entidad\"]\n",
    "df = pd.read_csv(\"../data_raw/county/2020/January/02012020.csv\", usecols=col_list)\n",
    "nombres = []\n",
    "proporcion = []\n",
    "df"
   ]
  },
  {
   "cell_type": "code",
   "execution_count": null,
   "metadata": {},
   "outputs": [],
   "source": [
    "mal=df[\"Entidad\"].dropna().values\n",
    "bien=df_states[\"bien\"].dropna().values\n",
    "corregido, rango=cambios(mal, bien)\n",
    "df[\"Corregido\"]=pd.Series(corregido)\n",
    "df[\"ratiom\"]=pd.Series(rango)"
   ]
  },
  {
   "cell_type": "code",
   "execution_count": null,
   "metadata": {},
   "outputs": [],
   "source": [
    "df"
   ]
  },
  {
   "cell_type": "code",
   "execution_count": null,
   "metadata": {},
   "outputs": [],
   "source": [
    "#nombres = []\n",
    "#proporcion = []\n",
    "\n",
    "def cambios(mal, bien):\n",
    "    for i in mal:\n",
    "        x = process.extractOne(i, v_correct_states)\n",
    "        nombres.append(x[0])\n",
    "        proporcion.append(x[1])\n",
    "    return nombres, proporcion\n",
    "\n"
   ]
  },
  {
   "cell_type": "code",
   "execution_count": null,
   "metadata": {},
   "outputs": [],
   "source": [
    "nombres = []\n",
    "proporcion = []\n",
    "\n",
    "def cambios(mal):\n",
    "    for i in mal:\n",
    "        x = process.extractOne(i, v_correct_states)\n",
    "        nombres.append(x[0])\n",
    "        proporcion.append(x[1])\n",
    "    return nombres, proporcion\n",
    "\n"
   ]
  },
  {
   "cell_type": "code",
   "execution_count": null,
   "metadata": {},
   "outputs": [],
   "source": [
    "def check_state_name(dirname):\n",
    "    v_correct_states = [  \"Aguascalientes\",\n",
    "                          \"Baja California\",\n",
    "                          \"Baja California Sur\",\n",
    "                          \"Campeche\",\n",
    "                          \"Coahuila\",\n",
    "                          \"Colima\",\n",
    "                          \"Chiapas\",\n",
    "                          \"Chihuahua\",\n",
    "                          \"Ciudad de México\",\n",
    "                          \"Durango\",\n",
    "                          \"Guanajuato\",\n",
    "                          \"Guerrero\",\n",
    "                          \"Hidalgo\",\n",
    "                          \"Jalisco\",\n",
    "                          \"Estado de México\",\n",
    "                          \"Michoacán\",\n",
    "                          \"Morelos\",\n",
    "                          \"Nayarit\",\n",
    "                          \"Nuevo León\",\n",
    "                          \"Oaxaca\",\n",
    "                          \"Puebla\",\n",
    "                          \"Querétaro\",\n",
    "                          \"Quintana Roo\",\n",
    "                          \"San Luis Potosí\",\n",
    "                          \"Sinaloa\",\n",
    "                          \"Sonora\",\n",
    "                          \"Tabasco\",\n",
    "                          \"Tamaulipas\",\n",
    "                          \"Tlaxcala\",\n",
    "                          \"Veracruz\",\n",
    "                          \"Yucatán\",\n",
    "                          \"Zacatecas\"\n",
    "                       ]\n",
    "    col_list = [\"Entidad\"]\n",
    "    \n",
    "    #for filename in sorted(glob.glob(dirname + '/*.csv')):\n",
    "        df = pd.read_csv(filename, usecols=col_list)\n",
    "        #df['Entidad'] = np.where(df['Entidad'] == \"Michoacán de \\nOcampo \", \"Michoacán\", df['Entidad'])\n",
    "        #df['Entidad'] = np.where(df['Entidad'] == \"Michoacán \\nde \\nOcampo \\n\", \"Michoacán\", df['Entidad'])\n",
    "        #df['Entidad'] = np.where(df['Entidad'] == \" 'Michoacán \\nde Ocampo \\n'\", \"Michoacán\", df['Entidad'])\n",
    "\n",
    "        #df['Entidad'] = np.where(df['Entidad'] == \"Veracruz de \\nIgnacio de la \\nLlave \", \"Veracruz\", df['Entidad'])\n",
    "        #for col in df:\n",
    "        #    print(df[col].unique())\n",
    "        #    print(df)\n",
    "        \n"
   ]
  },
  {
   "cell_type": "code",
   "execution_count": null,
   "metadata": {},
   "outputs": [],
   "source": [
    "mal=df[\"Entidad\"].dropna().values\n",
    "bien=df[\"bien\"].dropna().values\n",
    "\n",
    "corregido, rango=cambios(mal)\n"
   ]
  },
  {
   "cell_type": "code",
   "execution_count": null,
   "metadata": {},
   "outputs": [],
   "source": [
    "df[\"corregido\"]=pd.Series(corregido)\n",
    "df[\"ratiom\"]=pd.Series(rango)"
   ]
  },
  {
   "cell_type": "code",
   "execution_count": null,
   "metadata": {},
   "outputs": [],
   "source": [
    "df[\"Entidad\"]=pd.Series(corregido)\n",
    "df"
   ]
  },
  {
   "cell_type": "code",
   "execution_count": null,
   "metadata": {},
   "outputs": [],
   "source": [
    "v_bien= [\n",
    "\"Aguascalientes\",\n",
    "\"Baja California\",\n",
    "\"Baja California Sur\",\n",
    "\"Campeche\",\n",
    "\"Coahuila de Zaragoza\",\n",
    "\"Colima\",\n",
    "\"Chiapas\",\n",
    "\"Chihuahua\",\n",
    "\"Ciudad de Mexico\",\n",
    "\"Durango\",\n",
    "\"Guanajuato\",\n",
    "\"Guerrero\",\n",
    "\"Hidalgo\"\n",
    "]"
   ]
  },
  {
   "cell_type": "code",
   "execution_count": null,
   "metadata": {},
   "outputs": [],
   "source": [
    "ok= {\"Estado de México\",\"Ciudad de México\", \"Argentina\", \"Chile\"}\n",
    "usuario=\"Estado México \"\n",
    "aprox = process.extractOne(usuario, ok)\n",
    "print(\"La palabra mas cercana: \", usuario)\n",
    "print(aprox)"
   ]
  },
  {
   "cell_type": "code",
   "execution_count": null,
   "metadata": {},
   "outputs": [],
   "source": [
    "df"
   ]
  },
  {
   "cell_type": "code",
   "execution_count": null,
   "metadata": {},
   "outputs": [],
   "source": [
    "import pandas as pd\n",
    "import numpy as np\n",
    "\n",
    "df = pd.DataFrame({'Date' : ['11/8/2011', '11/9/2011', '11/10/2011',\n",
    "                                        '11/11/2011', '11/12/2011'],\n",
    "                'Event' : ['Dance', 'Painting', 'Dance', 'Dance', 'Painting']})\n",
    "\n",
    "df"
   ]
  },
  {
   "cell_type": "code",
   "execution_count": null,
   "metadata": {},
   "outputs": [],
   "source": [
    "df['Entidad'].mask(df['Entidad'] == 'México ', 'POP', inplace=True)\n",
    "df"
   ]
  },
  {
   "cell_type": "code",
   "execution_count": null,
   "metadata": {},
   "outputs": [],
   "source": [
    "df['Entidad'] = np.where((df.Entidad == 'México '),'Estado de México',df.Entidad)\n",
    "df"
   ]
  },
  {
   "cell_type": "code",
   "execution_count": null,
   "metadata": {},
   "outputs": [],
   "source": [
    "df_counties = pd.read_csv(\"../data_cleaning/dictionary_counties.csv\")\n",
    "df_counties"
   ]
  },
  {
   "cell_type": "code",
   "execution_count": null,
   "metadata": {},
   "outputs": [],
   "source": [
    "def correct_road(roadname):\n",
    "    if roadname in correct_roadnames:  # might want to make this a dict for O(1) lookups\n",
    "        return roadname, 100\n",
    "\n",
    "    new_name, score = process.extractOne(roadname, correct_roadnames)\n",
    "    if score < 90:\n",
    "        return roadname, score\n",
    "    else:\n",
    "        return new_name, score"
   ]
  },
  {
   "cell_type": "code",
   "execution_count": null,
   "metadata": {},
   "outputs": [],
   "source": [
    "df = pd.read_csv(\"../data_raw/county/2019/January/\")\n",
    "df"
   ]
  },
  {
   "cell_type": "code",
   "execution_count": null,
   "metadata": {},
   "outputs": [],
   "source": [
    "df2 = pd.read_csv(\"/Users/marianafernandez/Documents/PADeCI/homicides-mx-data/data_raw/county/2019/January/04012019.csv\")"
   ]
  },
  {
   "cell_type": "code",
   "execution_count": 27,
   "metadata": {},
   "outputs": [
    {
     "name": "stdout",
     "output_type": "stream",
     "text": [
      "['Baja \\nCalifornia ' 'Chihuahua \\n' 'Coahuila de \\nZaragoza ' 'Colima '\n",
      " 'Guanajuato \\n' 'Guerrero ' 'Hidalgo ' 'Jalisco '\n",
      " 'Michoacán \\nde Ocampo \\n' 'Morelos ' 'México ' 'Nuevo León \\n'\n",
      " 'San Luis \\nPotosí ' 'Sinaloa ' 'Tabasco ' 'Tamaulipas \\n'\n",
      " 'Veracruz de \\nIgnacio de la \\nLlave ']\n",
      "['Chihuahua \\n' 'Colima ' 'Guanajuato \\n' 'Guerrero ' 'Hidalgo '\n",
      " 'Michoacán \\nde Ocampo \\n' 'Morelos ' 'México ' 'Nuevo León \\n' 'Oaxaca '\n",
      " 'Puebla ' 'Quintana \\nRoo ' 'San Luis \\nPotosí ' 'Sinaloa ' 'Tabasco '\n",
      " 'Tamaulipas \\n' 'Veracruz de \\nIgnacio de la \\nLlave ']\n",
      "['Baja \\nCalifornia ' 'Chiapas ' 'Chihuahua ' 'Colima ' 'Guanajuato \\n'\n",
      " 'Guerrero ' 'Jalisco ' 'Michoacán de \\nOcampo ' 'Morelos ' 'México '\n",
      " 'Nuevo León \\n' 'Oaxaca ' 'Puebla ' 'Querétaro ' 'Quintana Roo \\n'\n",
      " 'San Luis \\nPotosí ' 'Sinaloa ' 'Sonora ' 'Tabasco ' 'Tamaulipas \\n'\n",
      " 'Veracruz de \\nIgnacio de la \\nLlave ' 'Yucatán ' 'Zacatecas ']\n",
      "['Baja \\nCalifornia ' 'Chiapas ' 'Chihuahua \\n' 'Ciudad de \\nMéxico '\n",
      " 'Coahuila de \\nZaragoza ' 'Colima ' 'Guanajuato \\n' 'Hidalgo ' 'Jalisco '\n",
      " 'Michoacán \\nde Ocampo \\n' 'Morelos ' 'México ' 'Nuevo León \\n' 'Oaxaca '\n",
      " 'Quintana \\nRoo ' 'San Luis \\nPotosí ' 'Sonora ' 'Tabasco '\n",
      " 'Tamaulipas \\n' 'Veracruz de \\nIgnacio de la \\nLlave ' 'Zacatecas ']\n",
      "['Aguascalien\\ntes ' 'Baja \\nCalifornia \\n' 'Chiapas ' 'Chihuahua \\n'\n",
      " 'Ciudad de \\nMéxico ' 'Colima ' 'Durango ' 'Guanajuato \\n' 'Guerrero '\n",
      " 'Hidalgo ' 'Jalisco ' 'Michoacán \\nde Ocampo \\n' 'México '\n",
      " 'Nuevo León \\n' 'Oaxaca ' 'Puebla ' 'Quintana \\nRoo ' 'Sinaloa '\n",
      " 'Sonora ' 'Tabasco ' 'Tamaulipas \\n' 'Tlaxcala '\n",
      " 'Veracruz de \\nIgnacio de \\nla Llave ']\n",
      "['Baja \\nCalifornia \\n' 'Chihuahua \\n' 'Ciudad de \\nMéxico ' 'Durango '\n",
      " 'Guanajuato \\n' 'Guerrero ' 'Hidalgo ' 'Jalisco '\n",
      " 'Michoacán \\nde Ocampo \\n' 'Morelos ' 'México ' 'Puebla ' 'Querétaro \\n'\n",
      " 'Quintana \\nRoo ' 'San Luis \\nPotosí ' 'Sinaloa ' 'Tabasco '\n",
      " 'Tamaulipas \\n' 'Veracruz de \\nIgnacio de \\nla Llave ' 'Zacatecas \\n']\n",
      "['Baja \\nCalifornia ' 'Baja \\nCalifornia \\nSur ' 'Chiapas ' 'Chihuahua \\n'\n",
      " 'Colima ' 'Guanajuato \\n' 'Guerrero ' 'Hidalgo ' 'Jalisco '\n",
      " 'Michoacán \\nde Ocampo \\n' 'México ' 'Nayarit ' 'Nuevo León \\n' 'Oaxaca '\n",
      " 'Puebla ' 'Querétaro \\n' 'Quintana \\nRoo ' 'Sinaloa ' 'Sonora '\n",
      " 'Tabasco ' 'Tamaulipas \\n' 'Veracruz de \\nIgnacio de la \\nLlave '\n",
      " 'Zacatecas \\n']\n",
      "['Baja \\nCalifornia \\n' 'Chiapas ' 'Chihuahua \\n' 'Ciudad de \\nMéxico '\n",
      " 'Colima ' 'Guanajuato \\n' 'Guerrero \\n' 'Jalisco '\n",
      " 'Michoacán \\nde Ocampo \\n' 'Morelos ' 'México ' 'Nuevo León \\n' 'Puebla '\n",
      " 'Quintana \\nRoo ' 'Sinaloa ' 'Sonora ' 'Tamaulipas \\n'\n",
      " 'Veracruz de \\nIgnacio de' 'Zacatecas \\n' 'la Llave ']\n",
      "['Baja \\nCalifornia \\n' 'Ciudad de \\nMéxico '\n",
      " 'Coahuila \\nde \\nZaragoza \\n' 'Guanajuato \\n' 'Guerrero \\n' 'Hidalgo\\n'\n",
      " 'Jalisco ' 'Michoacán \\nde \\nOcampo \\n' 'Morelos ' 'México '\n",
      " 'Nuevo \\nLeón ' 'Oaxaca ' 'Puebla ' 'Quintana \\nRoo ' 'Sinaloa '\n",
      " 'Sonora ' 'Tabasco ' 'Veracruz \\nde Ignacio \\nde la Llave \\n']\n",
      "['Baja \\nCalifornia \\n' 'Chiapas ' 'Chihuahua \\n' 'Ciudad de \\nMéxico '\n",
      " 'Colima ' 'Durango ' 'Guanajuato \\n' 'Guerrero ' 'Jalisco '\n",
      " 'Michoacán \\nde Ocampo \\n' 'Morelos ' 'México ' 'Nuevo León \\n' 'Puebla '\n",
      " 'Quintana \\nRoo ' 'San Luis \\nPotosí ' 'Sinaloa ' 'Sonora ' 'Tabasco '\n",
      " 'Tamaulipas \\n' 'Veracruz de \\nIgnacio de \\nla Llave ' 'Zacatecas \\n']\n",
      "['Aguascalientes \\n' 'Baja California \\n' 'Chihuahua '\n",
      " 'Coahuila de \\nZaragoza ' 'Colima ' 'Durango ' 'Guanajuato ' 'Guerrero '\n",
      " 'Jalisco ' 'Michoacán de \\nOcampo ' 'Morelos ' 'México ' 'Nuevo León '\n",
      " 'Oaxaca ' 'Puebla ' 'San Luis Potosí \\n' 'Sinaloa ' 'Sonora ' 'Tabasco '\n",
      " 'Tlaxcala ' 'Veracruz de \\nIgnacio de la \\nLlave ']\n",
      "['Baja \\nCalifornia \\n' 'Chihuahua \\n' 'Ciudad de \\nMéxico '\n",
      " 'Guanajuato \\n' 'Guerrero \\n' 'Hidalgo ' 'Jalisco '\n",
      " 'Michoacán \\nde Ocampo \\n' 'Morelos ' 'México ' 'Nuevo León \\n' 'Oaxaca '\n",
      " 'Puebla ' 'Quintana \\nRoo ' 'San Luis \\nPotosí ' 'Sinaloa ' 'Sonora '\n",
      " 'Tamaulipas \\n' 'Veracruz de \\nIgnacio de \\nla Llave ' 'Zacatecas']\n",
      "['Baja \\nCalifornia \\n' 'Chiapas ' 'Chihuahua \\n' 'Ciudad de \\nMéxico '\n",
      " 'Colima ' 'Durango ' 'Guanajuato \\n' 'Guerrero\\n' 'Jalisco '\n",
      " 'Michoacán \\nde Ocampo \\n' 'Morelos ' 'México ' 'Nuevo León \\n' 'Oaxaca '\n",
      " 'Puebla ' 'Quintana \\nRoo ' 'San Luis \\nPotosí ' 'Sinaloa ' 'Sonora '\n",
      " 'Tabasco ' 'Tamaulipas' 'Veracruz de \\nIgnacio de \\nla Llave '\n",
      " 'Zacatecas \\n']\n",
      "['Baja \\nCalifornia \\n' 'Chiapas ' 'Chihuahua \\n' 'Ciudad de \\nMéxico '\n",
      " 'Coahuila de \\nZaragoza ' 'Durango ' 'Guanajuato \\n' 'Guerrero '\n",
      " 'Hidalgo ' 'Jalisco ' 'Michoacán \\nde Ocampo \\n' 'Morelos ' 'México '\n",
      " 'Nuevo León \\n' 'Puebla ' 'Quintana \\nRoo ' 'San Luis \\nPotosí '\n",
      " 'Sinaloa ' 'Sonora ' 'Veracruz de \\nIgnacio de \\nla Llave '\n",
      " 'Zacatecas \\n']\n",
      "['Baja \\nCalifornia \\n' 'Chihuahua \\n' 'Ciudad de \\nMéxico '\n",
      " 'Coahuila de \\nZaragoza ' 'Colima ' 'Guanajuato \\n' 'Guerrero' 'Hidalgo '\n",
      " 'Jalisco ' 'Michoacán \\nde Ocampo \\n' 'Morelos ' 'México ' 'Nayarit '\n",
      " 'Puebla ' 'San Luis \\nPotosí ' 'Sinaloa ' 'Tabasco ' 'Tamaulipas \\n'\n",
      " 'Tlaxcala ' 'Veracruz de \\nIgnacio de \\nla Llave ']\n",
      "['Aguascalientes \\n' 'Baja California \\n' 'Campeche ' 'Chihuahua '\n",
      " 'Ciudad de \\nMéxico ' 'Colima ' 'Guanajuato \\n' 'Guerrero ' 'Jalisco '\n",
      " 'Michoacán de \\nOcampo ' 'México ' 'Oaxaca ' 'Puebla ' 'Quintana Roo \\n'\n",
      " 'San Luis Potosí \\n' 'Sinaloa ' 'Sonora ' 'Tamaulipas \\n' 'Yucatán ']\n",
      "['Aguascalientes \\n' 'Baja California \\n' 'Chiapas ' 'Chihuahua '\n",
      " 'Ciudad de \\nMéxico ' 'Colima ' 'Guanajuato \\n' 'Guerrero ' 'Hidalgo '\n",
      " 'Jalisco ' 'Michoacán de \\nOcampo ' 'Morelos ' 'México ' 'Nuevo León '\n",
      " 'Oaxaca ' 'Puebla ' 'San Luis Potosí \\n' 'Sonora ' 'Tabasco '\n",
      " 'Tamaulipas ' 'Tlaxcala ' 'Veracruz de \\nIgnacio de la \\nLlave '\n",
      " 'Zacatecas ']\n",
      "['Aguascalientes \\n' 'Baja California \\n' 'Chihuahua '\n",
      " 'Coahuila de \\nZaragoza ' 'Colima ' 'Guanajuato ' 'Guerrero ' 'Jalisco '\n",
      " 'Michoacán de \\nOcampo ' 'Morelos ' 'México ' 'Nuevo León ' 'Puebla '\n",
      " 'Querétaro ' 'Quintana Roo \\n' 'San Luis Potosí \\n' 'Sinaloa ' 'Sonora '\n",
      " 'Tabasco ' 'Tamaulipas ' 'Tlaxcala ' 'Yucatán ' 'Zacatecas ']\n",
      "['Baja California \\n' 'Chiapas ' 'Chihuahua \\n' 'Coahuila de \\nZaragoza '\n",
      " 'Colima ' 'Durango ' 'Guanajuato \\n' 'Guerrero ' 'Jalisco '\n",
      " 'Michoacán de \\nOcampo ' 'Morelos ' 'México ' 'Nuevo León ' 'Oaxaca '\n",
      " 'Puebla ' 'Quintana Roo \\n' 'San Luis \\nPotosí ' 'Sinaloa ' 'Sonora '\n",
      " 'Tabasco ' 'Tamaulipas ' 'Veracruz de \\nIgnacio de la \\nLlave ']\n",
      "['Baja \\nCalifornia ' 'Chihuahua \\n' 'Ciudad de \\nMéxico ' 'Colima '\n",
      " 'Guanajuato \\n' 'Guerrero ' 'Jalisco ' 'Michoacán \\nde Ocampo \\n'\n",
      " 'Morelos ' 'México ' 'Nuevo León \\n' 'Puebla ' 'Querétaro '\n",
      " 'Quintana \\nRoo ' 'San Luis \\nPotosí ' 'Sinaloa ' 'Sonora ' 'Tabasco '\n",
      " 'Tlaxcala ' 'Veracruz de \\nIgnacio de la \\nLlave ' 'Zacatecas ']\n",
      "['Baja \\nCalifornia ' 'Chihuahua \\n' 'Coahuila de \\nZaragoza ' 'Colima '\n",
      " 'Guanajuato \\n' 'Guerrero ' 'Jalisco ' 'Michoacán \\nde Ocampo \\n'\n",
      " 'Morelos ' 'México ' 'Nuevo León \\n' 'Oaxaca ' 'Puebla '\n",
      " 'Quintana \\nRoo ' 'San Luis \\nPotosí ' 'Sinaloa ' 'Sonora ' 'Tabasco '\n",
      " 'Tamaulipas \\n' 'Veracruz de \\nIgnacio de la \\nLlave ']\n",
      "['Chihuahua ' 'Ciudad de \\nMéxico ' 'Coahuila de \\nZaragoza ' 'Colima '\n",
      " 'Guanajuato \\n' 'Guerrero ' 'Jalisco ' 'Michoacán de \\nOcampo '\n",
      " 'Morelos ' 'México ' 'Nuevo León \\n' 'Oaxaca ' 'Puebla ' 'Querétaro '\n",
      " 'Quintana Roo \\n' 'San Luis \\nPotosí ' 'Tamaulipas '\n",
      " 'Veracruz de \\nIgnacio de la \\nLlave ' 'Zacatecas ']\n",
      "['Baja California \\n' 'Chihuahua ' 'Ciudad de \\nMéxico ' 'Guanajuato \\n'\n",
      " 'Guerrero ' 'Jalisco ' 'Michoacán de \\nOcampo ' 'Morelos ' 'México '\n",
      " 'Nuevo León \\n' 'Puebla ' 'Quintana Roo \\n' 'Sinaloa ' 'Tamaulipas '\n",
      " 'Veracruz de \\nIgnacio de la \\nLlave ' 'Zacatecas ']\n",
      "['Baja California \\n' 'Campeche ' 'Chiapas ' 'Chihuahua '\n",
      " 'Ciudad de \\nMéxico ' 'Colima ' 'Guanajuato \\n' 'Guerrero '\n",
      " 'Ignacio de la \\nLlave ' 'Jalisco ' 'Michoacán de \\nOcampo ' 'México '\n",
      " 'Nuevo León \\n' 'Oaxaca ' 'Puebla ' 'Querétaro ' 'Quintana Roo \\n'\n",
      " 'San Luis \\nPotosí ' 'Sinaloa ' 'Sonora ' 'Tabasco ' 'Tamaulipas '\n",
      " 'Veracruz de' 'Zacatecas ']\n",
      "['Baja \\nCalifornia ' 'Chiapas ' 'Chihuahua ' 'Colima ' 'Guanajuato \\n'\n",
      " 'Guerrero ' 'Jalisco ' 'Michoacán de \\nOcampo ' 'Morelos ' 'México '\n",
      " 'Nayarit ' 'Nuevo León \\n' 'Oaxaca ' 'Querétaro ' 'Quintana Roo'\n",
      " 'Sinaloa ' 'Sonora ' 'Tabasco ' 'Tamaulipas \\n'\n",
      " 'Veracruz de \\nIgnacio de la \\nLlave ' 'Yucatán ']\n",
      "['Aguascalientes \\n' 'Baja California \\n' 'Chihuahua '\n",
      " 'Ciudad de \\nMéxico ' 'Colima ' 'Guanajuato \\n' 'Guerrero ' 'Hidalgo '\n",
      " 'Jalisco ' 'Michoacán de \\nOcampo ' 'Morelos ' 'México ' 'Nuevo León '\n",
      " 'Oaxaca ' 'Puebla ' 'Quintana Roo \\n' 'San Luis Potosí \\n' 'Sinaloa '\n",
      " 'Sonora ' 'Tabasco ' 'Tamaulipas ' 'Tlaxcala '\n",
      " 'Veracruz de \\nIgnacio de la \\nLlave ' 'Zacatecas ']\n",
      "['Baja California \\n' 'Chiapas ' 'Chihuahua ' 'Ciudad de \\nMéxico '\n",
      " 'Colima ' 'Guanajuato \\n' 'Guerrero ' 'Jalisco ' 'Michoacán de \\nOcampo '\n",
      " 'Morelos ' 'México ' 'Nuevo León \\n' 'Oaxaca ' 'Potosí ' 'Puebla '\n",
      " 'Quintana Roo \\n' 'San Luis' 'Sinaloa ' 'Sonora ' 'Tabasco '\n",
      " 'Tamaulipas ' 'Veracruz de \\nIgnacio de la \\nLlave ' 'Zacatecas ']\n",
      "['Aguascalientes \\n' 'Baja California \\n' 'Chihuahua ' 'Guanajuato '\n",
      " 'Guerrero ' 'Jalisco ' 'Michoacán de' 'Morelos ' 'México '\n",
      " 'Nuevo León \\n' 'Oaxaca ' 'Ocampo ' 'Puebla ' 'Quintana Roo \\n'\n",
      " 'San Luis Potosí \\n' 'Sonora ' 'Tabasco '\n",
      " 'Veracruz de \\nIgnacio de la \\nLlave ' 'Zacatecas ']\n",
      "['Baja California \\n' 'Chihuahua ' 'Ciudad de \\nMéxico ' 'Colima '\n",
      " 'Guanajuato \\n' 'Guerrero ' 'Jalisco ' 'Michoacán de \\nOcampo '\n",
      " 'Morelos ' 'México ' 'Nuevo León \\n' 'Oaxaca ' 'Puebla '\n",
      " 'Quintana Roo \\n' 'San Luis \\nPotosí ' 'Sonora ' 'Tamaulipas'\n",
      " 'Veracruz de \\nIgnacio de la \\nLlave ']\n"
     ]
    }
   ],
   "source": [
    "dirname = \"../data_raw/county/2020/February/\"\n",
    "col_list = [\"Entidad\"]\n",
    "\n",
    "for filename in sorted(glob.glob(dirname + '/*.csv')):\n",
    "    df = pd.read_csv(filename, usecols=col_list)\n",
    "    print(df[\"Entidad\"].unique())"
   ]
  }
 ],
 "metadata": {
  "kernelspec": {
   "display_name": "Python 3",
   "language": "python",
   "name": "python3"
  },
  "language_info": {
   "codemirror_mode": {
    "name": "ipython",
    "version": 3
   },
   "file_extension": ".py",
   "mimetype": "text/x-python",
   "name": "python",
   "nbconvert_exporter": "python",
   "pygments_lexer": "ipython3",
   "version": "3.7.4"
  }
 },
 "nbformat": 4,
 "nbformat_minor": 2
}

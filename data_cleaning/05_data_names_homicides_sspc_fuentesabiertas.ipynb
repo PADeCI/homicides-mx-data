{
 "cells": [
  {
   "cell_type": "markdown",
   "metadata": {},
   "source": [
    "## Rename State column"
   ]
  },
  {
   "cell_type": "code",
   "execution_count": 17,
   "metadata": {},
   "outputs": [],
   "source": [
    "#Libraries\n",
    "import pandas as pd\n",
    "import numpy as np\n",
    "from fuzzywuzzy import fuzz\n",
    "from fuzzywuzzy import process\n",
    "import glob\n",
    "from pathlib import Path\n"
   ]
  },
  {
   "cell_type": "markdown",
   "metadata": {},
   "source": [
    "### Change Row \"Mexico\" for \"Estado de México\""
   ]
  },
  {
   "cell_type": "code",
   "execution_count": 18,
   "metadata": {},
   "outputs": [],
   "source": [
    "def rename_row_mexico(dirname):\n",
    "    \"\"\" \n",
    "    rename_row_mexico \n",
    "  \n",
    "    Rename all rows with the string \"México\"\n",
    "  \n",
    "    Parameters: \n",
    "    dirname (str)     : Directory to extract and change the colum names       \n",
    "\n",
    "    \"\"\"\n",
    "    for filename in sorted(glob.glob(dirname + '/*.csv')):\n",
    "        df = pd.read_csv(filename)\n",
    "    \n",
    "\n",
    "        path = Path(filename).stem\n",
    "        print(path)\n",
    "        #df['Entidad'] = np.where((df.Entidad == 'México '),'Estado de México',df.Entidad)\n",
    "        df['Entidad'] = np.where((df.Entidad == 'México '),'Estado de México',df.Entidad)\n",
    "        df.to_csv( dirname  + path + \".csv\",encoding=\"utf-8\", index = False)\n",
    "        "
   ]
  },
  {
   "cell_type": "code",
   "execution_count": 19,
   "metadata": {},
   "outputs": [
    {
     "output_type": "stream",
     "name": "stdout",
     "text": [
      "01032021\n02032021\n03032021\n04032021\n05032021\n06032021\n07032021\n08032021\n09032021\n10032021\n11032021\n12032021\n13032021\n14032021\n15032021\n16032021\n17032021\n18032021\n19032021\n20032021\n21032021\n22032021\n23032021\n24032021\n25032021\n26032021\n27032021\n28032021\n29032021\n30032021\n31032021\n"
     ]
    }
   ],
   "source": [
    "rename_row_mexico(\"../data_raw/fuentes_abiertas/2021/march/\")"
   ]
  },
  {
   "cell_type": "markdown",
   "metadata": {},
   "source": [
    "## Check Consistency column \"Entidad\""
   ]
  },
  {
   "cell_type": "markdown",
   "metadata": {},
   "source": [
    "### Fuzzy Wuzzy"
   ]
  },
  {
   "cell_type": "code",
   "execution_count": 20,
   "metadata": {},
   "outputs": [],
   "source": [
    "\n",
    "#col_list = [\"Entidad\"]\n",
    "\n",
    "df_states = pd.read_csv(\"./dictionary_states.csv\")\n",
    "\n"
   ]
  },
  {
   "cell_type": "code",
   "execution_count": 21,
   "metadata": {},
   "outputs": [],
   "source": [
    "def cambios_state(mal, bien):\n",
    "    for i in mal:\n",
    "        x = process.extractOne(i, df_states[\"bien\"])\n",
    "        nombres.append(x[0])\n",
    "        proporcion.append(x[1])\n",
    "    return nombres, proporcion\n",
    "\n"
   ]
  },
  {
   "cell_type": "markdown",
   "metadata": {},
   "source": [
    "## Estado y Directorio"
   ]
  },
  {
   "cell_type": "code",
   "execution_count": 22,
   "metadata": {},
   "outputs": [
    {
     "output_type": "stream",
     "name": "stdout",
     "text": [
      "01032021\n",
      "02032021\n",
      "03032021\n",
      "04032021\n",
      "05032021\n",
      "06032021\n",
      "07032021\n",
      "08032021\n",
      "09032021\n",
      "10032021\n",
      "11032021\n",
      "12032021\n",
      "13032021\n",
      "14032021\n",
      "15032021\n",
      "16032021\n",
      "17032021\n",
      "18032021\n",
      "19032021\n",
      "20032021\n",
      "21032021\n",
      "22032021\n",
      "23032021\n",
      "24032021\n",
      "25032021\n",
      "26032021\n",
      "27032021\n",
      "28032021\n",
      "29032021\n",
      "30032021\n",
      "31032021\n"
     ]
    }
   ],
   "source": [
    "\n",
    "dirname = \"../data_raw/fuentes_abiertas/2021/march/\"\n",
    "#dirname = \"../Anomalias/\"\n",
    "\n",
    "\n",
    "for filename in sorted(glob.glob(dirname + '/*.csv')):\n",
    "    df = pd.read_csv(filename)\n",
    "\n",
    "    nombres = []\n",
    "    proporcion = []\n",
    "\n",
    "    mal=df[\"Entidad\"].dropna().values\n",
    "    bien=df_states[\"bien\"].dropna().values\n",
    "\n",
    "    corregido, rango=cambios_state(mal, bien)\n",
    "    df[\"Entidad\"]=pd.Series(corregido)\n",
    "    #df[\"ratiom\"]=pd.Series(rango)\n",
    "\n",
    "    path = Path(filename).stem\n",
    "    print(path)\n",
    "    df.to_csv( dirname +path + \".csv\",encoding=\"utf-8\", index = False)\n"
   ]
  },
  {
   "cell_type": "markdown",
   "metadata": {},
   "source": [
    "### Add time_stamp"
   ]
  },
  {
   "cell_type": "code",
   "execution_count": 23,
   "metadata": {},
   "outputs": [],
   "source": [
    "from datetime import datetime\n",
    "\n",
    "def time_stamp(dirname):\n",
    "    for filename in sorted(glob.glob(dirname + '/*.csv')):\n",
    "        df = pd.read_csv(filename)\n",
    "        path = Path(filename).stem\n",
    "        print(path)\n",
    "\n",
    "        preliminar_date = path\n",
    "        dts = datetime.strptime(preliminar_date, '%d%m%Y')\n",
    "        dts = dts.strftime('%Y-%m-%d')\n",
    "        df['Fecha'] = dts\n",
    "\n",
    "        df.to_csv(dirname  + path + \".csv\",encoding=\"utf-8\", index = False)"
   ]
  },
  {
   "cell_type": "code",
   "execution_count": 24,
   "metadata": {},
   "outputs": [
    {
     "output_type": "stream",
     "name": "stdout",
     "text": [
      "01032021\n",
      "02032021\n",
      "03032021\n",
      "04032021\n",
      "05032021\n",
      "06032021\n",
      "07032021\n",
      "08032021\n",
      "09032021\n",
      "10032021\n",
      "11032021\n",
      "12032021\n",
      "13032021\n",
      "14032021\n",
      "15032021\n",
      "16032021\n",
      "17032021\n",
      "18032021\n",
      "19032021\n",
      "20032021\n",
      "21032021\n",
      "22032021\n",
      "23032021\n",
      "24032021\n",
      "25032021\n",
      "26032021\n",
      "27032021\n",
      "28032021\n",
      "29032021\n",
      "30032021\n",
      "31032021\n"
     ]
    }
   ],
   "source": [
    "time_stamp(\"../data_raw/fuentes_abiertas/2021/march/\")\n",
    "#time_stamp(\"../Anomalias/\")"
   ]
  },
  {
   "cell_type": "code",
   "execution_count": 25,
   "metadata": {},
   "outputs": [],
   "source": [
    "mal=df[\"Entidad\"].dropna().values\n",
    "bien=df_states[\"bien\"].dropna().values\n",
    "\n",
    "corregido, rango=cambios_state(mal, bien)"
   ]
  },
  {
   "cell_type": "code",
   "execution_count": 26,
   "metadata": {},
   "outputs": [],
   "source": [
    "df[\"Entidad\"]=pd.Series(corregido)\n",
    "#df[\"ratiom\"]=pd.Series(rango)"
   ]
  },
  {
   "cell_type": "code",
   "execution_count": 12,
   "metadata": {},
   "outputs": [
    {
     "output_type": "execute_result",
     "data": {
      "text/plain": [
       "             Entidad                                          Municipio  \\\n",
       "0    Baja California                                             Tecate   \n",
       "1    Baja California                                            Tijuana   \n",
       "2          Chihuahua                                             Juárez   \n",
       "3             Colima                                             Colima   \n",
       "4         Guanajuato                                           Acámbaro   \n",
       "5         Guanajuato  Dolores \\nHidalgo Cuna \\nde la \\nIndependencia...   \n",
       "6         Guanajuato                                          Uriangato   \n",
       "7           Guerrero                        Chilpancingo \\nde los Bravo   \n",
       "8           Guerrero                                Coyuca de \\nBenítez   \n",
       "9            Jalisco                                        Guadalajara   \n",
       "10           Jalisco                               Ojuelos de \\nJalisco   \n",
       "11           Jalisco                                            Zapopan   \n",
       "12         Michoacán                                            Morelia   \n",
       "13         Michoacán                                            Uruapan   \n",
       "14         Michoacán                                             Zamora   \n",
       "15           Morelos                                            Cuautla   \n",
       "16  Estado de México                              Ecatepec de \\nMorelos   \n",
       "17  Estado de México                                Tenango del \\nValle   \n",
       "18        Nuevo León                                             García   \n",
       "19            Oaxaca                     Santiago \\nPinotepa \\nNacional   \n",
       "20            Puebla                                             Puebla   \n",
       "21      Quintana Roo                                      Benito Juárez   \n",
       "22           Sinaloa                                           Culiacán   \n",
       "23           Sinaloa                                              Elota   \n",
       "24            Sonora                                            Nogales   \n",
       "25           Tabasco                                           Cárdenas   \n",
       "26           Tabasco                                       Huimanguillo   \n",
       "27        Tamaulipas                                           Victoria   \n",
       "28          Veracruz                                         Minatitlán   \n",
       "29          Veracruz                                             Xalapa   \n",
       "30           Yucatán                                            Kanasín   \n",
       "31         Zacatecas                                          Zacatecas   \n",
       "\n",
       "    Homicidios  Hombre  Mujer  No Identificado  \n",
       "0          1.0     1.0    0.0              0.0  \n",
       "1          3.0     3.0    0.0              0.0  \n",
       "2          5.0     3.0    1.0              1.0  \n",
       "3          1.0     0.0    1.0              0.0  \n",
       "4          2.0     2.0    0.0              0.0  \n",
       "5          2.0     2.0    0.0              0.0  \n",
       "6          1.0     1.0    0.0              0.0  \n",
       "7          1.0     1.0    0.0              0.0  \n",
       "8          1.0     0.0    1.0              0.0  \n",
       "9          3.0     3.0    0.0              0.0  \n",
       "10         7.0     6.0    1.0              0.0  \n",
       "11         3.0     3.0    0.0              0.0  \n",
       "12         4.0     4.0    0.0              0.0  \n",
       "13         2.0     2.0    0.0              0.0  \n",
       "14         1.0     1.0    0.0              0.0  \n",
       "15         1.0     1.0    0.0              0.0  \n",
       "16         1.0     1.0    0.0              0.0  \n",
       "17         1.0     1.0    0.0              0.0  \n",
       "18         1.0     1.0    0.0              0.0  \n",
       "19         1.0     1.0    0.0              0.0  \n",
       "20         2.0     2.0    0.0              0.0  \n",
       "21         1.0     1.0    0.0              0.0  \n",
       "22         1.0     1.0    0.0              0.0  \n",
       "23         2.0     2.0    0.0              0.0  \n",
       "24         1.0     1.0    0.0              0.0  \n",
       "25         1.0     1.0    0.0              0.0  \n",
       "26         3.0     3.0    0.0              0.0  \n",
       "27         1.0     1.0    0.0              0.0  \n",
       "28         3.0     2.0    1.0              0.0  \n",
       "29         1.0     0.0    1.0              0.0  \n",
       "30         1.0     1.0    0.0              0.0  \n",
       "31         3.0     2.0    1.0              0.0  "
      ],
      "text/html": "<div>\n<style scoped>\n    .dataframe tbody tr th:only-of-type {\n        vertical-align: middle;\n    }\n\n    .dataframe tbody tr th {\n        vertical-align: top;\n    }\n\n    .dataframe thead th {\n        text-align: right;\n    }\n</style>\n<table border=\"1\" class=\"dataframe\">\n  <thead>\n    <tr style=\"text-align: right;\">\n      <th></th>\n      <th>Entidad</th>\n      <th>Municipio</th>\n      <th>Homicidios</th>\n      <th>Hombre</th>\n      <th>Mujer</th>\n      <th>No Identificado</th>\n    </tr>\n  </thead>\n  <tbody>\n    <tr>\n      <th>0</th>\n      <td>Baja California</td>\n      <td>Tecate</td>\n      <td>1.0</td>\n      <td>1.0</td>\n      <td>0.0</td>\n      <td>0.0</td>\n    </tr>\n    <tr>\n      <th>1</th>\n      <td>Baja California</td>\n      <td>Tijuana</td>\n      <td>3.0</td>\n      <td>3.0</td>\n      <td>0.0</td>\n      <td>0.0</td>\n    </tr>\n    <tr>\n      <th>2</th>\n      <td>Chihuahua</td>\n      <td>Juárez</td>\n      <td>5.0</td>\n      <td>3.0</td>\n      <td>1.0</td>\n      <td>1.0</td>\n    </tr>\n    <tr>\n      <th>3</th>\n      <td>Colima</td>\n      <td>Colima</td>\n      <td>1.0</td>\n      <td>0.0</td>\n      <td>1.0</td>\n      <td>0.0</td>\n    </tr>\n    <tr>\n      <th>4</th>\n      <td>Guanajuato</td>\n      <td>Acámbaro</td>\n      <td>2.0</td>\n      <td>2.0</td>\n      <td>0.0</td>\n      <td>0.0</td>\n    </tr>\n    <tr>\n      <th>5</th>\n      <td>Guanajuato</td>\n      <td>Dolores \\nHidalgo Cuna \\nde la \\nIndependencia...</td>\n      <td>2.0</td>\n      <td>2.0</td>\n      <td>0.0</td>\n      <td>0.0</td>\n    </tr>\n    <tr>\n      <th>6</th>\n      <td>Guanajuato</td>\n      <td>Uriangato</td>\n      <td>1.0</td>\n      <td>1.0</td>\n      <td>0.0</td>\n      <td>0.0</td>\n    </tr>\n    <tr>\n      <th>7</th>\n      <td>Guerrero</td>\n      <td>Chilpancingo \\nde los Bravo</td>\n      <td>1.0</td>\n      <td>1.0</td>\n      <td>0.0</td>\n      <td>0.0</td>\n    </tr>\n    <tr>\n      <th>8</th>\n      <td>Guerrero</td>\n      <td>Coyuca de \\nBenítez</td>\n      <td>1.0</td>\n      <td>0.0</td>\n      <td>1.0</td>\n      <td>0.0</td>\n    </tr>\n    <tr>\n      <th>9</th>\n      <td>Jalisco</td>\n      <td>Guadalajara</td>\n      <td>3.0</td>\n      <td>3.0</td>\n      <td>0.0</td>\n      <td>0.0</td>\n    </tr>\n    <tr>\n      <th>10</th>\n      <td>Jalisco</td>\n      <td>Ojuelos de \\nJalisco</td>\n      <td>7.0</td>\n      <td>6.0</td>\n      <td>1.0</td>\n      <td>0.0</td>\n    </tr>\n    <tr>\n      <th>11</th>\n      <td>Jalisco</td>\n      <td>Zapopan</td>\n      <td>3.0</td>\n      <td>3.0</td>\n      <td>0.0</td>\n      <td>0.0</td>\n    </tr>\n    <tr>\n      <th>12</th>\n      <td>Michoacán</td>\n      <td>Morelia</td>\n      <td>4.0</td>\n      <td>4.0</td>\n      <td>0.0</td>\n      <td>0.0</td>\n    </tr>\n    <tr>\n      <th>13</th>\n      <td>Michoacán</td>\n      <td>Uruapan</td>\n      <td>2.0</td>\n      <td>2.0</td>\n      <td>0.0</td>\n      <td>0.0</td>\n    </tr>\n    <tr>\n      <th>14</th>\n      <td>Michoacán</td>\n      <td>Zamora</td>\n      <td>1.0</td>\n      <td>1.0</td>\n      <td>0.0</td>\n      <td>0.0</td>\n    </tr>\n    <tr>\n      <th>15</th>\n      <td>Morelos</td>\n      <td>Cuautla</td>\n      <td>1.0</td>\n      <td>1.0</td>\n      <td>0.0</td>\n      <td>0.0</td>\n    </tr>\n    <tr>\n      <th>16</th>\n      <td>Estado de México</td>\n      <td>Ecatepec de \\nMorelos</td>\n      <td>1.0</td>\n      <td>1.0</td>\n      <td>0.0</td>\n      <td>0.0</td>\n    </tr>\n    <tr>\n      <th>17</th>\n      <td>Estado de México</td>\n      <td>Tenango del \\nValle</td>\n      <td>1.0</td>\n      <td>1.0</td>\n      <td>0.0</td>\n      <td>0.0</td>\n    </tr>\n    <tr>\n      <th>18</th>\n      <td>Nuevo León</td>\n      <td>García</td>\n      <td>1.0</td>\n      <td>1.0</td>\n      <td>0.0</td>\n      <td>0.0</td>\n    </tr>\n    <tr>\n      <th>19</th>\n      <td>Oaxaca</td>\n      <td>Santiago \\nPinotepa \\nNacional</td>\n      <td>1.0</td>\n      <td>1.0</td>\n      <td>0.0</td>\n      <td>0.0</td>\n    </tr>\n    <tr>\n      <th>20</th>\n      <td>Puebla</td>\n      <td>Puebla</td>\n      <td>2.0</td>\n      <td>2.0</td>\n      <td>0.0</td>\n      <td>0.0</td>\n    </tr>\n    <tr>\n      <th>21</th>\n      <td>Quintana Roo</td>\n      <td>Benito Juárez</td>\n      <td>1.0</td>\n      <td>1.0</td>\n      <td>0.0</td>\n      <td>0.0</td>\n    </tr>\n    <tr>\n      <th>22</th>\n      <td>Sinaloa</td>\n      <td>Culiacán</td>\n      <td>1.0</td>\n      <td>1.0</td>\n      <td>0.0</td>\n      <td>0.0</td>\n    </tr>\n    <tr>\n      <th>23</th>\n      <td>Sinaloa</td>\n      <td>Elota</td>\n      <td>2.0</td>\n      <td>2.0</td>\n      <td>0.0</td>\n      <td>0.0</td>\n    </tr>\n    <tr>\n      <th>24</th>\n      <td>Sonora</td>\n      <td>Nogales</td>\n      <td>1.0</td>\n      <td>1.0</td>\n      <td>0.0</td>\n      <td>0.0</td>\n    </tr>\n    <tr>\n      <th>25</th>\n      <td>Tabasco</td>\n      <td>Cárdenas</td>\n      <td>1.0</td>\n      <td>1.0</td>\n      <td>0.0</td>\n      <td>0.0</td>\n    </tr>\n    <tr>\n      <th>26</th>\n      <td>Tabasco</td>\n      <td>Huimanguillo</td>\n      <td>3.0</td>\n      <td>3.0</td>\n      <td>0.0</td>\n      <td>0.0</td>\n    </tr>\n    <tr>\n      <th>27</th>\n      <td>Tamaulipas</td>\n      <td>Victoria</td>\n      <td>1.0</td>\n      <td>1.0</td>\n      <td>0.0</td>\n      <td>0.0</td>\n    </tr>\n    <tr>\n      <th>28</th>\n      <td>Veracruz</td>\n      <td>Minatitlán</td>\n      <td>3.0</td>\n      <td>2.0</td>\n      <td>1.0</td>\n      <td>0.0</td>\n    </tr>\n    <tr>\n      <th>29</th>\n      <td>Veracruz</td>\n      <td>Xalapa</td>\n      <td>1.0</td>\n      <td>0.0</td>\n      <td>1.0</td>\n      <td>0.0</td>\n    </tr>\n    <tr>\n      <th>30</th>\n      <td>Yucatán</td>\n      <td>Kanasín</td>\n      <td>1.0</td>\n      <td>1.0</td>\n      <td>0.0</td>\n      <td>0.0</td>\n    </tr>\n    <tr>\n      <th>31</th>\n      <td>Zacatecas</td>\n      <td>Zacatecas</td>\n      <td>3.0</td>\n      <td>2.0</td>\n      <td>1.0</td>\n      <td>0.0</td>\n    </tr>\n  </tbody>\n</table>\n</div>"
     },
     "metadata": {},
     "execution_count": 12
    }
   ],
   "source": [
    "df"
   ]
  },
  {
   "cell_type": "markdown",
   "metadata": {},
   "source": [
    "### Check Consistency column \"Municipio\"\n"
   ]
  },
  {
   "cell_type": "code",
   "execution_count": 27,
   "metadata": {},
   "outputs": [],
   "source": [
    "df_counties = pd.read_csv(\"./dictionary_counties.csv\")\n",
    "#df_counties"
   ]
  },
  {
   "cell_type": "code",
   "execution_count": 28,
   "metadata": {},
   "outputs": [],
   "source": [
    "def cambios_counties(mal, bien):\n",
    "    for i in mal:\n",
    "        x = process.extractOne(i, df_counties[\"bien\"])\n",
    "        nombres.append(x[0])\n",
    "        proporcion.append(x[1])\n",
    "    return nombres, proporcion\n"
   ]
  },
  {
   "cell_type": "code",
   "execution_count": 30,
   "metadata": {},
   "outputs": [
    {
     "output_type": "stream",
     "name": "stdout",
     "text": [
      "01032021\n",
      "02032021\n",
      "03032021\n",
      "04032021\n",
      "05032021\n",
      "06032021\n",
      "07032021\n",
      "08032021\n",
      "09032021\n",
      "10032021\n",
      "11032021\n",
      "12032021\n",
      "13032021\n",
      "14032021\n",
      "15032021\n",
      "16032021\n",
      "17032021\n",
      "18032021\n",
      "19032021\n",
      "20032021\n",
      "21032021\n",
      "22032021\n",
      "23032021\n",
      "24032021\n",
      "25032021\n",
      "26032021\n",
      "27032021\n",
      "28032021\n",
      "29032021\n",
      "30032021\n",
      "31032021\n"
     ]
    }
   ],
   "source": [
    "dirname = \"../data_raw/fuentes_abiertas/2021/march/\"      #\n",
    "                                                            #\n",
    "############################################################\n",
    "for filename in sorted(glob.glob(dirname + '/*.csv')):\n",
    "\n",
    "    df = pd.read_csv(filename)\n",
    "    nombres = []\n",
    "    proporcion = []\n",
    "    mal=df[\"Municipio\"].dropna().values\n",
    "    bien=df_counties[\"bien\"].dropna().values\n",
    "\n",
    "\n",
    "    corregido, rango=cambios_counties(mal, bien)\n",
    "    df[\"Municipio\"]=pd.Series(corregido)\n",
    "    #df[\"ratioMunnicpios\"]=pd.Series(rango)\n",
    "\n",
    "    path = Path(filename).stem\n",
    "    print(path)\n",
    "    df.to_csv(dirname  + path + \".csv\",encoding=\"utf-8\", index = False)"
   ]
  },
  {
   "cell_type": "code",
   "execution_count": null,
   "metadata": {},
   "outputs": [],
   "source": []
  },
  {
   "cell_type": "code",
   "execution_count": null,
   "metadata": {},
   "outputs": [],
   "source": [
    "from datetime import datetime\n",
    "\n",
    "date_str3 = \"31012020\"\n",
    "dts = datetime.strptime(date_str3, '%d%m%Y')\n",
    "dts = dts.strftime('%Y-%m-%d')\n",
    "dts"
   ]
  },
  {
   "cell_type": "code",
   "execution_count": null,
   "metadata": {},
   "outputs": [],
   "source": [
    "df['Fecha'] = dts\n",
    "df.to_csv(\"AQUIII\" + \".csv\",encoding=\"utf-8\", index = False)"
   ]
  },
  {
   "cell_type": "code",
   "execution_count": null,
   "metadata": {},
   "outputs": [],
   "source": [
    "states = {\"Entidad\": v_correct_states}\n",
    "df_states = pd.DataFrame(states, columns = ['Entidad'])"
   ]
  },
  {
   "cell_type": "code",
   "execution_count": null,
   "metadata": {},
   "outputs": [],
   "source": [
    "df_states.to_csv(\"dictionary_states.csv\",encoding=\"utf-8\", index = False)"
   ]
  },
  {
   "cell_type": "code",
   "execution_count": null,
   "metadata": {},
   "outputs": [],
   "source": [
    "df_states = pd.read_csv(\"./dictionary_states.csv\")\n"
   ]
  },
  {
   "cell_type": "code",
   "execution_count": null,
   "metadata": {},
   "outputs": [],
   "source": [
    "col_list = [\"Entidad\"]\n",
    "df = pd.read_csv(\"../data_raw/county/2020/January/02012020.csv\", usecols=col_list)\n",
    "nombres = []\n",
    "proporcion = []\n",
    "df"
   ]
  },
  {
   "cell_type": "code",
   "execution_count": null,
   "metadata": {},
   "outputs": [],
   "source": [
    "mal=df[\"Entidad\"].dropna().values\n",
    "bien=df_states[\"bien\"].dropna().values\n",
    "corregido, rango=cambios(mal, bien)\n",
    "df[\"Corregido\"]=pd.Series(corregido)\n",
    "df[\"ratiom\"]=pd.Series(rango)"
   ]
  },
  {
   "cell_type": "code",
   "execution_count": null,
   "metadata": {},
   "outputs": [],
   "source": [
    "df"
   ]
  },
  {
   "cell_type": "code",
   "execution_count": null,
   "metadata": {},
   "outputs": [],
   "source": [
    "#nombres = []\n",
    "#proporcion = []\n",
    "\n",
    "def cambios(mal, bien):\n",
    "    for i in mal:\n",
    "        x = process.extractOne(i, v_correct_states)\n",
    "        nombres.append(x[0])\n",
    "        proporcion.append(x[1])\n",
    "    return nombres, proporcion\n",
    "\n"
   ]
  },
  {
   "cell_type": "code",
   "execution_count": null,
   "metadata": {},
   "outputs": [],
   "source": [
    "nombres = []\n",
    "proporcion = []\n",
    "\n",
    "def cambios(mal):\n",
    "    for i in mal:\n",
    "        x = process.extractOne(i, v_correct_states)\n",
    "        nombres.append(x[0])\n",
    "        proporcion.append(x[1])\n",
    "    return nombres, proporcion\n",
    "\n"
   ]
  },
  {
   "cell_type": "code",
   "execution_count": null,
   "metadata": {},
   "outputs": [],
   "source": [
    "def check_state_name(dirname):\n",
    "    v_correct_states = [  \"Aguascalientes\",\n",
    "                          \"Baja California\",\n",
    "                          \"Baja California Sur\",\n",
    "                          \"Campeche\",\n",
    "                          \"Coahuila\",\n",
    "                          \"Colima\",\n",
    "                          \"Chiapas\",\n",
    "                          \"Chihuahua\",\n",
    "                          \"Ciudad de México\",\n",
    "                          \"Durango\",\n",
    "                          \"Guanajuato\",\n",
    "                          \"Guerrero\",\n",
    "                          \"Hidalgo\",\n",
    "                          \"Jalisco\",\n",
    "                          \"Estado de México\",\n",
    "                          \"Michoacán\",\n",
    "                          \"Morelos\",\n",
    "                          \"Nayarit\",\n",
    "                          \"Nuevo León\",\n",
    "                          \"Oaxaca\",\n",
    "                          \"Puebla\",\n",
    "                          \"Querétaro\",\n",
    "                          \"Quintana Roo\",\n",
    "                          \"San Luis Potosí\",\n",
    "                          \"Sinaloa\",\n",
    "                          \"Sonora\",\n",
    "                          \"Tabasco\",\n",
    "                          \"Tamaulipas\",\n",
    "                          \"Tlaxcala\",\n",
    "                          \"Veracruz\",\n",
    "                          \"Yucatán\",\n",
    "                          \"Zacatecas\"\n",
    "                       ]\n",
    "    col_list = [\"Entidad\"]\n",
    "    \n",
    "    #for filename in sorted(glob.glob(dirname + '/*.csv')):\n",
    "        df = pd.read_csv(filename, usecols=col_list)\n",
    "        #df['Entidad'] = np.where(df['Entidad'] == \"Michoacán de \\nOcampo \", \"Michoacán\", df['Entidad'])\n",
    "        #df['Entidad'] = np.where(df['Entidad'] == \"Michoacán \\nde \\nOcampo \\n\", \"Michoacán\", df['Entidad'])\n",
    "        #df['Entidad'] = np.where(df['Entidad'] == \" 'Michoacán \\nde Ocampo \\n'\", \"Michoacán\", df['Entidad'])\n",
    "\n",
    "        #df['Entidad'] = np.where(df['Entidad'] == \"Veracruz de \\nIgnacio de la \\nLlave \", \"Veracruz\", df['Entidad'])\n",
    "        #for col in df:\n",
    "        #    print(df[col].unique())\n",
    "        #    print(df)\n",
    "        \n"
   ]
  },
  {
   "cell_type": "code",
   "execution_count": null,
   "metadata": {},
   "outputs": [],
   "source": [
    "mal=df[\"Entidad\"].dropna().values\n",
    "bien=df[\"bien\"].dropna().values\n",
    "\n",
    "corregido, rango=cambios(mal)\n"
   ]
  },
  {
   "cell_type": "code",
   "execution_count": null,
   "metadata": {},
   "outputs": [],
   "source": [
    "df[\"corregido\"]=pd.Series(corregido)\n",
    "df[\"ratiom\"]=pd.Series(rango)"
   ]
  },
  {
   "cell_type": "code",
   "execution_count": null,
   "metadata": {},
   "outputs": [],
   "source": [
    "df[\"Entidad\"]=pd.Series(corregido)\n",
    "df"
   ]
  },
  {
   "cell_type": "code",
   "execution_count": null,
   "metadata": {},
   "outputs": [],
   "source": [
    "v_bien= [\n",
    "\"Aguascalientes\",\n",
    "\"Baja California\",\n",
    "\"Baja California Sur\",\n",
    "\"Campeche\",\n",
    "\"Coahuila de Zaragoza\",\n",
    "\"Colima\",\n",
    "\"Chiapas\",\n",
    "\"Chihuahua\",\n",
    "\"Ciudad de Mexico\",\n",
    "\"Durango\",\n",
    "\"Guanajuato\",\n",
    "\"Guerrero\",\n",
    "\"Hidalgo\"\n",
    "]"
   ]
  },
  {
   "cell_type": "code",
   "execution_count": null,
   "metadata": {},
   "outputs": [],
   "source": [
    "ok= {\"Estado de México\",\"Ciudad de México\", \"Argentina\", \"Chile\"}\n",
    "usuario=\"Estado México \"\n",
    "aprox = process.extractOne(usuario, ok)\n",
    "print(\"La palabra mas cercana: \", usuario)\n",
    "print(aprox)"
   ]
  },
  {
   "cell_type": "code",
   "execution_count": null,
   "metadata": {},
   "outputs": [],
   "source": [
    "df"
   ]
  },
  {
   "cell_type": "code",
   "execution_count": null,
   "metadata": {},
   "outputs": [],
   "source": [
    "import pandas as pd\n",
    "import numpy as np\n",
    "\n",
    "df = pd.DataFrame({'Date' : ['11/8/2011', '11/9/2011', '11/10/2011',\n",
    "                                        '11/11/2011', '11/12/2011'],\n",
    "                'Event' : ['Dance', 'Painting', 'Dance', 'Dance', 'Painting']})\n",
    "\n",
    "df"
   ]
  },
  {
   "cell_type": "code",
   "execution_count": null,
   "metadata": {},
   "outputs": [],
   "source": [
    "df['Entidad'].mask(df['Entidad'] == 'México ', 'POP', inplace=True)\n",
    "df"
   ]
  },
  {
   "cell_type": "code",
   "execution_count": null,
   "metadata": {},
   "outputs": [],
   "source": [
    "df['Entidad'] = np.where((df.Entidad == 'México '),'Estado de México',df.Entidad)\n",
    "df"
   ]
  },
  {
   "cell_type": "code",
   "execution_count": null,
   "metadata": {},
   "outputs": [],
   "source": [
    "df_counties = pd.read_csv(\"../data_cleaning/dictionary_counties.csv\")\n",
    "df_counties"
   ]
  },
  {
   "cell_type": "code",
   "execution_count": null,
   "metadata": {},
   "outputs": [],
   "source": [
    "def correct_road(roadname):\n",
    "    if roadname in correct_roadnames:  # might want to make this a dict for O(1) lookups\n",
    "        return roadname, 100\n",
    "\n",
    "    new_name, score = process.extractOne(roadname, correct_roadnames)\n",
    "    if score < 90:\n",
    "        return roadname, score\n",
    "    else:\n",
    "        return new_name, score"
   ]
  },
  {
   "cell_type": "code",
   "execution_count": null,
   "metadata": {},
   "outputs": [],
   "source": [
    "df = pd.read_csv(\"../data_raw/county/2019/January/\")\n",
    "df"
   ]
  },
  {
   "cell_type": "code",
   "execution_count": null,
   "metadata": {},
   "outputs": [],
   "source": [
    "df2 = pd.read_csv(\"/Users/marianafernandez/Documents/PADeCI/homicides-mx-data/data_raw/county/2019/January/04012019.csv\")"
   ]
  },
  {
   "cell_type": "code",
   "execution_count": 27,
   "metadata": {},
   "outputs": [
    {
     "name": "stdout",
     "output_type": "stream",
     "text": [
      "['Baja \\nCalifornia ' 'Chihuahua \\n' 'Coahuila de \\nZaragoza ' 'Colima '\n",
      " 'Guanajuato \\n' 'Guerrero ' 'Hidalgo ' 'Jalisco '\n",
      " 'Michoacán \\nde Ocampo \\n' 'Morelos ' 'México ' 'Nuevo León \\n'\n",
      " 'San Luis \\nPotosí ' 'Sinaloa ' 'Tabasco ' 'Tamaulipas \\n'\n",
      " 'Veracruz de \\nIgnacio de la \\nLlave ']\n",
      "['Chihuahua \\n' 'Colima ' 'Guanajuato \\n' 'Guerrero ' 'Hidalgo '\n",
      " 'Michoacán \\nde Ocampo \\n' 'Morelos ' 'México ' 'Nuevo León \\n' 'Oaxaca '\n",
      " 'Puebla ' 'Quintana \\nRoo ' 'San Luis \\nPotosí ' 'Sinaloa ' 'Tabasco '\n",
      " 'Tamaulipas \\n' 'Veracruz de \\nIgnacio de la \\nLlave ']\n",
      "['Baja \\nCalifornia ' 'Chiapas ' 'Chihuahua ' 'Colima ' 'Guanajuato \\n'\n",
      " 'Guerrero ' 'Jalisco ' 'Michoacán de \\nOcampo ' 'Morelos ' 'México '\n",
      " 'Nuevo León \\n' 'Oaxaca ' 'Puebla ' 'Querétaro ' 'Quintana Roo \\n'\n",
      " 'San Luis \\nPotosí ' 'Sinaloa ' 'Sonora ' 'Tabasco ' 'Tamaulipas \\n'\n",
      " 'Veracruz de \\nIgnacio de la \\nLlave ' 'Yucatán ' 'Zacatecas ']\n",
      "['Baja \\nCalifornia ' 'Chiapas ' 'Chihuahua \\n' 'Ciudad de \\nMéxico '\n",
      " 'Coahuila de \\nZaragoza ' 'Colima ' 'Guanajuato \\n' 'Hidalgo ' 'Jalisco '\n",
      " 'Michoacán \\nde Ocampo \\n' 'Morelos ' 'México ' 'Nuevo León \\n' 'Oaxaca '\n",
      " 'Quintana \\nRoo ' 'San Luis \\nPotosí ' 'Sonora ' 'Tabasco '\n",
      " 'Tamaulipas \\n' 'Veracruz de \\nIgnacio de la \\nLlave ' 'Zacatecas ']\n",
      "['Aguascalien\\ntes ' 'Baja \\nCalifornia \\n' 'Chiapas ' 'Chihuahua \\n'\n",
      " 'Ciudad de \\nMéxico ' 'Colima ' 'Durango ' 'Guanajuato \\n' 'Guerrero '\n",
      " 'Hidalgo ' 'Jalisco ' 'Michoacán \\nde Ocampo \\n' 'México '\n",
      " 'Nuevo León \\n' 'Oaxaca ' 'Puebla ' 'Quintana \\nRoo ' 'Sinaloa '\n",
      " 'Sonora ' 'Tabasco ' 'Tamaulipas \\n' 'Tlaxcala '\n",
      " 'Veracruz de \\nIgnacio de \\nla Llave ']\n",
      "['Baja \\nCalifornia \\n' 'Chihuahua \\n' 'Ciudad de \\nMéxico ' 'Durango '\n",
      " 'Guanajuato \\n' 'Guerrero ' 'Hidalgo ' 'Jalisco '\n",
      " 'Michoacán \\nde Ocampo \\n' 'Morelos ' 'México ' 'Puebla ' 'Querétaro \\n'\n",
      " 'Quintana \\nRoo ' 'San Luis \\nPotosí ' 'Sinaloa ' 'Tabasco '\n",
      " 'Tamaulipas \\n' 'Veracruz de \\nIgnacio de \\nla Llave ' 'Zacatecas \\n']\n",
      "['Baja \\nCalifornia ' 'Baja \\nCalifornia \\nSur ' 'Chiapas ' 'Chihuahua \\n'\n",
      " 'Colima ' 'Guanajuato \\n' 'Guerrero ' 'Hidalgo ' 'Jalisco '\n",
      " 'Michoacán \\nde Ocampo \\n' 'México ' 'Nayarit ' 'Nuevo León \\n' 'Oaxaca '\n",
      " 'Puebla ' 'Querétaro \\n' 'Quintana \\nRoo ' 'Sinaloa ' 'Sonora '\n",
      " 'Tabasco ' 'Tamaulipas \\n' 'Veracruz de \\nIgnacio de la \\nLlave '\n",
      " 'Zacatecas \\n']\n",
      "['Baja \\nCalifornia \\n' 'Chiapas ' 'Chihuahua \\n' 'Ciudad de \\nMéxico '\n",
      " 'Colima ' 'Guanajuato \\n' 'Guerrero \\n' 'Jalisco '\n",
      " 'Michoacán \\nde Ocampo \\n' 'Morelos ' 'México ' 'Nuevo León \\n' 'Puebla '\n",
      " 'Quintana \\nRoo ' 'Sinaloa ' 'Sonora ' 'Tamaulipas \\n'\n",
      " 'Veracruz de \\nIgnacio de' 'Zacatecas \\n' 'la Llave ']\n",
      "['Baja \\nCalifornia \\n' 'Ciudad de \\nMéxico '\n",
      " 'Coahuila \\nde \\nZaragoza \\n' 'Guanajuato \\n' 'Guerrero \\n' 'Hidalgo\\n'\n",
      " 'Jalisco ' 'Michoacán \\nde \\nOcampo \\n' 'Morelos ' 'México '\n",
      " 'Nuevo \\nLeón ' 'Oaxaca ' 'Puebla ' 'Quintana \\nRoo ' 'Sinaloa '\n",
      " 'Sonora ' 'Tabasco ' 'Veracruz \\nde Ignacio \\nde la Llave \\n']\n",
      "['Baja \\nCalifornia \\n' 'Chiapas ' 'Chihuahua \\n' 'Ciudad de \\nMéxico '\n",
      " 'Colima ' 'Durango ' 'Guanajuato \\n' 'Guerrero ' 'Jalisco '\n",
      " 'Michoacán \\nde Ocampo \\n' 'Morelos ' 'México ' 'Nuevo León \\n' 'Puebla '\n",
      " 'Quintana \\nRoo ' 'San Luis \\nPotosí ' 'Sinaloa ' 'Sonora ' 'Tabasco '\n",
      " 'Tamaulipas \\n' 'Veracruz de \\nIgnacio de \\nla Llave ' 'Zacatecas \\n']\n",
      "['Aguascalientes \\n' 'Baja California \\n' 'Chihuahua '\n",
      " 'Coahuila de \\nZaragoza ' 'Colima ' 'Durango ' 'Guanajuato ' 'Guerrero '\n",
      " 'Jalisco ' 'Michoacán de \\nOcampo ' 'Morelos ' 'México ' 'Nuevo León '\n",
      " 'Oaxaca ' 'Puebla ' 'San Luis Potosí \\n' 'Sinaloa ' 'Sonora ' 'Tabasco '\n",
      " 'Tlaxcala ' 'Veracruz de \\nIgnacio de la \\nLlave ']\n",
      "['Baja \\nCalifornia \\n' 'Chihuahua \\n' 'Ciudad de \\nMéxico '\n",
      " 'Guanajuato \\n' 'Guerrero \\n' 'Hidalgo ' 'Jalisco '\n",
      " 'Michoacán \\nde Ocampo \\n' 'Morelos ' 'México ' 'Nuevo León \\n' 'Oaxaca '\n",
      " 'Puebla ' 'Quintana \\nRoo ' 'San Luis \\nPotosí ' 'Sinaloa ' 'Sonora '\n",
      " 'Tamaulipas \\n' 'Veracruz de \\nIgnacio de \\nla Llave ' 'Zacatecas']\n",
      "['Baja \\nCalifornia \\n' 'Chiapas ' 'Chihuahua \\n' 'Ciudad de \\nMéxico '\n",
      " 'Colima ' 'Durango ' 'Guanajuato \\n' 'Guerrero\\n' 'Jalisco '\n",
      " 'Michoacán \\nde Ocampo \\n' 'Morelos ' 'México ' 'Nuevo León \\n' 'Oaxaca '\n",
      " 'Puebla ' 'Quintana \\nRoo ' 'San Luis \\nPotosí ' 'Sinaloa ' 'Sonora '\n",
      " 'Tabasco ' 'Tamaulipas' 'Veracruz de \\nIgnacio de \\nla Llave '\n",
      " 'Zacatecas \\n']\n",
      "['Baja \\nCalifornia \\n' 'Chiapas ' 'Chihuahua \\n' 'Ciudad de \\nMéxico '\n",
      " 'Coahuila de \\nZaragoza ' 'Durango ' 'Guanajuato \\n' 'Guerrero '\n",
      " 'Hidalgo ' 'Jalisco ' 'Michoacán \\nde Ocampo \\n' 'Morelos ' 'México '\n",
      " 'Nuevo León \\n' 'Puebla ' 'Quintana \\nRoo ' 'San Luis \\nPotosí '\n",
      " 'Sinaloa ' 'Sonora ' 'Veracruz de \\nIgnacio de \\nla Llave '\n",
      " 'Zacatecas \\n']\n",
      "['Baja \\nCalifornia \\n' 'Chihuahua \\n' 'Ciudad de \\nMéxico '\n",
      " 'Coahuila de \\nZaragoza ' 'Colima ' 'Guanajuato \\n' 'Guerrero' 'Hidalgo '\n",
      " 'Jalisco ' 'Michoacán \\nde Ocampo \\n' 'Morelos ' 'México ' 'Nayarit '\n",
      " 'Puebla ' 'San Luis \\nPotosí ' 'Sinaloa ' 'Tabasco ' 'Tamaulipas \\n'\n",
      " 'Tlaxcala ' 'Veracruz de \\nIgnacio de \\nla Llave ']\n",
      "['Aguascalientes \\n' 'Baja California \\n' 'Campeche ' 'Chihuahua '\n",
      " 'Ciudad de \\nMéxico ' 'Colima ' 'Guanajuato \\n' 'Guerrero ' 'Jalisco '\n",
      " 'Michoacán de \\nOcampo ' 'México ' 'Oaxaca ' 'Puebla ' 'Quintana Roo \\n'\n",
      " 'San Luis Potosí \\n' 'Sinaloa ' 'Sonora ' 'Tamaulipas \\n' 'Yucatán ']\n",
      "['Aguascalientes \\n' 'Baja California \\n' 'Chiapas ' 'Chihuahua '\n",
      " 'Ciudad de \\nMéxico ' 'Colima ' 'Guanajuato \\n' 'Guerrero ' 'Hidalgo '\n",
      " 'Jalisco ' 'Michoacán de \\nOcampo ' 'Morelos ' 'México ' 'Nuevo León '\n",
      " 'Oaxaca ' 'Puebla ' 'San Luis Potosí \\n' 'Sonora ' 'Tabasco '\n",
      " 'Tamaulipas ' 'Tlaxcala ' 'Veracruz de \\nIgnacio de la \\nLlave '\n",
      " 'Zacatecas ']\n",
      "['Aguascalientes \\n' 'Baja California \\n' 'Chihuahua '\n",
      " 'Coahuila de \\nZaragoza ' 'Colima ' 'Guanajuato ' 'Guerrero ' 'Jalisco '\n",
      " 'Michoacán de \\nOcampo ' 'Morelos ' 'México ' 'Nuevo León ' 'Puebla '\n",
      " 'Querétaro ' 'Quintana Roo \\n' 'San Luis Potosí \\n' 'Sinaloa ' 'Sonora '\n",
      " 'Tabasco ' 'Tamaulipas ' 'Tlaxcala ' 'Yucatán ' 'Zacatecas ']\n",
      "['Baja California \\n' 'Chiapas ' 'Chihuahua \\n' 'Coahuila de \\nZaragoza '\n",
      " 'Colima ' 'Durango ' 'Guanajuato \\n' 'Guerrero ' 'Jalisco '\n",
      " 'Michoacán de \\nOcampo ' 'Morelos ' 'México ' 'Nuevo León ' 'Oaxaca '\n",
      " 'Puebla ' 'Quintana Roo \\n' 'San Luis \\nPotosí ' 'Sinaloa ' 'Sonora '\n",
      " 'Tabasco ' 'Tamaulipas ' 'Veracruz de \\nIgnacio de la \\nLlave ']\n",
      "['Baja \\nCalifornia ' 'Chihuahua \\n' 'Ciudad de \\nMéxico ' 'Colima '\n",
      " 'Guanajuato \\n' 'Guerrero ' 'Jalisco ' 'Michoacán \\nde Ocampo \\n'\n",
      " 'Morelos ' 'México ' 'Nuevo León \\n' 'Puebla ' 'Querétaro '\n",
      " 'Quintana \\nRoo ' 'San Luis \\nPotosí ' 'Sinaloa ' 'Sonora ' 'Tabasco '\n",
      " 'Tlaxcala ' 'Veracruz de \\nIgnacio de la \\nLlave ' 'Zacatecas ']\n",
      "['Baja \\nCalifornia ' 'Chihuahua \\n' 'Coahuila de \\nZaragoza ' 'Colima '\n",
      " 'Guanajuato \\n' 'Guerrero ' 'Jalisco ' 'Michoacán \\nde Ocampo \\n'\n",
      " 'Morelos ' 'México ' 'Nuevo León \\n' 'Oaxaca ' 'Puebla '\n",
      " 'Quintana \\nRoo ' 'San Luis \\nPotosí ' 'Sinaloa ' 'Sonora ' 'Tabasco '\n",
      " 'Tamaulipas \\n' 'Veracruz de \\nIgnacio de la \\nLlave ']\n",
      "['Chihuahua ' 'Ciudad de \\nMéxico ' 'Coahuila de \\nZaragoza ' 'Colima '\n",
      " 'Guanajuato \\n' 'Guerrero ' 'Jalisco ' 'Michoacán de \\nOcampo '\n",
      " 'Morelos ' 'México ' 'Nuevo León \\n' 'Oaxaca ' 'Puebla ' 'Querétaro '\n",
      " 'Quintana Roo \\n' 'San Luis \\nPotosí ' 'Tamaulipas '\n",
      " 'Veracruz de \\nIgnacio de la \\nLlave ' 'Zacatecas ']\n",
      "['Baja California \\n' 'Chihuahua ' 'Ciudad de \\nMéxico ' 'Guanajuato \\n'\n",
      " 'Guerrero ' 'Jalisco ' 'Michoacán de \\nOcampo ' 'Morelos ' 'México '\n",
      " 'Nuevo León \\n' 'Puebla ' 'Quintana Roo \\n' 'Sinaloa ' 'Tamaulipas '\n",
      " 'Veracruz de \\nIgnacio de la \\nLlave ' 'Zacatecas ']\n",
      "['Baja California \\n' 'Campeche ' 'Chiapas ' 'Chihuahua '\n",
      " 'Ciudad de \\nMéxico ' 'Colima ' 'Guanajuato \\n' 'Guerrero '\n",
      " 'Ignacio de la \\nLlave ' 'Jalisco ' 'Michoacán de \\nOcampo ' 'México '\n",
      " 'Nuevo León \\n' 'Oaxaca ' 'Puebla ' 'Querétaro ' 'Quintana Roo \\n'\n",
      " 'San Luis \\nPotosí ' 'Sinaloa ' 'Sonora ' 'Tabasco ' 'Tamaulipas '\n",
      " 'Veracruz de' 'Zacatecas ']\n",
      "['Baja \\nCalifornia ' 'Chiapas ' 'Chihuahua ' 'Colima ' 'Guanajuato \\n'\n",
      " 'Guerrero ' 'Jalisco ' 'Michoacán de \\nOcampo ' 'Morelos ' 'México '\n",
      " 'Nayarit ' 'Nuevo León \\n' 'Oaxaca ' 'Querétaro ' 'Quintana Roo'\n",
      " 'Sinaloa ' 'Sonora ' 'Tabasco ' 'Tamaulipas \\n'\n",
      " 'Veracruz de \\nIgnacio de la \\nLlave ' 'Yucatán ']\n",
      "['Aguascalientes \\n' 'Baja California \\n' 'Chihuahua '\n",
      " 'Ciudad de \\nMéxico ' 'Colima ' 'Guanajuato \\n' 'Guerrero ' 'Hidalgo '\n",
      " 'Jalisco ' 'Michoacán de \\nOcampo ' 'Morelos ' 'México ' 'Nuevo León '\n",
      " 'Oaxaca ' 'Puebla ' 'Quintana Roo \\n' 'San Luis Potosí \\n' 'Sinaloa '\n",
      " 'Sonora ' 'Tabasco ' 'Tamaulipas ' 'Tlaxcala '\n",
      " 'Veracruz de \\nIgnacio de la \\nLlave ' 'Zacatecas ']\n",
      "['Baja California \\n' 'Chiapas ' 'Chihuahua ' 'Ciudad de \\nMéxico '\n",
      " 'Colima ' 'Guanajuato \\n' 'Guerrero ' 'Jalisco ' 'Michoacán de \\nOcampo '\n",
      " 'Morelos ' 'México ' 'Nuevo León \\n' 'Oaxaca ' 'Potosí ' 'Puebla '\n",
      " 'Quintana Roo \\n' 'San Luis' 'Sinaloa ' 'Sonora ' 'Tabasco '\n",
      " 'Tamaulipas ' 'Veracruz de \\nIgnacio de la \\nLlave ' 'Zacatecas ']\n",
      "['Aguascalientes \\n' 'Baja California \\n' 'Chihuahua ' 'Guanajuato '\n",
      " 'Guerrero ' 'Jalisco ' 'Michoacán de' 'Morelos ' 'México '\n",
      " 'Nuevo León \\n' 'Oaxaca ' 'Ocampo ' 'Puebla ' 'Quintana Roo \\n'\n",
      " 'San Luis Potosí \\n' 'Sonora ' 'Tabasco '\n",
      " 'Veracruz de \\nIgnacio de la \\nLlave ' 'Zacatecas ']\n",
      "['Baja California \\n' 'Chihuahua ' 'Ciudad de \\nMéxico ' 'Colima '\n",
      " 'Guanajuato \\n' 'Guerrero ' 'Jalisco ' 'Michoacán de \\nOcampo '\n",
      " 'Morelos ' 'México ' 'Nuevo León \\n' 'Oaxaca ' 'Puebla '\n",
      " 'Quintana Roo \\n' 'San Luis \\nPotosí ' 'Sonora ' 'Tamaulipas'\n",
      " 'Veracruz de \\nIgnacio de la \\nLlave ']\n"
     ]
    }
   ],
   "source": [
    "dirname = \"../data_raw/county/2020/February/\"\n",
    "col_list = [\"Entidad\"]\n",
    "\n",
    "for filename in sorted(glob.glob(dirname + '/*.csv')):\n",
    "    df = pd.read_csv(filename, usecols=col_list)\n",
    "    print(df[\"Entidad\"].unique())"
   ]
  }
 ],
 "metadata": {
  "kernelspec": {
   "name": "python3",
   "display_name": "Python 3.8.2 64-bit",
   "metadata": {
    "interpreter": {
     "hash": "31f2aee4e71d21fbe5cf8b01ff0e069b9275f58929596ceb00d14d90e3e16cd6"
    }
   }
  },
  "language_info": {
   "codemirror_mode": {
    "name": "ipython",
    "version": 3
   },
   "file_extension": ".py",
   "mimetype": "text/x-python",
   "name": "python",
   "nbconvert_exporter": "python",
   "pygments_lexer": "ipython3",
   "version": "3.8.2"
  }
 },
 "nbformat": 4,
 "nbformat_minor": 2
}
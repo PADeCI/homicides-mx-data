{
 "cells": [
  {
   "cell_type": "markdown",
   "metadata": {},
   "source": [
    "## Rename State column"
   ]
  },
  {
   "cell_type": "code",
   "execution_count": 85,
   "metadata": {},
   "outputs": [],
   "source": [
    "#Libraries\n",
    "import pandas as pd\n",
    "import numpy as np\n",
    "from fuzzywuzzy import fuzz\n",
    "from fuzzywuzzy import process\n",
    "import glob\n",
    "from pathlib import Path\n"
   ]
  },
  {
   "cell_type": "markdown",
   "metadata": {},
   "source": [
    "### Change Row \"Mexico\" for \"Estado de México\""
   ]
  },
  {
   "cell_type": "code",
   "execution_count": 87,
   "metadata": {},
   "outputs": [],
   "source": [
    "def rename_row_mexico(dirname):\n",
    "    \"\"\" \n",
    "    rename_row_mexico \n",
    "  \n",
    "    Rename all rows with the string \"México\"\n",
    "  \n",
    "    Parameters: \n",
    "    dirname (str)     : Directory to extract and change the colum names       \n",
    "\n",
    "    \"\"\"\n",
    "    for filename in sorted(glob.glob(dirname + '/*.csv')):\n",
    "        df = pd.read_csv(filename)\n",
    "    \n",
    "\n",
    "        path = Path(filename).stem\n",
    "        print(path)\n",
    "        df['Entidad'] = np.where((df.Entidad == 'México '),'Estado de México',df.Entidad)\n",
    "        \n",
    "        df.to_csv( dirname  + path + \".csv\",encoding=\"utf-8\", index = False)\n",
    "        "
   ]
  },
  {
   "cell_type": "code",
   "execution_count": 88,
   "metadata": {},
   "outputs": [
    {
     "name": "stdout",
     "output_type": "stream",
     "text": [
      "01082020\n",
      "02082020\n",
      "03082020\n",
      "04082020\n",
      "05082020\n",
      "06082020\n",
      "07082020\n",
      "08082020\n",
      "09082020\n",
      "10082020\n",
      "11082020\n",
      "12082020\n",
      "13082020\n",
      "14082020\n",
      "15082020\n",
      "16082020\n",
      "17082020\n",
      "18082020\n",
      "19082020\n",
      "20082020\n",
      "21082020\n",
      "22082020\n",
      "23082020\n",
      "24082020\n",
      "25082020\n",
      "26082020\n",
      "27082020\n",
      "28082020\n",
      "29082020\n",
      "30082020\n",
      "31082020\n"
     ]
    }
   ],
   "source": [
    "rename_row_mexico(\"../data_raw/county/2020/August/\")"
   ]
  },
  {
   "cell_type": "markdown",
   "metadata": {},
   "source": [
    "## Check Consistency column \"Entidad\""
   ]
  },
  {
   "cell_type": "markdown",
   "metadata": {},
   "source": [
    "### Fuzzy Wuzzy"
   ]
  },
  {
   "cell_type": "code",
   "execution_count": 89,
   "metadata": {},
   "outputs": [],
   "source": [
    "\n",
    "#col_list = [\"Entidad\"]\n",
    "\n",
    "df_states = pd.read_csv(\"./dictionary_states.csv\")\n",
    "\n"
   ]
  },
  {
   "cell_type": "code",
   "execution_count": 90,
   "metadata": {},
   "outputs": [],
   "source": [
    "def cambios_state(mal, bien):\n",
    "    for i in mal:\n",
    "        x = process.extractOne(i, df_states[\"bien\"])\n",
    "        nombres.append(x[0])\n",
    "        proporcion.append(x[1])\n",
    "    return nombres, proporcion\n",
    "\n"
   ]
  },
  {
   "cell_type": "markdown",
   "metadata": {},
   "source": [
    "## Estado y Directorio"
   ]
  },
  {
   "cell_type": "code",
   "execution_count": 91,
   "metadata": {},
   "outputs": [
    {
     "name": "stdout",
     "output_type": "stream",
     "text": [
      "01082020\n",
      "02082020\n",
      "03082020\n",
      "04082020\n",
      "05082020\n",
      "06082020\n",
      "07082020\n",
      "08082020\n",
      "09082020\n",
      "10082020\n",
      "11082020\n",
      "12082020\n",
      "13082020\n",
      "14082020\n",
      "15082020\n",
      "16082020\n",
      "17082020\n",
      "18082020\n",
      "19082020\n",
      "20082020\n",
      "21082020\n",
      "22082020\n",
      "23082020\n",
      "24082020\n",
      "25082020\n",
      "26082020\n",
      "27082020\n",
      "28082020\n",
      "29082020\n",
      "30082020\n",
      "31082020\n"
     ]
    }
   ],
   "source": [
    "\n",
    "dirname = \"../data_raw/county/2020/August/\"\n",
    "\n",
    "\n",
    "for filename in sorted(glob.glob(dirname + '/*.csv')):\n",
    "    df = pd.read_csv(filename)\n",
    "\n",
    "    nombres = []\n",
    "    proporcion = []\n",
    "\n",
    "    mal=df[\"Entidad\"].dropna().values\n",
    "    bien=df_states[\"bien\"].dropna().values\n",
    "\n",
    "    corregido, rango=cambios_state(mal, bien)\n",
    "    df[\"Entidad\"]=pd.Series(corregido)\n",
    "    #df[\"ratiom\"]=pd.Series(rango)\n",
    "\n",
    "    path = Path(filename).stem\n",
    "    print(path)\n",
    "    df.to_csv( dirname +path + \".csv\",encoding=\"utf-8\", index = False)\n"
   ]
  },
  {
   "cell_type": "markdown",
   "metadata": {},
   "source": [
    "### Add time_stamp"
   ]
  },
  {
   "cell_type": "code",
   "execution_count": 92,
   "metadata": {},
   "outputs": [],
   "source": [
    "from datetime import datetime\n",
    "\n",
    "def time_stamp(dirname):\n",
    "    for filename in sorted(glob.glob(dirname + '/*.csv')):\n",
    "        df = pd.read_csv(filename)\n",
    "        path = Path(filename).stem\n",
    "        print(path)\n",
    "\n",
    "        preliminar_date = path\n",
    "        dts = datetime.strptime(preliminar_date, '%d%m%Y')\n",
    "        dts = dts.strftime('%Y-%m-%d')\n",
    "        df['Fecha'] = dts\n",
    "\n",
    "        df.to_csv(dirname  + path + \".csv\",encoding=\"utf-8\", index = False)"
   ]
  },
  {
   "cell_type": "code",
   "execution_count": 93,
   "metadata": {},
   "outputs": [
    {
     "name": "stdout",
     "output_type": "stream",
     "text": [
      "01082020\n",
      "02082020\n",
      "03082020\n",
      "04082020\n",
      "05082020\n",
      "06082020\n",
      "07082020\n",
      "08082020\n",
      "09082020\n",
      "10082020\n",
      "11082020\n",
      "12082020\n",
      "13082020\n",
      "14082020\n",
      "15082020\n",
      "16082020\n",
      "17082020\n",
      "18082020\n",
      "19082020\n",
      "20082020\n",
      "21082020\n",
      "22082020\n",
      "23082020\n",
      "24082020\n",
      "25082020\n",
      "26082020\n",
      "27082020\n",
      "28082020\n",
      "29082020\n",
      "30082020\n",
      "31082020\n"
     ]
    }
   ],
   "source": [
    "time_stamp(\"../data_raw/county/2020/August/\")\n"
   ]
  },
  {
   "cell_type": "code",
   "execution_count": null,
   "metadata": {},
   "outputs": [],
   "source": [
    "mal=df[\"Entidad\"].dropna().values\n",
    "bien=df_states[\"bien\"].dropna().values\n",
    "\n",
    "corregido, rango=cambios_state(mal, bien)"
   ]
  },
  {
   "cell_type": "code",
   "execution_count": null,
   "metadata": {},
   "outputs": [],
   "source": [
    "df[\"Entidad\"]=pd.Series(corregido)\n",
    "#df[\"ratiom\"]=pd.Series(rango)"
   ]
  },
  {
   "cell_type": "code",
   "execution_count": null,
   "metadata": {},
   "outputs": [],
   "source": [
    "df"
   ]
  },
  {
   "cell_type": "markdown",
   "metadata": {},
   "source": [
    "### Check Consistency column \"Municipio\"\n"
   ]
  },
  {
   "cell_type": "code",
   "execution_count": null,
   "metadata": {},
   "outputs": [],
   "source": [
    "df_counties = pd.read_csv(\"./dictionary_counties.csv\")\n",
    "#df_counties"
   ]
  },
  {
   "cell_type": "code",
   "execution_count": null,
   "metadata": {},
   "outputs": [],
   "source": [
    "def cambios_counties(mal, bien):\n",
    "    for i in mal:\n",
    "        x = process.extractOne(i, df_counties[\"bien\"])\n",
    "        nombres.append(x[0])\n",
    "        proporcion.append(x[1])\n",
    "    return nombres, proporcion\n"
   ]
  },
  {
   "cell_type": "code",
   "execution_count": null,
   "metadata": {},
   "outputs": [],
   "source": [
    "dirname = \"../data_raw/county/2020/January/\"                #\n",
    "                                                            #\n",
    "############################################################\n",
    "for filename in sorted(glob.glob(dirname + '/*.csv')):\n",
    "\n",
    "    df = pd.read_csv(filename)\n",
    "    nombres = []\n",
    "    proporcion = []\n",
    "    mal=df[\"Municipio\"].dropna().values\n",
    "    bien=df_counties[\"bien\"].dropna().values\n",
    "\n",
    "\n",
    "    corregido, rango=cambios_counties(mal, bien)\n",
    "    df[\"Municipio\"]=pd.Series(corregido)\n",
    "    df[\"ratioMunnicpios\"]=pd.Series(rango)\n",
    "\n",
    "    path = Path(filename).stem\n",
    "    print(path)\n",
    "    #df.to_csv(dirname  + path + \".csv\",encoding=\"utf-8\", index = False)"
   ]
  },
  {
   "cell_type": "code",
   "execution_count": null,
   "metadata": {},
   "outputs": [],
   "source": []
  },
  {
   "cell_type": "code",
   "execution_count": null,
   "metadata": {},
   "outputs": [],
   "source": [
    "from datetime import datetime\n",
    "\n",
    "date_str3 = \"31012020\"\n",
    "dts = datetime.strptime(date_str3, '%d%m%Y')\n",
    "dts = dts.strftime('%Y-%m-%d')\n",
    "dts"
   ]
  },
  {
   "cell_type": "code",
   "execution_count": null,
   "metadata": {},
   "outputs": [],
   "source": [
    "df['Fecha'] = dts\n",
    "df.to_csv(\"AQUIII\" + \".csv\",encoding=\"utf-8\", index = False)"
   ]
  },
  {
   "cell_type": "code",
   "execution_count": null,
   "metadata": {},
   "outputs": [],
   "source": [
    "states = {\"Entidad\": v_correct_states}\n",
    "df_states = pd.DataFrame(states, columns = ['Entidad'])"
   ]
  },
  {
   "cell_type": "code",
   "execution_count": null,
   "metadata": {},
   "outputs": [],
   "source": [
    "df_states.to_csv(\"dictionary_states.csv\",encoding=\"utf-8\", index = False)"
   ]
  },
  {
   "cell_type": "code",
   "execution_count": null,
   "metadata": {},
   "outputs": [],
   "source": [
    "df_states = pd.read_csv(\"./dictionary_states.csv\")\n"
   ]
  },
  {
   "cell_type": "code",
   "execution_count": null,
   "metadata": {},
   "outputs": [],
   "source": [
    "col_list = [\"Entidad\"]\n",
    "df = pd.read_csv(\"../data_raw/county/2020/January/02012020.csv\", usecols=col_list)\n",
    "nombres = []\n",
    "proporcion = []\n",
    "df"
   ]
  },
  {
   "cell_type": "code",
   "execution_count": null,
   "metadata": {},
   "outputs": [],
   "source": [
    "mal=df[\"Entidad\"].dropna().values\n",
    "bien=df_states[\"bien\"].dropna().values\n",
    "corregido, rango=cambios(mal, bien)\n",
    "df[\"Corregido\"]=pd.Series(corregido)\n",
    "df[\"ratiom\"]=pd.Series(rango)"
   ]
  },
  {
   "cell_type": "code",
   "execution_count": null,
   "metadata": {},
   "outputs": [],
   "source": [
    "df"
   ]
  },
  {
   "cell_type": "code",
   "execution_count": null,
   "metadata": {},
   "outputs": [],
   "source": [
    "#nombres = []\n",
    "#proporcion = []\n",
    "\n",
    "def cambios(mal, bien):\n",
    "    for i in mal:\n",
    "        x = process.extractOne(i, v_correct_states)\n",
    "        nombres.append(x[0])\n",
    "        proporcion.append(x[1])\n",
    "    return nombres, proporcion\n",
    "\n"
   ]
  },
  {
   "cell_type": "code",
   "execution_count": null,
   "metadata": {},
   "outputs": [],
   "source": [
    "nombres = []\n",
    "proporcion = []\n",
    "\n",
    "def cambios(mal):\n",
    "    for i in mal:\n",
    "        x = process.extractOne(i, v_correct_states)\n",
    "        nombres.append(x[0])\n",
    "        proporcion.append(x[1])\n",
    "    return nombres, proporcion\n",
    "\n"
   ]
  },
  {
   "cell_type": "code",
   "execution_count": null,
   "metadata": {},
   "outputs": [],
   "source": [
    "def check_state_name(dirname):\n",
    "    v_correct_states = [  \"Aguascalientes\",\n",
    "                          \"Baja California\",\n",
    "                          \"Baja California Sur\",\n",
    "                          \"Campeche\",\n",
    "                          \"Coahuila\",\n",
    "                          \"Colima\",\n",
    "                          \"Chiapas\",\n",
    "                          \"Chihuahua\",\n",
    "                          \"Ciudad de México\",\n",
    "                          \"Durango\",\n",
    "                          \"Guanajuato\",\n",
    "                          \"Guerrero\",\n",
    "                          \"Hidalgo\",\n",
    "                          \"Jalisco\",\n",
    "                          \"Estado de México\",\n",
    "                          \"Michoacán\",\n",
    "                          \"Morelos\",\n",
    "                          \"Nayarit\",\n",
    "                          \"Nuevo León\",\n",
    "                          \"Oaxaca\",\n",
    "                          \"Puebla\",\n",
    "                          \"Querétaro\",\n",
    "                          \"Quintana Roo\",\n",
    "                          \"San Luis Potosí\",\n",
    "                          \"Sinaloa\",\n",
    "                          \"Sonora\",\n",
    "                          \"Tabasco\",\n",
    "                          \"Tamaulipas\",\n",
    "                          \"Tlaxcala\",\n",
    "                          \"Veracruz\",\n",
    "                          \"Yucatán\",\n",
    "                          \"Zacatecas\"\n",
    "                       ]\n",
    "    col_list = [\"Entidad\"]\n",
    "    \n",
    "    #for filename in sorted(glob.glob(dirname + '/*.csv')):\n",
    "        df = pd.read_csv(filename, usecols=col_list)\n",
    "        #df['Entidad'] = np.where(df['Entidad'] == \"Michoacán de \\nOcampo \", \"Michoacán\", df['Entidad'])\n",
    "        #df['Entidad'] = np.where(df['Entidad'] == \"Michoacán \\nde \\nOcampo \\n\", \"Michoacán\", df['Entidad'])\n",
    "        #df['Entidad'] = np.where(df['Entidad'] == \" 'Michoacán \\nde Ocampo \\n'\", \"Michoacán\", df['Entidad'])\n",
    "\n",
    "        #df['Entidad'] = np.where(df['Entidad'] == \"Veracruz de \\nIgnacio de la \\nLlave \", \"Veracruz\", df['Entidad'])\n",
    "        #for col in df:\n",
    "        #    print(df[col].unique())\n",
    "        #    print(df)\n",
    "        \n"
   ]
  },
  {
   "cell_type": "code",
   "execution_count": null,
   "metadata": {},
   "outputs": [],
   "source": [
    "mal=df[\"Entidad\"].dropna().values\n",
    "bien=df[\"bien\"].dropna().values\n",
    "\n",
    "corregido, rango=cambios(mal)\n"
   ]
  },
  {
   "cell_type": "code",
   "execution_count": null,
   "metadata": {},
   "outputs": [],
   "source": [
    "df[\"corregido\"]=pd.Series(corregido)\n",
    "df[\"ratiom\"]=pd.Series(rango)"
   ]
  },
  {
   "cell_type": "code",
   "execution_count": null,
   "metadata": {},
   "outputs": [],
   "source": [
    "df[\"Entidad\"]=pd.Series(corregido)\n",
    "df"
   ]
  },
  {
   "cell_type": "code",
   "execution_count": null,
   "metadata": {},
   "outputs": [],
   "source": [
    "v_bien= [\n",
    "\"Aguascalientes\",\n",
    "\"Baja California\",\n",
    "\"Baja California Sur\",\n",
    "\"Campeche\",\n",
    "\"Coahuila de Zaragoza\",\n",
    "\"Colima\",\n",
    "\"Chiapas\",\n",
    "\"Chihuahua\",\n",
    "\"Ciudad de Mexico\",\n",
    "\"Durango\",\n",
    "\"Guanajuato\",\n",
    "\"Guerrero\",\n",
    "\"Hidalgo\"\n",
    "]"
   ]
  },
  {
   "cell_type": "code",
   "execution_count": null,
   "metadata": {},
   "outputs": [],
   "source": [
    "ok= {\"Estado de México\",\"Ciudad de México\", \"Argentina\", \"Chile\"}\n",
    "usuario=\"Estado México \"\n",
    "aprox = process.extractOne(usuario, ok)\n",
    "print(\"La palabra mas cercana: \", usuario)\n",
    "print(aprox)"
   ]
  },
  {
   "cell_type": "code",
   "execution_count": null,
   "metadata": {},
   "outputs": [],
   "source": [
    "df"
   ]
  },
  {
   "cell_type": "code",
   "execution_count": null,
   "metadata": {},
   "outputs": [],
   "source": [
    "import pandas as pd\n",
    "import numpy as np\n",
    "\n",
    "df = pd.DataFrame({'Date' : ['11/8/2011', '11/9/2011', '11/10/2011',\n",
    "                                        '11/11/2011', '11/12/2011'],\n",
    "                'Event' : ['Dance', 'Painting', 'Dance', 'Dance', 'Painting']})\n",
    "\n",
    "df"
   ]
  },
  {
   "cell_type": "code",
   "execution_count": null,
   "metadata": {},
   "outputs": [],
   "source": [
    "df['Entidad'].mask(df['Entidad'] == 'México ', 'POP', inplace=True)\n",
    "df"
   ]
  },
  {
   "cell_type": "code",
   "execution_count": null,
   "metadata": {},
   "outputs": [],
   "source": [
    "df['Entidad'] = np.where((df.Entidad == 'México '),'Estado de México',df.Entidad)\n",
    "df"
   ]
  },
  {
   "cell_type": "code",
   "execution_count": null,
   "metadata": {},
   "outputs": [],
   "source": [
    "df_counties = pd.read_csv(\"../data_cleaning/dictionary_counties.csv\")\n",
    "df_counties"
   ]
  },
  {
   "cell_type": "code",
   "execution_count": null,
   "metadata": {},
   "outputs": [],
   "source": [
    "def correct_road(roadname):\n",
    "    if roadname in correct_roadnames:  # might want to make this a dict for O(1) lookups\n",
    "        return roadname, 100\n",
    "\n",
    "    new_name, score = process.extractOne(roadname, correct_roadnames)\n",
    "    if score < 90:\n",
    "        return roadname, score\n",
    "    else:\n",
    "        return new_name, score"
   ]
  }
 ],
 "metadata": {
  "kernelspec": {
   "display_name": "Python 3",
   "language": "python",
   "name": "python3"
  },
  "language_info": {
   "codemirror_mode": {
    "name": "ipython",
    "version": 3
   },
   "file_extension": ".py",
   "mimetype": "text/x-python",
   "name": "python",
   "nbconvert_exporter": "python",
   "pygments_lexer": "ipython3",
   "version": "3.7.4"
  }
 },
 "nbformat": 4,
 "nbformat_minor": 2
}

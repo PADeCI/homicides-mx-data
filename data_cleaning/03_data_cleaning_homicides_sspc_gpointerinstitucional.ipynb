{
 "cells": [
  {
   "cell_type": "code",
   "execution_count": 1,
   "metadata": {},
   "outputs": [],
   "source": [
    "### Libraries\n",
    "\n",
    "import pandas as pd\n",
    "import glob\n",
    "from pathlib import Path\n",
    "import re\n",
    "import numpy as np\n",
    "import math\n",
    "from datetime import datetime\n"
   ]
  },
  {
   "cell_type": "markdown",
   "metadata": {},
   "source": [
    "## Remove first Row"
   ]
  },
  {
   "cell_type": "code",
   "execution_count": 12,
   "metadata": {},
   "outputs": [],
   "source": [
    "def remove_row(dirname, destination):\n",
    "    for filename in sorted(glob.glob(dirname + '/*.csv')):\n",
    "        #print(filename)\n",
    "        df = pd.read_csv(filename)\n",
    "\n",
    "        df.columns = df.iloc[0]\n",
    "        df = df[1:]\n",
    "        \n",
    "        path = Path(filename).stem\n",
    "        print(path)\n",
    "        df.to_csv( destination +  path+\".csv\",encoding=\"utf-8\", index = False)\n",
    "\n"
   ]
  },
  {
   "cell_type": "code",
   "execution_count": 13,
   "metadata": {},
   "outputs": [
    {
     "name": "stdout",
     "output_type": "stream",
     "text": [
      "01102020\n",
      "02102020\n",
      "03102020\n",
      "04102020\n",
      "05102020\n",
      "06102020\n",
      "07102020\n",
      "08102020\n",
      "09102020\n",
      "10102020\n",
      "11102020\n",
      "12102020\n",
      "13102020\n",
      "14102020\n",
      "15102020\n",
      "16102020\n",
      "17102020\n",
      "18102020\n",
      "19102020\n",
      "20102020\n",
      "21102020\n",
      "22102020\n",
      "23102020\n",
      "24102020\n",
      "25102020\n",
      "26102020\n",
      "27102020\n",
      "28102020\n",
      "29102020\n",
      "30102020\n",
      "31102020\n"
     ]
    }
   ],
   "source": [
    "remove_row(\"../data_raw/gpo_interinstitucional/2020/october/\", \"../data_raw/gpo_interinstitucional/2020/october/\")"
   ]
  },
  {
   "cell_type": "markdown",
   "metadata": {},
   "source": [
    "## Rename columns"
   ]
  },
  {
   "cell_type": "code",
   "execution_count": 15,
   "metadata": {},
   "outputs": [],
   "source": [
    "def rename_columns(dirname, destination):\n",
    "    for filename in sorted(glob.glob(dirname + '/*.csv')):\n",
    "        #print(filename)\n",
    "        df = pd.read_csv(filename)\n",
    "\n",
    "        df = df.rename(columns={ \n",
    "        df.columns[0]: \"Entidad\",\n",
    "        df.columns[1]: \"Homicidios\", \n",
    "        df.columns[2]: \"Entidad2\",\n",
    "        df.columns[3]: \"Homicidios2\",}) \n",
    "        path = Path(filename).stem\n",
    "        print(path)\n",
    "        df.to_csv( destination +  path+\".csv\",encoding=\"utf-8\", index = False)\n",
    "\n"
   ]
  },
  {
   "cell_type": "code",
   "execution_count": 16,
   "metadata": {},
   "outputs": [
    {
     "name": "stdout",
     "output_type": "stream",
     "text": [
      "01102020\n",
      "02102020\n",
      "03102020\n",
      "04102020\n",
      "05102020\n",
      "06102020\n",
      "07102020\n",
      "08102020\n",
      "09102020\n",
      "10102020\n",
      "11102020\n",
      "12102020\n",
      "13102020\n",
      "14102020\n",
      "15102020\n",
      "16102020\n",
      "17102020\n",
      "18102020\n",
      "19102020\n",
      "20102020\n",
      "21102020\n",
      "22102020\n",
      "23102020\n",
      "24102020\n",
      "25102020\n",
      "26102020\n",
      "27102020\n",
      "28102020\n",
      "29102020\n",
      "30102020\n",
      "31102020\n"
     ]
    }
   ],
   "source": [
    "rename_columns(\"../data_raw/gpo_interinstitucional/2020/october/\",\"../data_raw/gpo_interinstitucional/2020/october/\" )"
   ]
  },
  {
   "cell_type": "markdown",
   "metadata": {},
   "source": [
    "### Concat columns"
   ]
  },
  {
   "cell_type": "code",
   "execution_count": 17,
   "metadata": {},
   "outputs": [],
   "source": [
    "def concat_columns(dirname,destination):\n",
    "    for filename in sorted(glob.glob(dirname + '/*.csv')):\n",
    "        df = pd.read_csv(filename)\n",
    "        df = pd.concat([df.iloc[:, 0:2], df.iloc[:, 2:4].rename(columns={'Entidad2': 'Entidad', 'Homicidios2': 'Homicidios'})]).reset_index()        \n",
    "        path = Path(filename).stem\n",
    "        print(path)\n",
    "        df.to_csv( destination +  path + \".csv\",encoding=\"utf-8\", index = False)\n",
    "\n",
    "\n",
    "        \n"
   ]
  },
  {
   "cell_type": "code",
   "execution_count": 18,
   "metadata": {},
   "outputs": [
    {
     "name": "stdout",
     "output_type": "stream",
     "text": [
      "01102020\n",
      "02102020\n",
      "03102020\n",
      "04102020\n",
      "05102020\n",
      "06102020\n",
      "07102020\n",
      "08102020\n",
      "09102020\n",
      "10102020\n",
      "11102020\n",
      "12102020\n",
      "13102020\n",
      "14102020\n",
      "15102020\n",
      "16102020\n",
      "17102020\n",
      "18102020\n",
      "19102020\n",
      "20102020\n",
      "21102020\n",
      "22102020\n",
      "23102020\n",
      "24102020\n",
      "25102020\n",
      "26102020\n",
      "27102020\n",
      "28102020\n",
      "29102020\n",
      "30102020\n",
      "31102020\n"
     ]
    }
   ],
   "source": [
    "concat_columns(\"../data_raw/gpo_interinstitucional/2020/october/\", \"../data_raw/gpo_interinstitucional/2020/october/\")"
   ]
  },
  {
   "cell_type": "markdown",
   "metadata": {},
   "source": [
    "## Drop NAN Values"
   ]
  },
  {
   "cell_type": "code",
   "execution_count": 8,
   "metadata": {},
   "outputs": [],
   "source": [
    "def remove_nan(dirname):\n",
    "    for filename in sorted(glob.glob(dirname + '/*.csv')):\n",
    "        #print(filename)\n",
    "        df = pd.read_csv(filename)\n",
    "        df = df.dropna()\n",
    "        path = Path(filename).stem\n",
    "        print(path)\n",
    "        df.to_csv( dirname +  path+\".csv\",encoding=\"utf-8\", index = False)\n",
    "\n",
    "    "
   ]
  },
  {
   "cell_type": "code",
   "execution_count": 9,
   "metadata": {},
   "outputs": [
    {
     "name": "stdout",
     "output_type": "stream",
     "text": [
      "01092020\n",
      "02092020\n",
      "03092020\n",
      "04092020\n",
      "05092020\n",
      "06092020\n",
      "07092020\n",
      "08092020\n",
      "09092020\n",
      "10092020\n",
      "11092020\n",
      "12092020\n",
      "13092020\n",
      "14092020\n",
      "15092020\n",
      "16092020\n",
      "17092020\n",
      "18092020\n",
      "19092020\n",
      "20092020\n",
      "21092020\n",
      "22092020\n",
      "23092020\n",
      "24092020\n",
      "25092020\n",
      "26092020\n",
      "27092020\n",
      "28092020\n",
      "29092020\n",
      "30092020\n"
     ]
    }
   ],
   "source": [
    "remove_nan(\"../data_raw/gpo_interinstitucional/2020/september/\")"
   ]
  },
  {
   "cell_type": "markdown",
   "metadata": {},
   "source": [
    "## Remove special characters"
   ]
  },
  {
   "cell_type": "code",
   "execution_count": 19,
   "metadata": {},
   "outputs": [],
   "source": [
    "def clean_digits_scha(dirname, destination):\n",
    "    \"\"\"\n",
    "    clean_digits_str.\n",
    "    \n",
    "    Clean digits and special characters '()' of column \"Entidad\"\n",
    "    \n",
    "    Parameters: \n",
    "    \n",
    "    dirname (str)     : Directory to extract and change the colum names \n",
    "    destination (str) : Directory where the new data sets will save\n",
    "    \n",
    "    \"\"\"\n",
    "    for filename in sorted(glob.glob(dirname + '/*.csv')):\n",
    "        df = pd.read_csv(filename)\n",
    "\n",
    "\n",
    "        path = Path(filename).stem\n",
    "        print(path)\n",
    "\n",
    "\n",
    "        #df[\"Entidad\"] = df[\"Entidad\"].apply(lambda x: re.sub('[()]', '', x))\n",
    "        df[\"Entidad\"] = df[\"Entidad\"].apply(lambda x: re.sub('[\"\\b\\d+\\b\"]', '', x))\n",
    "        df[\"Entidad\"] = df[\"Entidad\"].apply(lambda x: re.sub('[!@#$*]', '', x))\n",
    "\n",
    "\n",
    "        #df[\"Entidad\"] = df[\"Entidad\"].apply(lambda x: re.sub(\"[^a-zA-Z0-9]+\", '', x))\n",
    "\n",
    "        \n",
    "        df.to_csv( destination  + path + \".csv\",encoding=\"utf-8\", index = False)\n"
   ]
  },
  {
   "cell_type": "code",
   "execution_count": 20,
   "metadata": {},
   "outputs": [
    {
     "name": "stdout",
     "output_type": "stream",
     "text": [
      "01102020\n",
      "02102020\n",
      "03102020\n",
      "04102020\n",
      "05102020\n",
      "06102020\n",
      "07102020\n",
      "08102020\n",
      "09102020\n",
      "10102020\n",
      "11102020\n",
      "12102020\n",
      "13102020\n",
      "14102020\n",
      "15102020\n",
      "16102020\n",
      "17102020\n",
      "18102020\n",
      "19102020\n",
      "20102020\n",
      "21102020\n",
      "22102020\n",
      "23102020\n",
      "24102020\n",
      "25102020\n",
      "26102020\n",
      "27102020\n",
      "28102020\n",
      "29102020\n",
      "30102020\n",
      "31102020\n"
     ]
    }
   ],
   "source": [
    "clean_digits_scha(\"../data_raw/gpo_interinstitucional/2020/october/\", \"../data_raw/gpo_interinstitucional/2020/october/\")"
   ]
  },
  {
   "cell_type": "markdown",
   "metadata": {},
   "source": [
    "## Remove column \"index\""
   ]
  },
  {
   "cell_type": "code",
   "execution_count": 21,
   "metadata": {},
   "outputs": [],
   "source": [
    "def drop_index(dirname, destination):\n",
    "    for filename in sorted(glob.glob(dirname + \"./*.csv\")):\n",
    "    \n",
    "        df = pd.read_csv(filename)\n",
    "\n",
    "        path = Path(filename).stem\n",
    "        print(path) \n",
    "\n",
    "        #Drop column \"index\"\n",
    "        df = df.drop(columns=['index'])\n",
    "        \n",
    "        df.to_csv( destination  + path + \".csv\",encoding=\"utf-8\", index = False)\n"
   ]
  },
  {
   "cell_type": "code",
   "execution_count": 22,
   "metadata": {},
   "outputs": [
    {
     "name": "stdout",
     "output_type": "stream",
     "text": [
      "01102020\n",
      "02102020\n",
      "03102020\n",
      "04102020\n",
      "05102020\n",
      "06102020\n",
      "07102020\n",
      "08102020\n",
      "09102020\n",
      "10102020\n",
      "11102020\n",
      "12102020\n",
      "13102020\n",
      "14102020\n",
      "15102020\n",
      "16102020\n",
      "17102020\n",
      "18102020\n",
      "19102020\n",
      "20102020\n",
      "21102020\n",
      "22102020\n",
      "23102020\n",
      "24102020\n",
      "25102020\n",
      "26102020\n",
      "27102020\n",
      "28102020\n",
      "29102020\n",
      "30102020\n",
      "31102020\n"
     ]
    }
   ],
   "source": [
    "drop_index(\"../data_raw/gpo_interinstitucional/2020/october/\", \"../data_raw/gpo_interinstitucional/2020/october/\")"
   ]
  },
  {
   "cell_type": "markdown",
   "metadata": {},
   "source": [
    "### Add Date column"
   ]
  },
  {
   "cell_type": "code",
   "execution_count": 23,
   "metadata": {},
   "outputs": [],
   "source": [
    "def time_stamp(dirname, destination):\n",
    "    for filename in sorted(glob.glob(dirname + '/*.csv')):\n",
    "        df = pd.read_csv(filename)\n",
    "        path = Path(filename).stem\n",
    "        print(path)\n",
    "\n",
    "        preliminar_date = path\n",
    "        dts = datetime.strptime(preliminar_date, '%d%m%Y')\n",
    "        dts = dts.strftime('%Y-%m-%d')\n",
    "        df['Fecha'] = dts\n",
    "\n",
    "        df.to_csv(destination  + path + \".csv\",encoding=\"utf-8\", index = False)"
   ]
  },
  {
   "cell_type": "code",
   "execution_count": 24,
   "metadata": {},
   "outputs": [
    {
     "name": "stdout",
     "output_type": "stream",
     "text": [
      "01102020\n",
      "02102020\n",
      "03102020\n",
      "04102020\n",
      "05102020\n",
      "06102020\n",
      "07102020\n",
      "08102020\n",
      "09102020\n",
      "10102020\n",
      "11102020\n",
      "12102020\n",
      "13102020\n",
      "14102020\n",
      "15102020\n",
      "16102020\n",
      "17102020\n",
      "18102020\n",
      "19102020\n",
      "20102020\n",
      "21102020\n",
      "22102020\n",
      "23102020\n",
      "24102020\n",
      "25102020\n",
      "26102020\n",
      "27102020\n",
      "28102020\n",
      "29102020\n",
      "30102020\n",
      "31102020\n"
     ]
    }
   ],
   "source": [
    "time_stamp(\"../data_raw/gpo_interinstitucional/2020/october/\", \"../data_raw/gpo_interinstitucional/2020/october/\")"
   ]
  },
  {
   "cell_type": "markdown",
   "metadata": {},
   "source": [
    "## Remove \"Total\" Row"
   ]
  },
  {
   "cell_type": "code",
   "execution_count": 25,
   "metadata": {},
   "outputs": [],
   "source": [
    "def remove_row_total(dirname, destination):\n",
    "    for filename in sorted(glob.glob(dirname + '/*.csv')):\n",
    "        df = pd.read_csv(filename)\n",
    "        path = Path(filename).stem\n",
    "        \n",
    "        print(path)\n",
    "        \n",
    "        df.drop(df[df['Entidad'] == \"Total\"].index, inplace = True) \n",
    "\n",
    " \n",
    "\n",
    "        df.to_csv(destination  + path + \".csv\",encoding=\"utf-8\", index = False)\n"
   ]
  },
  {
   "cell_type": "code",
   "execution_count": 26,
   "metadata": {},
   "outputs": [
    {
     "name": "stdout",
     "output_type": "stream",
     "text": [
      "01102020\n",
      "02102020\n",
      "03102020\n",
      "04102020\n",
      "05102020\n",
      "06102020\n",
      "07102020\n",
      "08102020\n",
      "09102020\n",
      "10102020\n",
      "11102020\n",
      "12102020\n",
      "13102020\n",
      "14102020\n",
      "15102020\n",
      "16102020\n",
      "17102020\n",
      "18102020\n",
      "19102020\n",
      "20102020\n",
      "21102020\n",
      "22102020\n",
      "23102020\n",
      "24102020\n",
      "25102020\n",
      "26102020\n",
      "27102020\n",
      "28102020\n",
      "29102020\n",
      "30102020\n",
      "31102020\n"
     ]
    }
   ],
   "source": [
    "remove_row_total(\"../data_raw/gpo_interinstitucional/2020/october/\", \"../data_raw/gpo_interinstitucional/2020/october/\")"
   ]
  }
 ],
 "metadata": {
  "kernelspec": {
   "display_name": "Python 3",
   "language": "python",
   "name": "python3"
  },
  "language_info": {
   "codemirror_mode": {
    "name": "ipython",
    "version": 3
   },
   "file_extension": ".py",
   "mimetype": "text/x-python",
   "name": "python",
   "nbconvert_exporter": "python",
   "pygments_lexer": "ipython3",
   "version": "3.7.4"
  }
 },
 "nbformat": 4,
 "nbformat_minor": 2
}

{
 "cells": [
  {
   "cell_type": "code",
   "execution_count": 35,
   "metadata": {},
   "outputs": [],
   "source": [
    "### Libraries\n",
    "\n",
    "import pandas as pd\n",
    "import glob\n",
    "from pathlib import Path\n",
    "import re\n",
    "import numpy as np\n",
    "import math\n",
    "from datetime import datetime\n"
   ]
  },
  {
   "cell_type": "markdown",
   "metadata": {},
   "source": [
    "## Remove first Row"
   ]
  },
  {
   "cell_type": "code",
   "execution_count": 20,
   "metadata": {},
   "outputs": [],
   "source": [
    "def remove_row(dirname, destination):\n",
    "    for filename in sorted(glob.glob(dirname + '/*.csv')):\n",
    "        #print(filename)\n",
    "        df = pd.read_csv(filename)\n",
    "\n",
    "        df.columns = df.iloc[0]\n",
    "        df = df[1:]\n",
    "        \n",
    "        path = Path(filename).stem\n",
    "        print(path)\n",
    "        df.to_csv( destination +  path+\".csv\",encoding=\"utf-8\", index = False)\n",
    "\n"
   ]
  },
  {
   "cell_type": "code",
   "execution_count": 36,
   "metadata": {},
   "outputs": [
    {
     "output_type": "stream",
     "name": "stdout",
     "text": [
      "01022021\n02022021\n03022021\n04022021\n05022021\n06022021\n07022021\n08022021\n09022021\n10022021\n11022021\n12022021\n13022021\n14022021\n15022021\n16022021\n17022021\n18022021\n19022021\n20022021\n21022021\n22022021\n23022021\n24022021\n25022021\n26022021\n27022021\n28022021\n"
     ]
    }
   ],
   "source": [
    "remove_row(\"../data_raw/gpo_interinstitucional/2021/february/\", \"../data_raw/gpo_interinstitucional/2021/march/\")"
   ]
  },
  {
   "cell_type": "markdown",
   "metadata": {},
   "source": [
    "## Rename columns"
   ]
  },
  {
   "cell_type": "code",
   "execution_count": 39,
   "metadata": {},
   "outputs": [],
   "source": [
    "def rename_columns(dirname, destination):\n",
    "    for filename in sorted(glob.glob(dirname + '/*.csv')):\n",
    "        #print(filename)\n",
    "        df = pd.read_csv(filename)\n",
    "\n",
    "        df = df.rename(columns={ \n",
    "        df.columns[0]: \"Entidad\",\n",
    "        df.columns[1]: \"Homicidios\", \n",
    "        df.columns[2]: \"Entidad2\",\n",
    "        df.columns[3]: \"Homicidios2\",}) \n",
    "        path = Path(filename).stem\n",
    "        print(path)\n",
    "        df.to_csv( destination +  path+\".csv\",encoding=\"utf-8\", index = False)\n",
    "\n"
   ]
  },
  {
   "cell_type": "code",
   "execution_count": 40,
   "metadata": {},
   "outputs": [
    {
     "output_type": "stream",
     "name": "stdout",
     "text": [
      "march01032021-page-1-table-1\nmarch02032021-page-1-table-1\nmarch03032021-page-1-table-1\nmarch04032021-page-1-table-1\nmarch05032021-page-1-table-1\nmarch06032021-page-1-table-1\nmarch07032021-page-1-table-1\nmarch08032021-page-1-table-1\nmarch09032021-page-1-table-1\nmarch10032021-page-1-table-1\nmarch11032021-page-1-table-1\nmarch12032021-page-1-table-1\nmarch13032021-page-1-table-1\nmarch14032021-page-1-table-1\nmarch15032021-page-1-table-1\nmarch16032021-page-1-table-1\nmarch17032021-page-1-table-1\nmarch18032021-page-1-table-1\nmarch19032021-page-1-table-1\nmarch20032021-page-1-table-1\nmarch21032021-page-1-table-1\nmarch22032021-page-1-table-1\nmarch23032021-page-1-table-1\nmarch24032021-page-1-table-1\nmarch25032021-page-1-table-1\nmarch26032021-page-1-table-1\nmarch27032021-page-1-table-1\nmarch28032021-page-1-table-1\nmarch29032021-page-1-table-1\nmarch30032021-page-1-table-1\nmarch31032021-page-1-table-1\n"
     ]
    }
   ],
   "source": [
    "rename_columns(\"../data_raw/gpo_interinstitucional/2021/march/\",\"../data_raw/gpo_interinstitucional/2021/march/\" )"
   ]
  },
  {
   "cell_type": "markdown",
   "metadata": {},
   "source": [
    "### Concat columns"
   ]
  },
  {
   "cell_type": "code",
   "execution_count": 41,
   "metadata": {},
   "outputs": [],
   "source": [
    "def concat_columns(dirname,destination):\n",
    "    for filename in sorted(glob.glob(dirname + '/*.csv')):\n",
    "        df = pd.read_csv(filename)\n",
    "        df = pd.concat([df.iloc[:, 0:2], df.iloc[:, 2:4].rename(columns={'Entidad2': 'Entidad', 'Homicidios2': 'Homicidios'})]).reset_index()        \n",
    "        path = Path(filename).stem\n",
    "        print(path)\n",
    "        df.to_csv( destination +  path + \".csv\",encoding=\"utf-8\", index = False)\n",
    "\n",
    "\n",
    "        \n"
   ]
  },
  {
   "cell_type": "code",
   "execution_count": 42,
   "metadata": {},
   "outputs": [
    {
     "output_type": "stream",
     "name": "stdout",
     "text": [
      "march01032021\nmarch02032021\nmarch03032021\nmarch04032021\nmarch05032021\nmarch06032021\nmarch07032021\nmarch08032021\nmarch09032021\nmarch10032021\nmarch11032021\nmarch12032021\nmarch13032021\nmarch14032021\nmarch15032021\nmarch16032021\nmarch17032021\nmarch18032021\nmarch19032021\nmarch20032021\nmarch21032021\nmarch22032021\nmarch23032021\nmarch24032021\nmarch25032021\nmarch26032021\nmarch27032021\nmarch28032021\nmarch29032021\nmarch30032021\nmarch31032021\n"
     ]
    }
   ],
   "source": [
    "concat_columns(\"../data_raw/gpo_interinstitucional/2021/march/\", \"../data_raw/gpo_interinstitucional/2021/march/\")"
   ]
  },
  {
   "cell_type": "markdown",
   "metadata": {},
   "source": [
    "## Drop NAN Values"
   ]
  },
  {
   "cell_type": "code",
   "execution_count": 43,
   "metadata": {},
   "outputs": [],
   "source": [
    "def remove_nan(dirname):\n",
    "    for filename in sorted(glob.glob(dirname + '/*.csv')):\n",
    "        #print(filename)\n",
    "        df = pd.read_csv(filename)\n",
    "        df = df.dropna()\n",
    "        path = Path(filename).stem\n",
    "        print(path)\n",
    "        df.to_csv( dirname +  path+\".csv\",encoding=\"utf-8\", index = False)\n",
    "\n",
    "    "
   ]
  },
  {
   "cell_type": "code",
   "execution_count": 44,
   "metadata": {},
   "outputs": [
    {
     "output_type": "stream",
     "name": "stdout",
     "text": [
      "01032021\n",
      "02032021\n",
      "03032021\n",
      "04032021\n",
      "05032021\n",
      "06032021\n",
      "07032021\n",
      "08032021\n",
      "09032021\n",
      "10032021\n",
      "11032021\n",
      "12032021\n",
      "13032021\n",
      "14032021\n",
      "15032021\n",
      "16032021\n",
      "17032021\n",
      "18032021\n",
      "19032021\n",
      "20032021\n",
      "21032021\n",
      "22032021\n",
      "23032021\n",
      "24032021\n",
      "25032021\n",
      "26032021\n",
      "27032021\n",
      "28032021\n",
      "29032021\n",
      "30032021\n",
      "31032021\n"
     ]
    }
   ],
   "source": [
    "remove_nan(\"../data_raw/gpo_interinstitucional/2021/march/\")"
   ]
  },
  {
   "cell_type": "markdown",
   "metadata": {},
   "source": [
    "## Remove special characters"
   ]
  },
  {
   "cell_type": "code",
   "execution_count": 45,
   "metadata": {},
   "outputs": [],
   "source": [
    "def clean_digits_scha(dirname, destination):\n",
    "    \"\"\"\n",
    "    clean_digits_str.\n",
    "    \n",
    "    Clean digits and special characters '()' of column \"Entidad\"\n",
    "    \n",
    "    Parameters: \n",
    "    \n",
    "    dirname (str)     : Directory to extract and change the colum names \n",
    "    destination (str) : Directory where the new data sets will save\n",
    "    \n",
    "    \"\"\"\n",
    "    for filename in sorted(glob.glob(dirname + '/*.csv')):\n",
    "        df = pd.read_csv(filename)\n",
    "\n",
    "\n",
    "        path = Path(filename).stem\n",
    "        print(path)\n",
    "\n",
    "\n",
    "        #df[\"Entidad\"] = df[\"Entidad\"].apply(lambda x: re.sub('[()]', '', x))\n",
    "        df[\"Entidad\"] = df[\"Entidad\"].apply(lambda x: re.sub('[\"\\b\\d+\\b\"]', '', x))\n",
    "        df[\"Entidad\"] = df[\"Entidad\"].apply(lambda x: re.sub('[!@#$*]', '', x))\n",
    "\n",
    "\n",
    "        #df[\"Entidad\"] = df[\"Entidad\"].apply(lambda x: re.sub(\"[^a-zA-Z0-9]+\", '', x))\n",
    "\n",
    "        \n",
    "        df.to_csv( destination  + path + \".csv\",encoding=\"utf-8\", index = False)\n"
   ]
  },
  {
   "cell_type": "code",
   "execution_count": 46,
   "metadata": {},
   "outputs": [
    {
     "output_type": "stream",
     "name": "stdout",
     "text": [
      "01032021\n02032021\n03032021\n04032021\n05032021\n06032021\n07032021\n08032021\n09032021\n10032021\n11032021\n12032021\n13032021\n14032021\n15032021\n16032021\n17032021\n18032021\n19032021\n20032021\n21032021\n22032021\n23032021\n24032021\n25032021\n26032021\n27032021\n28032021\n29032021\n30032021\n31032021\n"
     ]
    }
   ],
   "source": [
    "clean_digits_scha(\"../data_raw/gpo_interinstitucional/2021/march/\", \"../data_raw/gpo_interinstitucional/2021/march/\")"
   ]
  },
  {
   "cell_type": "markdown",
   "metadata": {},
   "source": [
    "## Remove column \"index\""
   ]
  },
  {
   "cell_type": "code",
   "execution_count": 31,
   "metadata": {},
   "outputs": [],
   "source": [
    "def drop_index(dirname, destination):\n",
    "    for filename in sorted(glob.glob(dirname + \"./*.csv\")):\n",
    "    \n",
    "        df = pd.read_csv(filename)\n",
    "\n",
    "        path = Path(filename).stem\n",
    "        print(path) \n",
    "\n",
    "        #Drop column \"index\"\n",
    "        df = df.drop(columns=['index'])\n",
    "        \n",
    "        df.to_csv( destination  + path + \".csv\",encoding=\"utf-8\", index = False)\n"
   ]
  },
  {
   "cell_type": "code",
   "execution_count": 47,
   "metadata": {},
   "outputs": [
    {
     "output_type": "stream",
     "name": "stdout",
     "text": [
      "01032021\n02032021\n03032021\n04032021\n05032021\n06032021\n07032021\n08032021\n09032021\n10032021\n11032021\n12032021\n13032021\n14032021\n15032021\n16032021\n17032021\n18032021\n19032021\n20032021\n21032021\n22032021\n23032021\n24032021\n25032021\n26032021\n27032021\n28032021\n29032021\n30032021\n31032021\n"
     ]
    }
   ],
   "source": [
    "drop_index(\"../data_raw/gpo_interinstitucional/2021/march/\", \"../data_raw/gpo_interinstitucional/2021/march/\")"
   ]
  },
  {
   "cell_type": "markdown",
   "metadata": {},
   "source": [
    "### Add Date column"
   ]
  },
  {
   "cell_type": "code",
   "execution_count": 15,
   "metadata": {},
   "outputs": [],
   "source": [
    "def time_stamp(dirname, destination):\n",
    "    for filename in sorted(glob.glob(dirname + '/*.csv')):\n",
    "        df = pd.read_csv(filename)\n",
    "        path = Path(filename).stem\n",
    "        print(path)\n",
    "\n",
    "        preliminar_date = path\n",
    "        dts = datetime.strptime(preliminar_date, '%d%m%Y')\n",
    "        dts = dts.strftime('%Y-%m-%d')\n",
    "        df['Fecha'] = dts\n",
    "\n",
    "        df.to_csv(destination  + path + \".csv\",encoding=\"utf-8\", index = False)"
   ]
  },
  {
   "cell_type": "code",
   "execution_count": 48,
   "metadata": {},
   "outputs": [
    {
     "output_type": "stream",
     "name": "stdout",
     "text": [
      "01032021\n02032021\n03032021\n04032021\n05032021\n06032021\n07032021\n08032021\n09032021\n10032021\n11032021\n12032021\n13032021\n14032021\n15032021\n16032021\n17032021\n18032021\n19032021\n20032021\n21032021\n22032021\n23032021\n24032021\n25032021\n26032021\n27032021\n28032021\n29032021\n30032021\n31032021\n"
     ]
    }
   ],
   "source": [
    "time_stamp(\"../data_raw/gpo_interinstitucional/2021/march/\", \"../data_raw/gpo_interinstitucional/2021/march/\")"
   ]
  },
  {
   "cell_type": "markdown",
   "metadata": {},
   "source": [
    "## Remove \"Total\" Row"
   ]
  },
  {
   "cell_type": "code",
   "execution_count": 49,
   "metadata": {},
   "outputs": [],
   "source": [
    "def remove_row_total(dirname, destination):\n",
    "    for filename in sorted(glob.glob(dirname + '/*.csv')):\n",
    "        df = pd.read_csv(filename)\n",
    "        path = Path(filename).stem\n",
    "        \n",
    "        print(path)\n",
    "        \n",
    "        df.drop(df[df['Entidad'] == \"Total\"].index, inplace = True) \n",
    "\n",
    " \n",
    "\n",
    "        df.to_csv(destination  + path + \".csv\",encoding=\"utf-8\", index = False)\n"
   ]
  },
  {
   "cell_type": "code",
   "execution_count": 50,
   "metadata": {},
   "outputs": [
    {
     "output_type": "stream",
     "name": "stdout",
     "text": [
      "01032021\n02032021\n03032021\n04032021\n05032021\n06032021\n07032021\n08032021\n09032021\n10032021\n11032021\n12032021\n13032021\n14032021\n15032021\n16032021\n17032021\n18032021\n19032021\n20032021\n21032021\n22032021\n23032021\n24032021\n25032021\n26032021\n27032021\n28032021\n29032021\n30032021\n31032021\n"
     ]
    }
   ],
   "source": [
    "remove_row_total(\"../data_raw/gpo_interinstitucional/2021/march/\", \"../data_raw/gpo_interinstitucional/2021/march/\")"
   ]
  }
 ],
 "metadata": {
  "kernelspec": {
   "name": "python3",
   "display_name": "Python 3.8.2 64-bit",
   "metadata": {
    "interpreter": {
     "hash": "31f2aee4e71d21fbe5cf8b01ff0e069b9275f58929596ceb00d14d90e3e16cd6"
    }
   }
  },
  "language_info": {
   "codemirror_mode": {
    "name": "ipython",
    "version": 3
   },
   "file_extension": ".py",
   "mimetype": "text/x-python",
   "name": "python",
   "nbconvert_exporter": "python",
   "pygments_lexer": "ipython3",
   "version": "3.8.2"
  }
 },
 "nbformat": 4,
 "nbformat_minor": 2
}
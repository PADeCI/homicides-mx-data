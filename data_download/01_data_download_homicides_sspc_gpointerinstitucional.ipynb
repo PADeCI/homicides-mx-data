{
 "cells": [
  {
   "cell_type": "code",
   "execution_count": 1,
   "metadata": {},
   "outputs": [],
   "source": [
    "#####################################################################\n",
    "#              Download pdf's from SSPC                            #\n",
    "#                                                                   #\n",
    "#      Source: http://www.informeseguridad.cns.gob.mx/              #\n",
    "#                                                                   #\n",
    "#     Column name: \"Homicidios dolosos Grupos interinstitucionales\" #\n",
    "#                                                                   #\n",
    "#           Author: Mariana Fernandez                               #\n",
    "#         contact: mariana.fernadez@cide.edu                        #\n",
    "# Date:17/09/2020                                                   #\n",
    "#####################################################################"
   ]
  },
  {
   "cell_type": "code",
   "execution_count": 8,
   "metadata": {},
   "outputs": [],
   "source": [
    "# Libraries\n",
    "\n",
    "import urllib\n",
    "from datetime import date, timedelta\n",
    "import datetime\n"
   ]
  },
  {
   "cell_type": "code",
   "execution_count": 11,
   "metadata": {},
   "outputs": [],
   "source": [
    "def download_pdfs_sspc(dirname):\n",
    "    \"\"\" \n",
    "    download_pdfs_sspc. \n",
    "  \n",
    "    Download pdfs required for posterior scraping \n",
    "  \n",
    "    Parameters: \n",
    "    dirname (str)     : Directory where the new data sets will be save\n",
    "      \n",
    "\n",
    "    \"\"\"\n",
    "    ## Ask for start date and end date (Range of dates that you want to download)\n",
    "    date_entry = input('Enter a date in YYYY-MM-DD format (start date): ')\n",
    "    year, month, day = map(int, date_entry.split('-'))\n",
    "    start_date = datetime.date(year, month, day)\n",
    "\n",
    "    date_entry = input('Enter a date in YYYY-MM-DD format (end date): ')\n",
    "    year, month, day = map(int, date_entry.split('-'))\n",
    "    end_date = datetime.date(year, month, day)\n",
    "    \n",
    "    \n",
    "    # Create a range of dates \n",
    "    v_dates = []\n",
    "    \n",
    "\n",
    "\n",
    "    delta = timedelta(days=1)\n",
    "    while start_date <= end_date:\n",
    "        print(start_date.strftime(\"%d%m%Y\"))\n",
    "        v_dates.append(start_date.strftime(\"%d%m%Y\"))\n",
    "        start_date += delta\n",
    "        \n",
    "        \n",
    "    for i in (v_dates):\n",
    "        url = \"http://www.informeseguridad.cns.gob.mx/files/homicidios_\" + i + \"_v2\" + \".pdf\"\n",
    "        path = dirname\n",
    "        try:\n",
    "            data = urllib.request.urlretrieve(url, path + i + \".pdf\")\n",
    "            print(url)\n",
    "        except:\n",
    "            print(\"Error, cannot read url\")\n",
    "            print(url)"
   ]
  },
  {
   "cell_type": "code",
   "execution_count": 12,
   "metadata": {},
   "outputs": [
    {
     "output_type": "stream",
     "name": "stdout",
     "text": [
      "01032021\n",
      "02032021\n",
      "03032021\n",
      "04032021\n",
      "05032021\n",
      "06032021\n",
      "07032021\n",
      "08032021\n",
      "09032021\n",
      "10032021\n",
      "11032021\n",
      "12032021\n",
      "13032021\n",
      "14032021\n",
      "15032021\n",
      "16032021\n",
      "17032021\n",
      "18032021\n",
      "19032021\n",
      "20032021\n",
      "21032021\n",
      "22032021\n",
      "23032021\n",
      "24032021\n",
      "25032021\n",
      "26032021\n",
      "27032021\n",
      "28032021\n",
      "29032021\n",
      "30032021\n",
      "31032021\n",
      "http://www.informeseguridad.cns.gob.mx/files/homicidios_01032021_v2.pdf\n",
      "http://www.informeseguridad.cns.gob.mx/files/homicidios_02032021_v2.pdf\n",
      "http://www.informeseguridad.cns.gob.mx/files/homicidios_03032021_v2.pdf\n",
      "http://www.informeseguridad.cns.gob.mx/files/homicidios_04032021_v2.pdf\n",
      "http://www.informeseguridad.cns.gob.mx/files/homicidios_05032021_v2.pdf\n",
      "http://www.informeseguridad.cns.gob.mx/files/homicidios_06032021_v2.pdf\n",
      "http://www.informeseguridad.cns.gob.mx/files/homicidios_07032021_v2.pdf\n",
      "http://www.informeseguridad.cns.gob.mx/files/homicidios_08032021_v2.pdf\n",
      "http://www.informeseguridad.cns.gob.mx/files/homicidios_09032021_v2.pdf\n",
      "http://www.informeseguridad.cns.gob.mx/files/homicidios_10032021_v2.pdf\n",
      "http://www.informeseguridad.cns.gob.mx/files/homicidios_11032021_v2.pdf\n",
      "http://www.informeseguridad.cns.gob.mx/files/homicidios_12032021_v2.pdf\n",
      "http://www.informeseguridad.cns.gob.mx/files/homicidios_13032021_v2.pdf\n",
      "http://www.informeseguridad.cns.gob.mx/files/homicidios_14032021_v2.pdf\n",
      "http://www.informeseguridad.cns.gob.mx/files/homicidios_15032021_v2.pdf\n",
      "http://www.informeseguridad.cns.gob.mx/files/homicidios_16032021_v2.pdf\n",
      "http://www.informeseguridad.cns.gob.mx/files/homicidios_17032021_v2.pdf\n",
      "http://www.informeseguridad.cns.gob.mx/files/homicidios_18032021_v2.pdf\n",
      "http://www.informeseguridad.cns.gob.mx/files/homicidios_19032021_v2.pdf\n",
      "http://www.informeseguridad.cns.gob.mx/files/homicidios_20032021_v2.pdf\n",
      "http://www.informeseguridad.cns.gob.mx/files/homicidios_21032021_v2.pdf\n",
      "http://www.informeseguridad.cns.gob.mx/files/homicidios_22032021_v2.pdf\n",
      "http://www.informeseguridad.cns.gob.mx/files/homicidios_23032021_v2.pdf\n",
      "http://www.informeseguridad.cns.gob.mx/files/homicidios_24032021_v2.pdf\n",
      "http://www.informeseguridad.cns.gob.mx/files/homicidios_25032021_v2.pdf\n",
      "http://www.informeseguridad.cns.gob.mx/files/homicidios_26032021_v2.pdf\n",
      "http://www.informeseguridad.cns.gob.mx/files/homicidios_27032021_v2.pdf\n",
      "http://www.informeseguridad.cns.gob.mx/files/homicidios_28032021_v2.pdf\n",
      "http://www.informeseguridad.cns.gob.mx/files/homicidios_29032021_v2.pdf\n",
      "http://www.informeseguridad.cns.gob.mx/files/homicidios_30032021_v2.pdf\n",
      "http://www.informeseguridad.cns.gob.mx/files/homicidios_31032021_v2.pdf\n"
     ]
    }
   ],
   "source": [
    "download_pdfs_sspc(\"./data_source/gpo_inter/\")"
   ]
  },
  {
   "cell_type": "code",
   "execution_count": null,
   "metadata": {},
   "outputs": [],
   "source": []
  }
 ],
 "metadata": {
  "kernelspec": {
   "name": "python3",
   "display_name": "Python 3.8.2 64-bit",
   "metadata": {
    "interpreter": {
     "hash": "31f2aee4e71d21fbe5cf8b01ff0e069b9275f58929596ceb00d14d90e3e16cd6"
    }
   }
  },
  "language_info": {
   "codemirror_mode": {
    "name": "ipython",
    "version": 3
   },
   "file_extension": ".py",
   "mimetype": "text/x-python",
   "name": "python",
   "nbconvert_exporter": "python",
   "pygments_lexer": "ipython3",
   "version": "3.8.2"
  }
 },
 "nbformat": 4,
 "nbformat_minor": 2
}
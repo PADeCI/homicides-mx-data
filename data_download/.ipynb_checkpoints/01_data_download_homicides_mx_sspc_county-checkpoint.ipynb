{
 "cells": [
  {
   "cell_type": "code",
   "execution_count": null,
   "metadata": {},
   "outputs": [],
   "source": [
    "#####################################################################\n",
    "#              Download pdf's from SSPC                             #\n",
    "#                                                                   #\n",
    "#      Source: http://www.informeseguridad.cns.gob.mx/              #\n",
    "#                                                                   #\n",
    "#     Column name: \"Homicidios dolosos Fuentes abiertas\"            #\n",
    "#                                                                   #\n",
    "#           Author: Mariana Fernandez                               #\n",
    "#         contact: mariana.fernadez@cide.edu                        #\n",
    "# Date:17/08/2020                                                   #\n",
    "#####################################################################\n"
   ]
  },
  {
   "cell_type": "code",
   "execution_count": 9,
   "metadata": {},
   "outputs": [],
   "source": [
    "# Libraries\n",
    "\n",
    "import urllib\n",
    "from datetime import date, timedelta\n",
    "import datetime\n"
   ]
  },
  {
   "cell_type": "code",
   "execution_count": 12,
   "metadata": {},
   "outputs": [],
   "source": [
    "def download_pdfs_sspc(dirname):\n",
    "    \"\"\" \n",
    "    download_pdfs_sspc. \n",
    "  \n",
    "    Download pdfs required for posterior scraping \n",
    "  \n",
    "    Parameters: \n",
    "    dirname (str)     : Directory where the new data sets will be save\n",
    "      \n",
    "\n",
    "    \"\"\"\n",
    "    ## Ask for start date and end date (Range of dates that you want to download)\n",
    "    date_entry = input('Enter a date in YYYY-MM-DD format (start date): ')\n",
    "    year, month, day = map(int, date_entry.split('-'))\n",
    "    start_date = datetime.date(year, month, day)\n",
    "\n",
    "    date_entry = input('Enter a date in YYYY-MM-DD format (end date): ')\n",
    "    year, month, day = map(int, date_entry.split('-'))\n",
    "    end_date = datetime.date(year, month, day)\n",
    "    \n",
    "    \n",
    "    # Create a range of dates \n",
    "    v_dates = []\n",
    "    \n",
    "    #start_date = date()\n",
    "    #end_date = date(end_date)\n",
    "\n",
    "    #end_date = yesterday\n",
    "    #end_date = end_date\n",
    "\n",
    "    delta = timedelta(days=1)\n",
    "    while start_date <= end_date:\n",
    "        print(start_date.strftime(\"%d%m%Y\"))\n",
    "        v_dates.append(start_date.strftime(\"%d%m%Y\"))\n",
    "        start_date += delta\n",
    "        \n",
    "        \n",
    "    for i in (v_dates):\n",
    "        url = \"http://www.informeseguridad.cns.gob.mx/files/homicidios_\" + i + \".pdf\"\n",
    "        path = dirname\n",
    "        try:\n",
    "            data = urllib.request.urlretrieve(url, path + i + \".pdf\")\n",
    "            print(url)\n",
    "        except:\n",
    "            print(\"Error, cannot read url\")\n",
    "            print(url)"
   ]
  },
  {
   "cell_type": "code",
   "execution_count": null,
   "metadata": {},
   "outputs": [
    {
     "name": "stdout",
     "output_type": "stream",
     "text": [
      "Enter a date in YYYY-MM-DD format (start date): 2020-08-17\n"
     ]
    }
   ],
   "source": [
    "download_pdfs_sspc(\"/Users/marianafernandez/Documents/PADeCI/homicides-mx-data/data-source/\")"
   ]
  }
 ],
 "metadata": {
  "kernelspec": {
   "display_name": "Python 3",
   "language": "python",
   "name": "python3"
  },
  "language_info": {
   "codemirror_mode": {
    "name": "ipython",
    "version": 3
   },
   "file_extension": ".py",
   "mimetype": "text/x-python",
   "name": "python",
   "nbconvert_exporter": "python",
   "pygments_lexer": "ipython3",
   "version": "3.7.4"
  }
 },
 "nbformat": 4,
 "nbformat_minor": 2
}

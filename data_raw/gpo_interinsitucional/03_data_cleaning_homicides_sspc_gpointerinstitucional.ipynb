{
 "cells": [
  {
   "cell_type": "code",
   "execution_count": 144,
   "metadata": {},
   "outputs": [],
   "source": [
    "### Libraries\n",
    "\n",
    "import pandas as pd\n",
    "import glob\n",
    "from pathlib import Path\n",
    "import re\n",
    "import numpy as np\n",
    "import math\n",
    "from datetime import datetime\n"
   ]
  },
  {
   "cell_type": "markdown",
   "metadata": {},
   "source": [
    "## Remove first Row"
   ]
  },
  {
   "cell_type": "code",
   "execution_count": 146,
   "metadata": {},
   "outputs": [],
   "source": [
    "def remove_row(dirname, destination):\n",
    "    for filename in sorted(glob.glob(dirname + '/*.csv')):\n",
    "        #print(filename)\n",
    "        df = pd.read_csv(filename)\n",
    "\n",
    "        df.columns = df.iloc[0]\n",
    "        df = df[1:]\n",
    "        \n",
    "        path = Path(filename).stem\n",
    "        print(path)\n",
    "        df.to_csv( destination +  path+\".csv\",encoding=\"utf-8\", index = False)\n",
    "\n"
   ]
  },
  {
   "cell_type": "code",
   "execution_count": 166,
   "metadata": {},
   "outputs": [
    {
     "name": "stdout",
     "output_type": "stream",
     "text": [
      "01102019\n",
      "02102019\n",
      "03102019\n",
      "04102019\n",
      "05102019\n",
      "06102019\n",
      "07102019\n",
      "08102019\n",
      "09102019\n",
      "10102019\n",
      "11102019\n",
      "12102019\n",
      "13102019\n",
      "14102019\n",
      "15102019\n",
      "16102019\n",
      "17102019\n",
      "18102019\n",
      "19102019\n",
      "20102019\n",
      "21102019\n",
      "22102019\n",
      "23102019\n",
      "24102019\n",
      "25102019\n",
      "26102019\n",
      "27102019\n",
      "28102019\n",
      "29102019\n",
      "30102019\n",
      "31102019\n"
     ]
    }
   ],
   "source": [
    "remove_row(\"../gpo_interinsitucional/2019/october/\", \"../gpo_interinsitucional/2019/october/\")"
   ]
  },
  {
   "cell_type": "markdown",
   "metadata": {},
   "source": [
    "## Rename columns"
   ]
  },
  {
   "cell_type": "code",
   "execution_count": 188,
   "metadata": {},
   "outputs": [],
   "source": [
    "def rename_columns(dirname, destination):\n",
    "    for filename in sorted(glob.glob(dirname + '/*.csv')):\n",
    "        #print(filename)\n",
    "        df = pd.read_csv(filename)\n",
    "\n",
    "        df = df.rename(columns={ \n",
    "        df.columns[0]: \"Entidad\",\n",
    "        df.columns[1]: \"Homicidios\", \n",
    "        df.columns[2]: \"Entidad2\",\n",
    "        df.columns[3]: \"Homicidios2\",}) \n",
    "        path = Path(filename).stem\n",
    "        print(path)\n",
    "        df.to_csv( destination +  path+\".csv\",encoding=\"utf-8\", index = False)\n",
    "\n"
   ]
  },
  {
   "cell_type": "code",
   "execution_count": 246,
   "metadata": {},
   "outputs": [
    {
     "name": "stdout",
     "output_type": "stream",
     "text": [
      "01082020-page-1-table-1\n",
      "02082020-page-1-table-1\n",
      "03082020-page-1-table-1\n",
      "04082020-page-1-table-1\n",
      "05082020-page-1-table-1\n",
      "06082020-page-1-table-1\n",
      "07082020-page-1-table-1\n",
      "08082020-page-1-table-1\n",
      "09082020-page-1-table-1\n",
      "10082020-page-1-table-1\n",
      "11082020-page-1-table-1\n",
      "12082020-page-1-table-1\n",
      "13082020-page-1-table-1\n",
      "14082020-page-1-table-1\n",
      "15082020-page-1-table-1\n",
      "16082020-page-1-table-1\n",
      "17082020-page-1-table-1\n",
      "18082020-page-1-table-1\n",
      "19082020-page-1-table-1\n",
      "20082020-page-1-table-1\n",
      "21082020-page-1-table-1\n",
      "22082020-page-1-table-1\n",
      "23082020-page-1-table-1\n",
      "24082020-page-1-table-1\n",
      "25082020-page-1-table-1\n",
      "26082020-page-1-table-1\n",
      "27082020-page-1-table-1\n",
      "28082020-page-1-table-1\n",
      "29082020-page-1-table-1\n",
      "30082020-page-1-table-1\n",
      "31082020-page-1-table-1\n"
     ]
    }
   ],
   "source": [
    "rename_columns(\"../gpo_interinsitucional/2020/august/\",\"../gpo_interinsitucional/2020/august/\" )"
   ]
  },
  {
   "cell_type": "markdown",
   "metadata": {},
   "source": [
    "### Concat columns"
   ]
  },
  {
   "cell_type": "code",
   "execution_count": 160,
   "metadata": {},
   "outputs": [],
   "source": [
    "def concat_columns(dirname,destination):\n",
    "    for filename in sorted(glob.glob(dirname + '/*.csv')):\n",
    "        df = pd.read_csv(filename)\n",
    "        df = pd.concat([df.iloc[:, 0:2], df.iloc[:, 2:4].rename(columns={'Entidad2': 'Entidad', 'Homicidios2': 'Homicidios'})]).reset_index()        \n",
    "        path = Path(filename).stem\n",
    "        print(path)\n",
    "        df.to_csv( destination +  path + \".csv\",encoding=\"utf-8\", index = False)\n",
    "\n",
    "\n",
    "        \n"
   ]
  },
  {
   "cell_type": "code",
   "execution_count": 247,
   "metadata": {},
   "outputs": [
    {
     "name": "stdout",
     "output_type": "stream",
     "text": [
      "01082020\n",
      "02082020\n",
      "03082020\n",
      "04082020\n",
      "05082020\n",
      "06082020\n",
      "07082020\n",
      "08082020\n",
      "09082020\n",
      "10082020\n",
      "11082020\n",
      "12082020\n",
      "13082020\n",
      "14082020\n",
      "15082020\n",
      "16082020\n",
      "17082020\n",
      "18082020\n",
      "19082020\n",
      "20082020\n",
      "21082020\n",
      "22082020\n",
      "23082020\n",
      "24082020\n",
      "25082020\n",
      "26082020\n",
      "27082020\n",
      "28082020\n",
      "29082020\n",
      "30082020\n",
      "31082020\n"
     ]
    }
   ],
   "source": [
    "concat_columns(\"./2020/august/\", \"./2020/august/\")"
   ]
  },
  {
   "cell_type": "markdown",
   "metadata": {},
   "source": [
    "## Drop NAN Values"
   ]
  },
  {
   "cell_type": "code",
   "execution_count": 136,
   "metadata": {},
   "outputs": [],
   "source": [
    "def remove_nan(dirname):\n",
    "    for filename in sorted(glob.glob(dirname + '/*.csv')):\n",
    "        #print(filename)\n",
    "        df = pd.read_csv(filename)\n",
    "        df = df.dropna()\n",
    "        path = Path(filename).stem\n",
    "        print(path)\n",
    "        df.to_csv( dirname +  path+\".csv\",encoding=\"utf-8\", index = False)\n",
    "\n",
    "    "
   ]
  },
  {
   "cell_type": "code",
   "execution_count": 248,
   "metadata": {},
   "outputs": [
    {
     "name": "stdout",
     "output_type": "stream",
     "text": [
      "01082020\n",
      "02082020\n",
      "03082020\n",
      "04082020\n",
      "05082020\n",
      "06082020\n",
      "07082020\n",
      "08082020\n",
      "09082020\n",
      "10082020\n",
      "11082020\n",
      "12082020\n",
      "13082020\n",
      "14082020\n",
      "15082020\n",
      "16082020\n",
      "17082020\n",
      "18082020\n",
      "19082020\n",
      "20082020\n",
      "21082020\n",
      "22082020\n",
      "23082020\n",
      "24082020\n",
      "25082020\n",
      "26082020\n",
      "27082020\n",
      "28082020\n",
      "29082020\n",
      "30082020\n",
      "31082020\n"
     ]
    }
   ],
   "source": [
    "remove_nan(\"./2020/august/\")"
   ]
  },
  {
   "cell_type": "markdown",
   "metadata": {},
   "source": [
    "## Remove special characters"
   ]
  },
  {
   "cell_type": "code",
   "execution_count": 138,
   "metadata": {},
   "outputs": [],
   "source": [
    "def clean_digits_scha(dirname, destination):\n",
    "    \"\"\"\n",
    "    clean_digits_str.\n",
    "    \n",
    "    Clean digits and special characters '()' of column \"Entidad\"\n",
    "    \n",
    "    Parameters: \n",
    "    \n",
    "    dirname (str)     : Directory to extract and change the colum names \n",
    "    destination (str) : Directory where the new data sets will save\n",
    "    \n",
    "    \"\"\"\n",
    "    for filename in sorted(glob.glob(dirname + '/*.csv')):\n",
    "        df = pd.read_csv(filename)\n",
    "\n",
    "\n",
    "        path = Path(filename).stem\n",
    "        print(path)\n",
    "\n",
    "\n",
    "        #df[\"Entidad\"] = df[\"Entidad\"].apply(lambda x: re.sub('[()]', '', x))\n",
    "        df[\"Entidad\"] = df[\"Entidad\"].apply(lambda x: re.sub('[\"\\b\\d+\\b\"]', '', x))\n",
    "        df[\"Entidad\"] = df[\"Entidad\"].apply(lambda x: re.sub('[!@#$*]', '', x))\n",
    "\n",
    "\n",
    "        #df[\"Entidad\"] = df[\"Entidad\"].apply(lambda x: re.sub(\"[^a-zA-Z0-9]+\", '', x))\n",
    "\n",
    "        \n",
    "        df.to_csv( destination  + path + \".csv\",encoding=\"utf-8\", index = False)\n"
   ]
  },
  {
   "cell_type": "code",
   "execution_count": 249,
   "metadata": {},
   "outputs": [
    {
     "name": "stdout",
     "output_type": "stream",
     "text": [
      "01082020\n",
      "02082020\n",
      "03082020\n",
      "04082020\n",
      "05082020\n",
      "06082020\n",
      "07082020\n",
      "08082020\n",
      "09082020\n",
      "10082020\n",
      "11082020\n",
      "12082020\n",
      "13082020\n",
      "14082020\n",
      "15082020\n",
      "16082020\n",
      "17082020\n",
      "18082020\n",
      "19082020\n",
      "20082020\n",
      "21082020\n",
      "22082020\n",
      "23082020\n",
      "24082020\n",
      "25082020\n",
      "26082020\n",
      "27082020\n",
      "28082020\n",
      "29082020\n",
      "30082020\n",
      "31082020\n"
     ]
    }
   ],
   "source": [
    "clean_digits_scha(\"./2020/august/\", \"./2020/august/\")"
   ]
  },
  {
   "cell_type": "markdown",
   "metadata": {},
   "source": [
    "## Remove column \"index\""
   ]
  },
  {
   "cell_type": "code",
   "execution_count": 183,
   "metadata": {},
   "outputs": [],
   "source": [
    "def drop_index(dirname, destination):\n",
    "    for filename in sorted(glob.glob(dirname + \"./*.csv\")):\n",
    "    \n",
    "        df = pd.read_csv(filename)\n",
    "\n",
    "        path = Path(filename).stem\n",
    "        print(path) \n",
    "\n",
    "        #Drop column \"index\"\n",
    "        df = df.drop(columns=['index'])\n",
    "        \n",
    "        df.to_csv( destination  + path + \".csv\",encoding=\"utf-8\", index = False)\n"
   ]
  },
  {
   "cell_type": "code",
   "execution_count": 250,
   "metadata": {},
   "outputs": [
    {
     "name": "stdout",
     "output_type": "stream",
     "text": [
      "01082020\n",
      "02082020\n",
      "03082020\n",
      "04082020\n",
      "05082020\n",
      "06082020\n",
      "07082020\n",
      "08082020\n",
      "09082020\n",
      "10082020\n",
      "11082020\n",
      "12082020\n",
      "13082020\n",
      "14082020\n",
      "15082020\n",
      "16082020\n",
      "17082020\n",
      "18082020\n",
      "19082020\n",
      "20082020\n",
      "21082020\n",
      "22082020\n",
      "23082020\n",
      "24082020\n",
      "25082020\n",
      "26082020\n",
      "27082020\n",
      "28082020\n",
      "29082020\n",
      "30082020\n",
      "31082020\n"
     ]
    }
   ],
   "source": [
    "drop_index(\"./2020/august/\", \"./2020/august/\")"
   ]
  },
  {
   "cell_type": "markdown",
   "metadata": {},
   "source": [
    "### Add Date column"
   ]
  },
  {
   "cell_type": "code",
   "execution_count": 142,
   "metadata": {},
   "outputs": [],
   "source": [
    "def time_stamp(dirname, destination):\n",
    "    for filename in sorted(glob.glob(dirname + '/*.csv')):\n",
    "        df = pd.read_csv(filename)\n",
    "        path = Path(filename).stem\n",
    "        print(path)\n",
    "\n",
    "        preliminar_date = path\n",
    "        dts = datetime.strptime(preliminar_date, '%d%m%Y')\n",
    "        dts = dts.strftime('%Y-%m-%d')\n",
    "        df['Fecha'] = dts\n",
    "\n",
    "        df.to_csv(destination  + path + \".csv\",encoding=\"utf-8\", index = False)"
   ]
  },
  {
   "cell_type": "code",
   "execution_count": 251,
   "metadata": {},
   "outputs": [
    {
     "name": "stdout",
     "output_type": "stream",
     "text": [
      "01082020\n",
      "02082020\n",
      "03082020\n",
      "04082020\n",
      "05082020\n",
      "06082020\n",
      "07082020\n",
      "08082020\n",
      "09082020\n",
      "10082020\n",
      "11082020\n",
      "12082020\n",
      "13082020\n",
      "14082020\n",
      "15082020\n",
      "16082020\n",
      "17082020\n",
      "18082020\n",
      "19082020\n",
      "20082020\n",
      "21082020\n",
      "22082020\n",
      "23082020\n",
      "24082020\n",
      "25082020\n",
      "26082020\n",
      "27082020\n",
      "28082020\n",
      "29082020\n",
      "30082020\n",
      "31082020\n"
     ]
    }
   ],
   "source": [
    "time_stamp(\"./2020/august//\", \"./2020/august//\")"
   ]
  }
 ],
 "metadata": {
  "kernelspec": {
   "display_name": "Python 3",
   "language": "python",
   "name": "python3"
  },
  "language_info": {
   "codemirror_mode": {
    "name": "ipython",
    "version": 3
   },
   "file_extension": ".py",
   "mimetype": "text/x-python",
   "name": "python",
   "nbconvert_exporter": "python",
   "pygments_lexer": "ipython3",
   "version": "3.7.4"
  }
 },
 "nbformat": 4,
 "nbformat_minor": 2
}
